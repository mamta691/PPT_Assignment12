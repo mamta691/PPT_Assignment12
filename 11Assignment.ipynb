{
 "cells": [
  {
   "cell_type": "markdown",
   "id": "9366ddad-af1d-44b2-a380-a883ef1513a8",
   "metadata": {},
   "source": [
    "# 1. Make the String Great"
   ]
  },
  {
   "cell_type": "code",
   "execution_count": 1,
   "id": "df0f48a8-bdd5-4dc9-85fd-e2508718fbd1",
   "metadata": {},
   "outputs": [],
   "source": [
    "class Solution(object):\n",
    "    def makeGood(self, s):\n",
    "        \"\"\"\n",
    "        :type s: str\n",
    "        :rtype: str\n",
    "        \"\"\"\n",
    "        i = 0\n",
    "        while i < len(s)-1:\n",
    "            if s[i] == s[i+1]:\n",
    "                i += 1\n",
    "            elif s[i].lower() == s[i+1] or s[i].upper() == s[i+1]:\n",
    "                s = s[:i] + s[i+2:]\n",
    "                i = 0\n",
    "            else:\n",
    "                i += 1\n",
    "        \n",
    "        return s"
   ]
  },
  {
   "cell_type": "code",
   "execution_count": 5,
   "id": "abc89307-dd36-4104-95e8-202c792b467b",
   "metadata": {},
   "outputs": [
    {
     "data": {
      "text/plain": [
       "'leetcode'"
      ]
     },
     "execution_count": 5,
     "metadata": {},
     "output_type": "execute_result"
    }
   ],
   "source": [
    "obj=Solution()\n",
    "obj.makeGood(\"leetEecode\")"
   ]
  },
  {
   "cell_type": "markdown",
   "id": "02bf6e8e-e72e-4f59-84dd-7aa4ab70b4dc",
   "metadata": {},
   "source": [
    "# 2.Remove all adjacent duplicates in a String"
   ]
  },
  {
   "cell_type": "code",
   "execution_count": null,
   "id": "0e7a0266-e4cb-4237-96b1-55ebe8bfd9a5",
   "metadata": {},
   "outputs": [],
   "source": [
    "class Solution(object):\n",
    "    def removeDuplicates(self, s):\n",
    "        \"\"\"\n",
    "        :type s: str\n",
    "        :rtype: str\n",
    "        \"\"\"\n",
    "        res=[]\n",
    "    for x in s:\n",
    "        if len(res)>0 and res[-1]==x:\n",
    "            res.pop()\n",
    "        else:\n",
    "            res.append(x)\n",
    "        return \"\".join(res)\n",
    "       "
   ]
  },
  {
   "cell_type": "markdown",
   "id": "9cbc8699-5f7b-4b4b-8c38-aaedd2f344b8",
   "metadata": {},
   "source": [
    "# 3.Online Stock Span"
   ]
  },
  {
   "cell_type": "code",
   "execution_count": null,
   "id": "24acef95-d3a5-4448-8c2e-de091d866fce",
   "metadata": {},
   "outputs": [],
   "source": [
    "class StockSpanner(object):\n",
    "\n",
    "    def __init__(self):\n",
    "        \n",
    "        \n",
    "\n",
    "    def next(self, price):\n",
    "        \"\"\"\n",
    "        :type price: int\n",
    "        :rtype: int\n",
    "        \"\"\"\n",
    "        currStreak=1\n",
    "        while(self.stack and currPrice>=self.stack[-1][0]):\n",
    "            currStreak+=self.stack[-1][1]\n",
    "            self.stack.pop()\n",
    "        self.stack.append((currPrice,currStreak))\n",
    "        return currStreak\n",
    "        \n",
    "        \n",
    "   \n",
    "        \n",
    "    \n",
    "                    \n",
    "                    \n",
    "       \n",
    "        \n",
    "        \n",
    "        \n",
    "\n",
    "   "
   ]
  },
  {
   "cell_type": "markdown",
   "id": "34aa719d-97b8-4137-ad53-ad5a47530cf8",
   "metadata": {},
   "source": [
    "# 4.Time Needed to buy tickets"
   ]
  },
  {
   "cell_type": "code",
   "execution_count": 29,
   "id": "34f28541-42f2-4df8-bd3a-f6dd059c7de0",
   "metadata": {},
   "outputs": [],
   "source": [
    "class Solution(object):\n",
    "    def timeRequiredToBuy(self, tickets, k):\n",
    "        \"\"\"\n",
    "        :type tickets: List[int]\n",
    "        :type k: int\n",
    "        :rtype: int\n",
    "        \"\"\"\n",
    "        secs = 0 \n",
    "        i = 0\n",
    "        while tickets[k] != 0:\n",
    "            if tickets[i] != 0: # if it is zero that means we dont have to count it anymore\n",
    "                tickets[i] -= 1 # decrease the value by 1 everytime\n",
    "                secs += 1 # increase secs by 1\n",
    "\n",
    "            i = (i + 1) % len(tickets) # since after getting to the end of the array we have to return to the first value so we use the mod operator\n",
    "            \n",
    "        return secs\n",
    "        "
   ]
  },
  {
   "cell_type": "code",
   "execution_count": 30,
   "id": "e1b1b6d0-0144-4694-b678-8285483031a2",
   "metadata": {},
   "outputs": [
    {
     "data": {
      "text/plain": [
       "10"
      ]
     },
     "execution_count": 30,
     "metadata": {},
     "output_type": "execute_result"
    }
   ],
   "source": [
    "obj=Solution()\n",
    "obj.timeRequiredToBuy([5, 2, 3, 4],2)"
   ]
  },
  {
   "cell_type": "markdown",
   "id": "1182c6a4-2946-456b-bc59-102087268517",
   "metadata": {},
   "source": [
    "time complexity=O(n)"
   ]
  },
  {
   "cell_type": "markdown",
   "id": "209cd2d1-bd92-419e-8216-b853517f20ac",
   "metadata": {},
   "source": [
    "# 5.Product of the last K Numbers"
   ]
  },
  {
   "cell_type": "code",
   "execution_count": 32,
   "id": "13b11e90-5bbb-47ea-a74e-3744f58f2c7b",
   "metadata": {},
   "outputs": [],
   "source": [
    "class ProductOfNumbers(object):\n",
    "\n",
    "    def __init__(self):\n",
    "        self.queueList = []\n",
    "        self.length = 1\n",
    "        self.containsZero = False\n",
    "\n",
    "    def add(self, num):\n",
    "        if num == 0:\n",
    "            self.queueList = []\n",
    "            self.queueList.append(1)\n",
    "            self.containsZero = True\n",
    "        elif len(self.queueList) == 0:\n",
    "            self.queueList.append(1)\n",
    "            self.queueList.append(num)\n",
    "        else:\n",
    "            self.queueList.append(self.queueList[len(self.queueList) - 1] * num)\n",
    "\n",
    "        self.length += 1\n",
    "\n",
    "    def getProduct(self, k):\n",
    "        if self.containsZero:\n",
    "            index_0 = self.length - len(self.queueList)\n",
    "            if k >= self.length - index_0:\n",
    "                return 0\n",
    "                \n",
    "        return self.queueList[len(self.queueList)-1] // self.queueList[len(self.queueList) - k - 1]\n"
   ]
  },
  {
   "cell_type": "markdown",
   "id": "39f74401-cf59-456e-9194-da3af00c567b",
   "metadata": {},
   "source": [
    "# 6.Largest Rectangle in Histogram"
   ]
  },
  {
   "cell_type": "code",
   "execution_count": null,
   "id": "def5148b-6662-47eb-9160-70cd8a7699d1",
   "metadata": {},
   "outputs": [],
   "source": [
    "class Solution(object):\n",
    "    def largestRectangleArea(self, heights):\n",
    "        \"\"\"\n",
    "        :type heights: List[int]\n",
    "        :rtype: int\n",
    "        \"\"\"\n",
    "    res = [-1]*n \n",
    "    stack = deque() \n",
    "    stack.append(0)\n",
    "    for i in range (1,n):\n",
    "      val = arr[i] \n",
    "      if stack and arr[stack[-1]]<val:\n",
    "        res[i] = stack[-1]\n",
    "      else:\n",
    "        while stack and arr[stack[-1]]>=val:\n",
    "          stack.pop()\n",
    "        if stack:\n",
    "          res[i] = stack[-1] \n",
    "      stack.append(i)\n",
    "     return res \n",
    "      \n",
    "   # calculate right\n",
    "    def right(self,arr,n):\n",
    "    res=[n]*n \n",
    "    stack = deque()\n",
    "    stack.append(n-1)\n",
    "    for i in range(n-2,-1,-1):\n",
    "      val = arr[i]\n",
    "      if stack and arr[stack[-1]]<val:\n",
    "        res[i] = stack[-1] \n",
    "      else:\n",
    "        while stack and arr[stack[-1]]>=val:\n",
    "          stack.pop() \n",
    "        if stack:\n",
    "          res[i] = stack[-1] \n",
    "      stack.append(i)\n",
    "    return res \n",
    "    \n",
    "    def largestRectangleArea(self,height):\n",
    "    n = len(height)\n",
    "    left = self.left(height,n)\n",
    "    right = self.right(height,n)\n",
    "    maxArea = 0 \n",
    "    for i in range(n):\n",
    "      newArea = ((right[i]-left[i])-1)*(height[i])\n",
    "      maxArea = max(maxArea,newArea)\n",
    "    return maxArea \n",
    "    "
   ]
  },
  {
   "cell_type": "markdown",
   "id": "f745c9cc-99ce-45fd-8d87-8671c3a20794",
   "metadata": {},
   "source": [
    "# 7.Sliding Window Maximum"
   ]
  },
  {
   "cell_type": "code",
   "execution_count": 42,
   "id": "ebbaad1e-e441-4fcb-acce-9ee9b836de0a",
   "metadata": {},
   "outputs": [
    {
     "ename": "NameError",
     "evalue": "name 'nums' is not defined",
     "output_type": "error",
     "traceback": [
      "\u001b[0;31m---------------------------------------------------------------------------\u001b[0m",
      "\u001b[0;31mNameError\u001b[0m                                 Traceback (most recent call last)",
      "Cell \u001b[0;32mIn[42], line 1\u001b[0m\n\u001b[0;32m----> 1\u001b[0m \u001b[38;5;28;01mfor\u001b[39;00m i \u001b[38;5;129;01min\u001b[39;00m \u001b[38;5;28mrange\u001b[39m(\u001b[38;5;28mlen\u001b[39m(\u001b[43mnums\u001b[49m)):\n\u001b[1;32m      2\u001b[0m     \u001b[38;5;66;03m# Remove elements that are out of the current window\u001b[39;00m\n\u001b[1;32m      3\u001b[0m     \u001b[38;5;28;01mif\u001b[39;00m window \u001b[38;5;129;01mand\u001b[39;00m window[\u001b[38;5;241m0\u001b[39m] \u001b[38;5;241m<\u001b[39m\u001b[38;5;241m=\u001b[39m i \u001b[38;5;241m-\u001b[39m k:\n\u001b[1;32m      4\u001b[0m         window\u001b[38;5;241m.\u001b[39mpopleft()\n",
      "\u001b[0;31mNameError\u001b[0m: name 'nums' is not defined"
     ]
    }
   ],
   "source": [
    "class Solution(object):\n",
    "    def maxSlidingWindow(self, nums, k):\n",
    "        \"\"\"\n",
    "        :type nums: List[int]\n",
    "        :type k: int\n",
    "        :rtype: List[int]\n",
    "        \"\"\"\n",
    "        \n",
    "    "
   ]
  },
  {
   "cell_type": "markdown",
   "id": "548b8621-1eaf-4ec0-9825-e06135c3f760",
   "metadata": {},
   "source": [
    "# 8.Design a circular queue data structure with the following operations: enQueue, deQueue, Front, Rear, and isEmpty.\n",
    "\n"
   ]
  },
  {
   "cell_type": "markdown",
   "id": "fd55e96b-7cef-404a-bac2-fdfd8d64e6d1",
   "metadata": {},
   "source": [
    "# A Circular Queue is an extended version of a normal queue where the last element of the queue is connected to the first element of the queue forming a circle."
   ]
  },
  {
   "cell_type": "code",
   "execution_count": 40,
   "id": "70c273ea-928d-41c1-9f33-bea549e5b94c",
   "metadata": {},
   "outputs": [
    {
     "name": "stdout",
     "output_type": "stream",
     "text": [
      "Elements in the circular queue are: 14 22 13 -6 \n",
      "Deleted value =  14\n",
      "Deleted value =  22\n",
      "Elements in the circular queue are: 13 -6 \n",
      "Elements in Circular Queue are: 13 -6 9 20 5 \n",
      "Queue is Full\n"
     ]
    }
   ],
   "source": [
    "class CircularQueue():\n",
    " \n",
    "    # constructor\n",
    "    def __init__(self, size): # initializing the class\n",
    "        self.size = size\n",
    "         \n",
    "        # initializing queue with none\n",
    "        self.queue = [None for i in range(size)]\n",
    "        self.front = self.rear = -1\n",
    " \n",
    "    def enqueue(self, data):\n",
    "         \n",
    "        # condition if queue is full\n",
    "        if ((self.rear + 1) % self.size == self.front):\n",
    "            print(\" Queue is Full\\n\")\n",
    "             \n",
    "        # condition for empty queue\n",
    "        elif (self.front == -1):\n",
    "            self.front = 0\n",
    "            self.rear = 0\n",
    "            self.queue[self.rear] = data\n",
    "        else:\n",
    "             \n",
    "            # next position of rear\n",
    "            self.rear = (self.rear + 1) % self.size\n",
    "            self.queue[self.rear] = data\n",
    "             \n",
    "    def dequeue(self):\n",
    "        if (self.front == -1): # condition for empty queue\n",
    "            print (\"Queue is Empty\\n\")\n",
    "             \n",
    "        # condition for only one element\n",
    "        elif (self.front == self.rear):\n",
    "            temp=self.queue[self.front]\n",
    "            self.front = -1\n",
    "            self.rear = -1\n",
    "            return temp\n",
    "        else:\n",
    "            temp = self.queue[self.front]\n",
    "            self.front = (self.front + 1) % self.size\n",
    "            return temp\n",
    " \n",
    "    def display(self):\n",
    "     \n",
    "        # condition for empty queue\n",
    "        if(self.front == -1):\n",
    "            print (\"Queue is Empty\")\n",
    " \n",
    "        elif (self.rear >= self.front):\n",
    "            print(\"Elements in the circular queue are:\",\n",
    "                                              end = \" \")\n",
    "            for i in range(self.front, self.rear + 1):\n",
    "                print(self.queue[i], end = \" \")\n",
    "            print ()\n",
    " \n",
    "        else:\n",
    "            print (\"Elements in Circular Queue are:\",\n",
    "                                           end = \" \")\n",
    "            for i in range(self.front, self.size):\n",
    "                print(self.queue[i], end = \" \")\n",
    "            for i in range(0, self.rear + 1):\n",
    "                print(self.queue[i], end = \" \")\n",
    "            print ()\n",
    " \n",
    "        if ((self.rear + 1) % self.size == self.front):\n",
    "            print(\"Queue is Full\")\n",
    " \n",
    "# Driver Code\n",
    "ob = CircularQueue(5)\n",
    "ob.enqueue(14)\n",
    "ob.enqueue(22)\n",
    "ob.enqueue(13)\n",
    "ob.enqueue(-6)\n",
    "ob.display()\n",
    "print (\"Deleted value = \", ob.dequeue())\n",
    "print (\"Deleted value = \", ob.dequeue())\n",
    "ob.display()\n",
    "ob.enqueue(9)\n",
    "ob.enqueue(20)\n",
    "ob.enqueue(5)\n",
    "ob.display()"
   ]
  },
  {
   "cell_type": "code",
   "execution_count": null,
   "id": "3cb0c9c3-6ca1-4b51-bad5-2d4b612cb8bb",
   "metadata": {},
   "outputs": [],
   "source": []
  }
 ],
 "metadata": {
  "kernelspec": {
   "display_name": "Python 3 (ipykernel)",
   "language": "python",
   "name": "python3"
  },
  "language_info": {
   "codemirror_mode": {
    "name": "ipython",
    "version": 3
   },
   "file_extension": ".py",
   "mimetype": "text/x-python",
   "name": "python",
   "nbconvert_exporter": "python",
   "pygments_lexer": "ipython3",
   "version": "3.10.8"
  }
 },
 "nbformat": 4,
 "nbformat_minor": 5
}
