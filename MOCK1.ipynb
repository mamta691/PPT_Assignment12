{
 "cells": [
  {
   "cell_type": "code",
   "execution_count": 5,
   "id": "c1d86297-f272-463b-8a47-10da65b95f6b",
   "metadata": {},
   "outputs": [],
   "source": [
    "## IN_PLACE\n",
    "class Solution(object):\n",
    "    def moveZeroes(self, nums):\n",
    "        \"\"\"\n",
    "        :type nums: List[int]\n",
    "        :rtype: None Do not return anything, modify nums in-place instead.\n",
    "        \"\"\"\n",
    "        a=0\n",
    "        for i in range(len(nums)):\n",
    "            if(nums[i]!=0):\n",
    "                nums[a],nums[i]=nums[i],nums[a]\n",
    "                a+=1\n",
    "        return(nums) "
   ]
  },
  {
   "cell_type": "code",
   "execution_count": 6,
   "id": "4eb0f2fc-2cdd-4882-b826-dffd73658f24",
   "metadata": {},
   "outputs": [
    {
     "data": {
      "text/plain": [
       "[1, 3, 12, 0, 0]"
      ]
     },
     "execution_count": 6,
     "metadata": {},
     "output_type": "execute_result"
    }
   ],
   "source": [
    "obj=Solution()\n",
    "obj.moveZeroes([0,1,0,3,12])"
   ]
  },
  {
   "cell_type": "markdown",
   "id": "b6aa71fd-8dce-4862-ac80-a87202728610",
   "metadata": {},
   "source": [
    "time complexity=O(n)"
   ]
  },
  {
   "cell_type": "code",
   "execution_count": null,
   "id": "ab66beec-74ec-46f2-b9b4-343d58168ff4",
   "metadata": {},
   "outputs": [],
   "source": []
  }
 ],
 "metadata": {
  "kernelspec": {
   "display_name": "Python 3 (ipykernel)",
   "language": "python",
   "name": "python3"
  },
  "language_info": {
   "codemirror_mode": {
    "name": "ipython",
    "version": 3
   },
   "file_extension": ".py",
   "mimetype": "text/x-python",
   "name": "python",
   "nbconvert_exporter": "python",
   "pygments_lexer": "ipython3",
   "version": "3.10.8"
  }
 },
 "nbformat": 4,
 "nbformat_minor": 5
}
