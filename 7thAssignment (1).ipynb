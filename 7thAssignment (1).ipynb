{
 "cells": [
  {
   "cell_type": "markdown",
   "id": "6f9d468f-f25e-4e5a-8122-963dcbd1e510",
   "metadata": {},
   "source": [
    "# Question 1Given two strings s and t, *determine if they are isomorphic*.\n",
    "\n",
    "Two strings s and t are isomorphic if the characters in s can be replaced to get t.\n",
    "\n",
    "All occurrences of a character must be replaced with another character while preserving the order of characters. No two characters may map to the same character, but a character may map to itself.\n",
    "\n",
    "**Example 1:**\n",
    "\n",
    "**Input:** s = \"egg\", t = \"add\"\n",
    "\n",
    "**Output:** true\n",
    "\n",
    "</aside>"
   ]
  },
  {
   "cell_type": "code",
   "execution_count": 2,
   "id": "1095e649-fbaa-4702-a57f-93d5455bfa80",
   "metadata": {},
   "outputs": [],
   "source": [
    "class Solution(object):\n",
    "    def isIsomorphic(self, s, t):\n",
    "        \"\"\"\n",
    "        :type s: str\n",
    "        :type t: str\n",
    "        :rtype: bool\n",
    "        \"\"\"\n",
    "        d,n={},len(s)\n",
    "        for i in range(n):\n",
    "            if s[i] in d and d[s[i]]!=t[i]:\n",
    "                return False\n",
    "            d[s[i]]=t[i]\n",
    "        s1=set(list(s))\n",
    "        s2=set(list(t))\n",
    "        if len(s1)!=len(s2):\n",
    "            return False\n",
    "        return True"
   ]
  },
  {
   "cell_type": "code",
   "execution_count": 3,
   "id": "30b03441-3fab-4238-9101-d3b5ce0082d5",
   "metadata": {},
   "outputs": [
    {
     "data": {
      "text/plain": [
       "True"
      ]
     },
     "execution_count": 3,
     "metadata": {},
     "output_type": "execute_result"
    }
   ],
   "source": [
    "obj=Solution()\n",
    "obj.isIsomorphic(\"egg\",\"add\")"
   ]
  },
  {
   "cell_type": "markdown",
   "id": "050f8355-caff-4f0e-aec6-d25421656022",
   "metadata": {},
   "source": [
    "time complexity=O(n)"
   ]
  },
  {
   "cell_type": "markdown",
   "id": "49080408-ef1a-4c2a-a887-3997fd4dbb47",
   "metadata": {},
   "source": [
    "# Question 2Given a string num which represents an integer, return true *if* num *is a **strobogrammatic number***.\n",
    "\n",
    "A **strobogrammatic number** is a number that looks the same when rotated 180 degrees (looked at upside down).\n",
    "\n",
    "**Example 1:**\n",
    "\n",
    "**Input:** num = \"69\"\n",
    "\n",
    "**Output:**\n",
    "\n",
    "true\n",
    "\n",
    "</aside>"
   ]
  },
  {
   "cell_type": "markdown",
   "id": "c49c856f-a276-48ff-b0c5-42fd6bb8f3ca",
   "metadata": {},
   "source": [
    "# Question 3Given two non-negative integers, num1 and num2 represented as string, return *the sum of* num1 *and* num2 *as a string*.\n",
    "\n",
    "You must solve the problem without using any built-in library for handling large integers (such as BigInteger). You must also not convert the inputs to integers directly.\n",
    "\n",
    "**Example 1:**\n",
    "\n",
    "**Input:** num1 = \"11\", num2 = \"123\"\n",
    "\n",
    "**Output:**\n",
    "\n",
    "\"134\"\n",
    "\n",
    "</aside>"
   ]
  },
  {
   "cell_type": "code",
   "execution_count": 32,
   "id": "3ac23e65-9717-45c7-a952-db332b9ef62a",
   "metadata": {},
   "outputs": [],
   "source": [
    "class Solution(object):\n",
    "    def addStrings(self, num1, num2):\n",
    "        \"\"\"\n",
    "        :type num1: str\n",
    "        :type num2: str\n",
    "        :rtype: str\n",
    "        \"\"\"\n",
    "        def str2int(num):\n",
    "            result  = 0\n",
    "            for n in num:\n",
    "                result = result * 10 + ord(n) - ord('0')\n",
    "            return result\n",
    "        return str(str2int(num1) + str2int(num2))\n",
    "        \n",
    "       "
   ]
  },
  {
   "cell_type": "code",
   "execution_count": 33,
   "id": "24339133-5ddf-45ed-a10a-1b24a2c1fec3",
   "metadata": {},
   "outputs": [
    {
     "data": {
      "text/plain": [
       "'134'"
      ]
     },
     "execution_count": 33,
     "metadata": {},
     "output_type": "execute_result"
    }
   ],
   "source": [
    "obj=Solution()\n",
    "obj.addStrings(\"11\",\"123\")"
   ]
  },
  {
   "cell_type": "markdown",
   "id": "a9ab45e1-d351-4532-ae12-f959de9e7ee4",
   "metadata": {},
   "source": [
    "\n",
    "# Question 4Given a string s, reverse the order of characters in each word within a sentence while still preserving whitespace and initial word order.\n",
    "\n",
    "**Example 1:**\n",
    "\n",
    "**Input:** s = \"Let's take LeetCode contest\"\n",
    "\n",
    "**Output:** \"s'teL ekat edoCteeL tsetnoc\"\n",
    "\n",
    "</aside>"
   ]
  },
  {
   "cell_type": "code",
   "execution_count": 34,
   "id": "fdd91d87-084a-4ca6-8efd-403f577cb6b7",
   "metadata": {},
   "outputs": [],
   "source": [
    "class Solution(object):\n",
    "    def reverseWords(self, s):\n",
    "        \"\"\"\n",
    "        :type s: str\n",
    "        :rtype: str\n",
    "        \"\"\"\n",
    "        zero = \"\"\n",
    "        splited = s.split()\n",
    "        for i in splited:\n",
    "            for j in reversed(i):\n",
    "                zero += j\n",
    "            zero += \" \"\n",
    "        if zero[-1]==\" \":\n",
    "            return zero[:-1]\n",
    "        return zero"
   ]
  },
  {
   "cell_type": "code",
   "execution_count": 35,
   "id": "dc55e97b-378b-4185-9083-674ffd7f2f98",
   "metadata": {},
   "outputs": [
    {
     "data": {
      "text/plain": [
       "\"s'teL ekat edoCteeL tsetnoc\""
      ]
     },
     "execution_count": 35,
     "metadata": {},
     "output_type": "execute_result"
    }
   ],
   "source": [
    "obj=Solution()\n",
    "obj.reverseWords(\"Let's take LeetCode contest\")"
   ]
  },
  {
   "cell_type": "markdown",
   "id": "ba61cecd-2fdd-437c-80e0-c40eaac9a60c",
   "metadata": {},
   "source": [
    "\n",
    "## Question 5Given a string s and an integer k, reverse the first k characters for every 2k characters counting from the start of the string.\n",
    "\n",
    "If there are fewer than k characters left, reverse all of them. If there are less than 2k but greater than or equal to k characters, then reverse the first k characters and leave the other as original.\n",
    "\n",
    "**Example 1:**\n",
    "\n",
    "**Input:** s = \"abcdefg\", k = 2\n",
    "\n",
    "**Output:**\n",
    "\n",
    "\"bacdfeg\"\n",
    "\n",
    "</aside>"
   ]
  },
  {
   "cell_type": "code",
   "execution_count": 37,
   "id": "948d69c8-2df8-4d7d-9662-1dd95411e7bc",
   "metadata": {},
   "outputs": [],
   "source": [
    "class Solution(object):\n",
    "    def reverseStr(self, s, k):\n",
    "        \"\"\"\n",
    "        :type s: str\n",
    "        :type k: int\n",
    "        :rtype: str\n",
    "        \"\"\"\n",
    "        ans = \"\"\n",
    "        def helper(org=s):\n",
    "            nonlocal ans\n",
    "            n = 2*k\n",
    "            if len(org)<k:\n",
    "                ans += org[::-1]\n",
    "                return\n",
    "            else:\n",
    "                while len(org) > k:\n",
    "                    t = org[0:n]\n",
    "                    org = org[n:]\n",
    "                    x = t[0:k]\n",
    "                    t = t[k:]\n",
    "                    ans += x[::-1] + t\n",
    "                if len(org) <=k:\n",
    "                    ans += org[::-1]\n",
    "            return\n",
    "        helper()\n",
    "        return ans"
   ]
  },
  {
   "cell_type": "code",
   "execution_count": 38,
   "id": "29851f92-1be6-4e95-80db-cd6878ea807f",
   "metadata": {},
   "outputs": [
    {
     "data": {
      "text/plain": [
       "'bacdfeg'"
      ]
     },
     "execution_count": 38,
     "metadata": {},
     "output_type": "execute_result"
    }
   ],
   "source": [
    "obj=Solution()\n",
    "obj.reverseStr(\"abcdefg\",2)"
   ]
  },
  {
   "cell_type": "markdown",
   "id": "ebf9b8bf-4664-44ca-843a-237af75d4cac",
   "metadata": {},
   "source": [
    "# Question 6Given two strings s and goal, return true *if and only if* s *can become* goal *after some number of **shifts** on* s.\n",
    "\n",
    "A **shift** on s consists of moving the leftmost character of s to the rightmost position.\n",
    "\n",
    "- For example, if s = \"abcde\", then it will be \"bcdea\" after one shift.\n",
    "\n",
    "**Example 1:**\n",
    "\n",
    "**Input:** s = \"abcde\", goal = \"cdeab\"\n",
    "\n",
    "**Output:**\n",
    "\n",
    "true\n",
    "\n",
    "</aside>"
   ]
  },
  {
   "cell_type": "code",
   "execution_count": 39,
   "id": "963ada07-8829-4e47-a18f-e6ae97433ffd",
   "metadata": {},
   "outputs": [],
   "source": [
    "class Solution(object):\n",
    "    def rotateString(self, s, goal):\n",
    "        \"\"\"\n",
    "        :type s: str\n",
    "        :type goal: str\n",
    "        :rtype: bool\n",
    "        \"\"\"\n",
    "        \n",
    "        if len(s)!=len(goal):\n",
    "            return False\n",
    "\t\t\t\n",
    "        if len(s)>0 and len(goal)>0:\n",
    "            new_s = s+s\n",
    "            return (goal in new_s)\n",
    "        else:\n",
    "            return False"
   ]
  },
  {
   "cell_type": "code",
   "execution_count": 40,
   "id": "8fae97a4-765c-48e7-9ca1-aafdb3d16202",
   "metadata": {},
   "outputs": [
    {
     "data": {
      "text/plain": [
       "True"
      ]
     },
     "execution_count": 40,
     "metadata": {},
     "output_type": "execute_result"
    }
   ],
   "source": [
    "obj=Solution()\n",
    "obj.rotateString( \"abcde\",\"cdeab\")"
   ]
  },
  {
   "cell_type": "markdown",
   "id": "dd5a8f5c-b6e1-49c0-af57-f516164e992c",
   "metadata": {},
   "source": [
    "## Question7Given two strings s and t, return true *if they are equal when both are typed into empty text editors*. '#' means a backspace character.\n",
    "\n",
    "Note that after backspacing an empty text, the text will continue empty.\n",
    "\n",
    "**Example 1:**\n",
    "\n",
    "**Input:** s = \"ab#c\", t = \"ad#c\"\n",
    "\n",
    "**Output:** true\n",
    "\n",
    "**Explanation:**\n",
    "\n",
    "Both s and t become \"ac\".\n",
    "\n",
    "</aside>"
   ]
  },
  {
   "cell_type": "code",
   "execution_count": null,
   "id": "e59f13fd-569b-4818-93c7-60100cdf22b5",
   "metadata": {},
   "outputs": [],
   "source": [
    " \n",
    "    temp1=[]\n",
    "        temp2=[]\n",
    "        for i in range(max(len(s),len(t))):\n",
    "            if i<=len(s)-1:\n",
    "                if len(temp1)==0 and s[i]!='#':\n",
    "                    temp1.append(s[i])\n",
    "                elif s[i]=='#' and len(temp1)>0:\n",
    "                    temp1.pop()\n",
    "                elif s[i]!='#':\n",
    "                    temp1.append(s[i])\n",
    "\n",
    "            if i<=len(t)-1:\n",
    "                if len(temp2)==0 and t[i]!='#':\n",
    "                    temp2.append(t[i])\n",
    "                elif t[i]=='#' and len(temp2)>0:\n",
    "                    temp2.pop()\n",
    "                elif t[i]!='#':\n",
    "                    temp2.append(t[i])\n",
    "        if \"\".join(temp1)==\"\".join(temp2):\n",
    "            return True\n",
    "        else:return False"
   ]
  },
  {
   "cell_type": "code",
   "execution_count": 54,
   "id": "5457b8d1-9aa2-4564-a4c2-db113ace1a97",
   "metadata": {},
   "outputs": [
    {
     "ename": "AttributeError",
     "evalue": "'str' object has no attribute 'append'",
     "output_type": "error",
     "traceback": [
      "\u001b[0;31m---------------------------------------------------------------------------\u001b[0m",
      "\u001b[0;31mAttributeError\u001b[0m                            Traceback (most recent call last)",
      "Cell \u001b[0;32mIn[54], line 2\u001b[0m\n\u001b[1;32m      1\u001b[0m obj\u001b[38;5;241m=\u001b[39mSolution()\n\u001b[0;32m----> 2\u001b[0m \u001b[43mobj\u001b[49m\u001b[38;5;241;43m.\u001b[39;49m\u001b[43mbackspaceCompare\u001b[49m\u001b[43m(\u001b[49m\u001b[38;5;124;43m\"\u001b[39;49m\u001b[38;5;124;43mab#c\u001b[39;49m\u001b[38;5;124;43m\"\u001b[39;49m\u001b[43m,\u001b[49m\u001b[43m \u001b[49m\u001b[38;5;124;43m\"\u001b[39;49m\u001b[38;5;124;43mad#c\u001b[39;49m\u001b[38;5;124;43m\"\u001b[39;49m\u001b[43m)\u001b[49m\n",
      "Cell \u001b[0;32mIn[53], line 13\u001b[0m, in \u001b[0;36mSolution.backspaceCompare\u001b[0;34m(self, s, t)\u001b[0m\n\u001b[1;32m     11\u001b[0m             s\u001b[38;5;241m.\u001b[39mpop()\n\u001b[1;32m     12\u001b[0m     \u001b[38;5;28;01melse\u001b[39;00m:\n\u001b[0;32m---> 13\u001b[0m         \u001b[43ms\u001b[49m\u001b[38;5;241;43m.\u001b[39;49m\u001b[43mappend\u001b[49m(i)      \u001b[38;5;66;03m## if character is not '#' backspace then insert it into stack.\u001b[39;00m\n\u001b[1;32m     14\u001b[0m \u001b[38;5;28;01mfor\u001b[39;00m i \u001b[38;5;129;01min\u001b[39;00m t:\n\u001b[1;32m     15\u001b[0m     \u001b[38;5;28;01mif\u001b[39;00m i\u001b[38;5;241m==\u001b[39m\u001b[38;5;124m'\u001b[39m\u001b[38;5;124m#\u001b[39m\u001b[38;5;124m'\u001b[39m:\n",
      "\u001b[0;31mAttributeError\u001b[0m: 'str' object has no attribute 'append'"
     ]
    }
   ],
   "source": [
    "obj=Solution()\n",
    "obj.backspaceCompare(\"ab#c\", \"ad#c\")"
   ]
  },
  {
   "cell_type": "code",
   "execution_count": null,
   "id": "18020bd1-6e6f-4d7b-b078-f65cd8fd65e0",
   "metadata": {},
   "outputs": [],
   "source": []
  }
 ],
 "metadata": {
  "kernelspec": {
   "display_name": "Python 3 (ipykernel)",
   "language": "python",
   "name": "python3"
  },
  "language_info": {
   "codemirror_mode": {
    "name": "ipython",
    "version": 3
   },
   "file_extension": ".py",
   "mimetype": "text/x-python",
   "name": "python",
   "nbconvert_exporter": "python",
   "pygments_lexer": "ipython3",
   "version": "3.10.8"
  }
 },
 "nbformat": 4,
 "nbformat_minor": 5
}
