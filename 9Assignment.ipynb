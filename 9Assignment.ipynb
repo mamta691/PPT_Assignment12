{
 "cells": [
  {
   "cell_type": "markdown",
   "id": "e2c8f19a-c0e0-4895-932e-f235290299df",
   "metadata": {},
   "source": [
    "# Given a 1-indexed array of integers numbers that are already sorted in non-decreasing order, find two numbers such that they add up to a specific target number. Let these two numbers be numbers[index1] and numbers[index2] where 1 <= index1 < index2 < numbers.length.\n",
    "Return the indices of the two numbers, index1, and index2, added by one as an integer array [index1, index2] of length 2.\n",
    "The tests are generated such that there is exactly one solution. You may not use the same element twice.\n",
    "Your solution must use only constant extra space.\n",
    "Input: numbers = [2,7,11,15], target = 9\n",
    "Output: [1,2]\n",
    "Explanation: The sum of 2 and 7 is 9. Therefore, index1 = 1, index2 = 2. We return [1, 2].\n"
   ]
  },
  {
   "cell_type": "code",
   "execution_count": 1,
   "id": "ab2f3202-0ccd-4d09-8b4f-854245cfd06b",
   "metadata": {},
   "outputs": [],
   "source": [
    "class Solution(object):\n",
    "    def twoSum(self, numbers, target):\n",
    "        \"\"\"\n",
    "        :type numbers: List[int]\n",
    "        :type target: int\n",
    "        :rtype: List[int]\n",
    "        \"\"\"\n",
    "        i = 0\n",
    "        j = len(numbers) -1\n",
    "        \n",
    "        while numbers[i] + numbers[j]!=target:\n",
    "            s = numbers[i] + numbers[j]        \n",
    "            if s > target:\n",
    "                j-=1\n",
    "            else:\n",
    "               i+=1 \n",
    "        \n",
    "        return [i + 1 , j + 1]\n"
   ]
  },
  {
   "cell_type": "code",
   "execution_count": 2,
   "id": "b9d4d1ea-0de6-449a-9d54-2d1dfd2fba40",
   "metadata": {},
   "outputs": [],
   "source": [
    "obj=Solution()"
   ]
  },
  {
   "cell_type": "code",
   "execution_count": 3,
   "id": "7b51f49b-7b8d-4e25-b06a-70676660a8ff",
   "metadata": {},
   "outputs": [
    {
     "data": {
      "text/plain": [
       "[1, 2]"
      ]
     },
     "execution_count": 3,
     "metadata": {},
     "output_type": "execute_result"
    }
   ],
   "source": [
    "obj.twoSum([2,7,11,15],9)"
   ]
  },
  {
   "cell_type": "markdown",
   "id": "c64ceab3-711d-4bac-b25d-39124ad67807",
   "metadata": {},
   "source": [
    "Time - O(n)\n",
    "\n",
    "Space - O(1)"
   ]
  },
  {
   "cell_type": "markdown",
   "id": "5e67696e-3c84-45dc-8ebd-c4c4f574fd1e",
   "metadata": {},
   "source": [
    "\n",
    "# 2 Given an array of integer nums sorted in non-decreasing order, find the starting and ending position of a given target value.\n",
    "If the target is not found in the array, return [-1, -1].\n",
    "You must write an algorithm with O(log n) runtime complexity\n",
    "Input: nums = [5,7,7,8,8,10], target = 8\n",
    "Output: [3,4]\n"
   ]
  },
  {
   "cell_type": "code",
   "execution_count": 5,
   "id": "ea320319-1b2a-43ec-a8e3-bd8d1d6bea09",
   "metadata": {},
   "outputs": [],
   "source": [
    "class Solution(object):\n",
    "    def searchRange(self, nums, target):\n",
    "        \"\"\"\n",
    "        :type nums: List[int]\n",
    "        :type target: int\n",
    "        :rtype: List[int]\n",
    "        \"\"\"\n",
    "        def search(x):\n",
    "            lo, hi = 0, len(nums)           \n",
    "            while lo < hi:\n",
    "                mid = (lo + hi) // 2\n",
    "                if nums[mid] < x:\n",
    "                    lo = mid+1\n",
    "                else:\n",
    "                    hi = mid                    \n",
    "            return lo\n",
    "        \n",
    "        lo = search(target)\n",
    "        hi = search(target+1)-1\n",
    "        \n",
    "        if lo <= hi:\n",
    "            return [lo, hi]\n",
    "                \n",
    "        return [-1, -1]"
   ]
  },
  {
   "cell_type": "code",
   "execution_count": 6,
   "id": "1893b70e-9f26-406c-86c0-396e371b3c68",
   "metadata": {},
   "outputs": [
    {
     "data": {
      "text/plain": [
       "[3, 4]"
      ]
     },
     "execution_count": 6,
     "metadata": {},
     "output_type": "execute_result"
    }
   ],
   "source": [
    "obj=Solution()\n",
    "obj.searchRange([5,7,7,8,8,10],8)"
   ]
  },
  {
   "cell_type": "markdown",
   "id": "1ed991c2-a202-441f-bb0d-183c7599e99f",
   "metadata": {},
   "source": [
    "# A peak element is an element that is strictly greater than its neighbors.\n",
    "Given a 0-indexed integer array nums, find a peak element, and return its index. If the array contains multiple peaks, return the index to any of the peaks.\n",
    "You may imagine that nums[-1] = nums[n] = -∞. In other words, an element is always considered to be strictly greater than a neighbor that is outside the array.\n",
    "You must write an algorithm that runs in O(log n) time.\n",
    "Input: nums = [1,2,3,1]\n",
    "Output: 2\n",
    "Explanation: 3 is a peak element and your function should return the index number 2.\n"
   ]
  },
  {
   "cell_type": "code",
   "execution_count": 7,
   "id": "354155cd-6f4f-48ef-a178-633745a188a5",
   "metadata": {},
   "outputs": [],
   "source": [
    "class Solution(object):\n",
    "    def findPeakElement(self, nums):\n",
    "        \"\"\"\n",
    "        :type nums: List[int]\n",
    "        :rtype: int\n",
    "        \"\"\"\n",
    "        l, r = 0, len(nums)-1\n",
    "        while l <= r:\n",
    "            mid = l + (r-l)//2\n",
    "            if (mid-1<0 or nums[mid]>nums[mid-1]) and (mid+1>=len(nums) or nums[mid]>nums[mid+1]):\n",
    "                return mid\n",
    "            elif mid-1>=0 and nums[mid]<nums[mid-1]: # the opposite of the above \"if\" are these two \"elif\"\n",
    "                r = mid - 1\n",
    "            elif mid+1<len(nums) or nums[mid]<nums[mid+1]:\n",
    "                l = mid + 1\n",
    "        return l"
   ]
  },
  {
   "cell_type": "code",
   "execution_count": 9,
   "id": "4ceb1679-f4f3-4e2e-bf18-fdd08a71a93f",
   "metadata": {},
   "outputs": [
    {
     "data": {
      "text/plain": [
       "2"
      ]
     },
     "execution_count": 9,
     "metadata": {},
     "output_type": "execute_result"
    }
   ],
   "source": [
    "obj=Solution()\n",
    "obj.findPeakElement([1,2,3,1])"
   ]
  },
  {
   "cell_type": "markdown",
   "id": "03c7a267-2a8b-482f-b76e-fff06bd5aaf9",
   "metadata": {},
   "source": [
    "# 4 Given a sorted array of distinct integers and a target value, return the index if the target is found. If not, return the index where it would be if it were inserted in order.\n",
    "You must write an algorithm with O(log n) runtime complexity.\n",
    "Input: nums = [1,3,5,6], target = 5\n",
    "Output: 2\n",
    "\n",
    "Input: nums = [1,3,5,6], target = 7\n",
    "Output: 4\n"
   ]
  },
  {
   "cell_type": "code",
   "execution_count": 10,
   "id": "3062740b-7292-46e3-99e9-6fa967dcfeca",
   "metadata": {},
   "outputs": [],
   "source": [
    "class Solution(object):\n",
    "    def searchInsert(self, nums, target):\n",
    "        \"\"\"\n",
    "        :type nums: List[int]\n",
    "        :type target: int\n",
    "        :rtype: int\n",
    "        \"\"\"\n",
    "        start, end = 0, len(nums) - 1\n",
    "        # because it's a sorted array, if the target is larger than the last element, then insert the target at the end\n",
    "        if target > nums[len(nums) - 1]:\n",
    "            return len(nums)\n",
    "        # if the target is smaller than the first element, then insert the target at index 0 \n",
    "        if target < nums[0]:\n",
    "            return 0\n",
    "\t\t# ps: the codes work with or without those if conditions above. Give a try by commenting out the if conditions.\n",
    "        # binary search approach\n",
    "        while start <= end:\n",
    "            mid = math.floor((start + end) / 2) # mid = (start + end) // 2\n",
    "            if nums[mid] == target:\n",
    "                return mid\n",
    "            elif nums[mid] < target:\n",
    "                start = mid + 1\n",
    "            else:\n",
    "                end = mid - 1"
   ]
  },
  {
   "cell_type": "code",
   "execution_count": 12,
   "id": "c8456451-e047-40bd-8472-073f77847d8d",
   "metadata": {},
   "outputs": [
    {
     "data": {
      "text/plain": [
       "4"
      ]
     },
     "execution_count": 12,
     "metadata": {},
     "output_type": "execute_result"
    }
   ],
   "source": [
    "obj=Solution()\n",
    "obj.searchInsert([1,3,5,6],7)"
   ]
  },
  {
   "cell_type": "markdown",
   "id": "247306f1-e7a4-4a5c-b1ba-e36a6e96cb1c",
   "metadata": {},
   "source": [
    "\n",
    "# 5Find the majority element in the array. A majority element in an array A[] of size n is an element that appears more than n/2 times (and hence there is at most one such element). \n",
    "Input: A[]={3, 3, 4, 2, 4, 4, 2, 4, 4}\n",
    "Output: 4\n",
    "Explanation: The frequency of 4 is 5 which is greater than half of the size of the array size. \n",
    "\n"
   ]
  },
  {
   "cell_type": "code",
   "execution_count": 13,
   "id": "ad060b43-0a22-47cf-b80e-730505d89bde",
   "metadata": {},
   "outputs": [],
   "source": [
    "class Solution(object):\n",
    "    def majorityElement(self, nums):\n",
    "        \"\"\"\n",
    "        :type nums: List[int]\n",
    "        :rtype: int\n",
    "        \"\"\"\n",
    "        curr, count = nums[0], 1                   # curr will store the current majority element, count will store the count of the majority\n",
    "        for i in nums[1:]:\n",
    "            count += (1 if curr == i else -1)      # if i is equal to current majority, they're in same team, hence added, else one current majority and i both will be dead\n",
    "            if not count:                          # if count of current majority is zero, then change the majority element, and start its count from 1\n",
    "                curr = i\n",
    "                count = 1\n",
    "        return curr"
   ]
  },
  {
   "cell_type": "code",
   "execution_count": 15,
   "id": "cdf27af6-cc0a-420b-a58e-961a7264e296",
   "metadata": {},
   "outputs": [
    {
     "data": {
      "text/plain": [
       "4"
      ]
     },
     "execution_count": 15,
     "metadata": {},
     "output_type": "execute_result"
    }
   ],
   "source": [
    "obj=Solution()\n",
    "obj.majorityElement([3, 3, 4, 2, 4, 4, 2, 4, 4])"
   ]
  },
  {
   "cell_type": "markdown",
   "id": "bd4c270b-98ac-49a4-a860-8fc0b2dac472",
   "metadata": {},
   "source": [
    "time complexity=O(n)"
   ]
  },
  {
   "cell_type": "markdown",
   "id": "185975a7-3a91-4539-8637-5cf779f1b053",
   "metadata": {},
   "source": [
    "\n",
    "# 6.You are a product manager and currently leading a team to develop a new product. Unfortunately, the latest version of your product fails the quality check. Since each version is developed based on the previous version, all the versions after a bad version are also bad.\n",
    "Suppose you have n versions [1, 2, ..., n] and you want to find out the first bad one, which causes all the following ones to be bad.\n",
    "You are given an API bool isBadVersion(version) which returns whether the version is bad. Implement a function to find the first bad version. You should minimize the number of calls to the API.\n",
    "Input: n = 5, bad = 4\n",
    "Output: 4\n",
    "Explanation:\n",
    "call isBadVersion(3) -> false\n",
    "call isBadVersion(5) -> true\n",
    "call isBadVersion(4) -> true\n",
    "Then 4 is the first bad version.\n"
   ]
  },
  {
   "cell_type": "code",
   "execution_count": 31,
   "id": "c4c742b2-00f8-4c13-8602-f6c09744e40c",
   "metadata": {},
   "outputs": [],
   "source": [
    "class Solution(object):\n",
    "    def firstBadVersion(self, n):\n",
    "        \"\"\"\n",
    "        :type n: int\n",
    "        :rtype: int\n",
    "        \"\"\"\n",
    "        left = 1\n",
    "        right = n\n",
    "        result = 1\n",
    "        def isBadVersion(version):\n",
    "             while left<=right:\n",
    "                mid = (left+right)//2\n",
    "                if isBadVersion(mid) == False:\n",
    "                    \n",
    "                    left = mid+1\n",
    "                else:\n",
    "                    \n",
    "                    right = mid-1\n",
    "                    result = mid\n",
    "                \n",
    "                    return result\n",
    "            \n",
    "        \n",
    "       "
   ]
  },
  {
   "cell_type": "code",
   "execution_count": 32,
   "id": "7c07ea98-b908-4033-b4e8-6cf8917939c2",
   "metadata": {},
   "outputs": [],
   "source": [
    "obj=Solution()\n",
    "obj.firstBadVersion(5)\n",
    "\n"
   ]
  },
  {
   "cell_type": "markdown",
   "id": "a6611436-ebdb-4445-8051-6d3b45a1de77",
   "metadata": {},
   "source": [
    "# 7.Given an array of integers, find the inversion of an array. Formally, two elements a[i] and a[j] form an inversion if a[i] > a[j] and i < j.\n",
    "N=5, arr[] = {2, 4, 1, 3, 5}\n",
    "Output: 3\n",
    "Explanation: (2,1) (4,1) and (4,3) forms an inversion in an array\n"
   ]
  },
  {
   "cell_type": "code",
   "execution_count": 33,
   "id": "b15ded84-fc81-4a06-86b9-4e906fad6739",
   "metadata": {},
   "outputs": [
    {
     "name": "stdout",
     "output_type": "stream",
     "text": [
      "Number of inversions are 3\n"
     ]
    }
   ],
   "source": [
    " \n",
    "def getInvCount(arr, n):\n",
    " \n",
    "    inv_count = 0\n",
    "    for i in range(n):\n",
    "        for j in range(i + 1, n):\n",
    "            if (arr[i] > arr[j]):\n",
    "                inv_count += 1\n",
    " \n",
    "    return inv_count\n",
    " \n",
    " \n",
    "# Driver Code\n",
    "arr = [2, 4, 1, 3, 5]\n",
    "n = len(arr)\n",
    "print(\"Number of inversions are\",\n",
    "      getInvCount(arr, n))"
   ]
  },
  {
   "cell_type": "markdown",
   "id": "6808ab06-ddb9-4dcd-90fd-a80f10b92311",
   "metadata": {},
   "source": [
    "# 8.Given three arrays sorted in non-decreasing order, print all common elements in these arrays.\n",
    "ar1[] = {1, 5, 10, 20, 40, 80} \n",
    "ar2[] = {6, 7, 20, 80, 100} \n",
    "ar3[] = {3, 4, 15, 20, 30, 70, 80, 120} \n",
    "Output: 20, 80\n"
   ]
  },
  {
   "cell_type": "code",
   "execution_count": 37,
   "id": "53dee913-8b49-4f6e-9730-d877bd89379a",
   "metadata": {},
   "outputs": [
    {
     "name": "stdout",
     "output_type": "stream",
     "text": [
      "Common elements are\n",
      "20\n",
      "80\n"
     ]
    }
   ],
   "source": [
    "\n",
    "# Python function to print common elements in three sorted arrays\n",
    "def findCommon(ar1, ar2, ar3, n1, n2, n3):\n",
    " \n",
    "    # Initialize starting indexes for ar1[], ar2[] and ar3[]\n",
    "    i, j, k = 0, 0, 0\n",
    " \n",
    "    # Iterate through three arrays while all arrays have elements\n",
    "    while (i < n1 and j < n2 and k < n3):\n",
    " \n",
    "        # If x = y and y = z, print any of them and move ahead\n",
    "        # in all arrays\n",
    "        if (ar1[i] == ar2[j] and ar2[j] == ar3[k]):\n",
    "            print(ar1[i])\n",
    "            i += 1\n",
    "            j += 1\n",
    "            k += 1\n",
    " \n",
    "        # x < y\n",
    "        elif ar1[i] < ar2[j]:\n",
    "            i += 1\n",
    " \n",
    "        # y < z\n",
    "        elif ar2[j] < ar3[k]:\n",
    "            j += 1\n",
    " \n",
    "        # We reach here when x > y and z < y, i.e., z is smallest\n",
    "        else:\n",
    "            k += 1\n",
    " \n",
    " \n",
    "\n",
    "ar1 = [1, 5, 10, 20, 40, 80]\n",
    "ar2 = [6, 7, 20, 80, 100]\n",
    "ar3 = [3, 4, 15, 20, 30, 70, 80, 120]\n",
    "n1 = len(ar1)\n",
    "n2 = len(ar2)\n",
    "n3 = len(ar3)\n",
    "print(\"Common elements are\"),\n",
    "findCommon(ar1, ar2, ar3, n1, n2, n3)\n",
    " "
   ]
  },
  {
   "cell_type": "code",
   "execution_count": null,
   "id": "95b4ebe7-8e91-4389-b04c-87fb1b08c3ed",
   "metadata": {},
   "outputs": [],
   "source": []
  }
 ],
 "metadata": {
  "kernelspec": {
   "display_name": "Python 3 (ipykernel)",
   "language": "python",
   "name": "python3"
  },
  "language_info": {
   "codemirror_mode": {
    "name": "ipython",
    "version": 3
   },
   "file_extension": ".py",
   "mimetype": "text/x-python",
   "name": "python",
   "nbconvert_exporter": "python",
   "pygments_lexer": "ipython3",
   "version": "3.10.8"
  }
 },
 "nbformat": 4,
 "nbformat_minor": 5
}
