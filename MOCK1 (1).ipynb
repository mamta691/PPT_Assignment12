{
 "cells": [
  {
   "cell_type": "code",
   "execution_count": 13,
   "id": "c1d86297-f272-463b-8a47-10da65b95f6b",
   "metadata": {},
   "outputs": [],
   "source": [
    "\n",
    "def firstUniqueChar(s, n):\n",
    "    \n",
    "    #  iterate throught all indexex and try to find out if it is unique.\n",
    "    for i in range(n):\n",
    "        # The variable unique will tell us wether index i unique or not.\n",
    "        unique = True\n",
    "       \n",
    "        for j in range(n):\n",
    "            if i != j:\n",
    "                if s[i] == s[j]:\n",
    "                    unique = False\n",
    "                    break\n",
    "                \n",
    "        \n",
    "        if unique == True:\n",
    "            return i \n",
    "            \n",
    "    # We will reach here only if none of the characters are unique so we will return -1.\n",
    "    return -1\n"
   ]
  },
  {
   "cell_type": "code",
   "execution_count": 14,
   "id": "4eb0f2fc-2cdd-4882-b826-dffd73658f24",
   "metadata": {},
   "outputs": [
    {
     "data": {
      "text/plain": [
       "0"
      ]
     },
     "execution_count": 14,
     "metadata": {},
     "output_type": "execute_result"
    }
   ],
   "source": [
    "firstUniqueChar(['l','e','e','t','c','o','d','e'],8)"
   ]
  },
  {
   "cell_type": "markdown",
   "id": "b0be322e-66f4-4fc8-afdc-a3f29b6e02f2",
   "metadata": {},
   "source": [
    "Bruteforce approach used to traverse all array to find out unique value index\n",
    "\n",
    "time complexity=O(N)\n"
   ]
  },
  {
   "cell_type": "code",
   "execution_count": null,
   "id": "403211d1-03e5-44fc-9200-89e60a3624ae",
   "metadata": {},
   "outputs": [],
   "source": []
  }
 ],
 "metadata": {
  "kernelspec": {
   "display_name": "Python 3 (ipykernel)",
   "language": "python",
   "name": "python3"
  },
  "language_info": {
   "codemirror_mode": {
    "name": "ipython",
    "version": 3
   },
   "file_extension": ".py",
   "mimetype": "text/x-python",
   "name": "python",
   "nbconvert_exporter": "python",
   "pygments_lexer": "ipython3",
   "version": "3.10.8"
  }
 },
 "nbformat": 4,
 "nbformat_minor": 5
}
