{
 "cells": [
  {
   "cell_type": "markdown",
   "id": "64f56691-9375-4e6a-ae44-b52beeadf80b",
   "metadata": {},
   "source": [
    "# Question 1Given two strings s1 and s2, return *the lowest **ASCII** sum of deleted characters to make two strings equal*.\n",
    "\n",
    "**Example 1:**\n",
    "\n",
    "**Input:** s1 = \"sea\", s2 = \"eat\"\n",
    "\n",
    "**Output:** 231\n",
    "\n",
    "**Explanation:** Deleting \"s\" from \"sea\" adds the ASCII value of \"s\" (115) to the sum.\n",
    "\n",
    "Deleting \"t\" from \"eat\" adds 116 to the sum.\n",
    "\n",
    "At the end, both strings are equal, and 115 + 116 = 231 is the minimum sum possible to achieve this.\n",
    "\n",
    "</aside>"
   ]
  },
  {
   "cell_type": "code",
   "execution_count": 2,
   "id": "b8cccf87-dbed-406e-8a15-df9f307dcacd",
   "metadata": {},
   "outputs": [],
   "source": [
    "class Solution(object):\n",
    "    def minimumDeleteSum(self, s1, s2):\n",
    "        \"\"\"\n",
    "        :type s1: str\n",
    "        :type s2: str\n",
    "        :rtype: int\n",
    "        \"\"\"\n",
    "        m = len(s1)+1\n",
    "        n = len(s2)+1\n",
    "        dp=[[0 for i in range(m)]for j in range(n)]\n",
    "        for i in range(1,n):\n",
    "            for j in range(1,m):\n",
    "                if s1[j-1]==s2[i-1]:\n",
    "                    dp[i][j] = ord(s1[j-1])+dp[i-1][j-1]\n",
    "                else:\n",
    "                    dp[i][j] = max(dp[i-1][j],dp[i][j-1])\n",
    "        tot = 0\n",
    "        for i in s1:\n",
    "            tot+=ord(i)\n",
    "        for i in s2:\n",
    "            tot+=ord(i)\n",
    "        return tot-2*dp[-1][-1]\n",
    "\n",
    "        "
   ]
  },
  {
   "cell_type": "code",
   "execution_count": 3,
   "id": "bc509e7b-08e5-4c76-a05f-55530f273292",
   "metadata": {},
   "outputs": [
    {
     "data": {
      "text/plain": [
       "231"
      ]
     },
     "execution_count": 3,
     "metadata": {},
     "output_type": "execute_result"
    }
   ],
   "source": [
    "obj=Solution()\n",
    "obj.minimumDeleteSum( \"sea\",\"eat\")"
   ]
  },
  {
   "cell_type": "markdown",
   "id": "5aac46c2-8b9f-4e81-b3d1-2a632feea8cf",
   "metadata": {},
   "source": [
    "# Question 2Given a string s containing only three types of characters: '(', ')' and '*', return true *if* s *is **valid***.\n",
    "\n",
    "The following rules define a **valid** string:\n",
    "\n",
    "- Any left parenthesis '(' must have a corresponding right parenthesis ')'.\n",
    "- Any right parenthesis ')' must have a corresponding left parenthesis '('.\n",
    "- Left parenthesis '(' must go before the corresponding right parenthesis ')'.\n",
    "- '*' could be treated as a single right parenthesis ')' or a single left parenthesis '(' or an empty string \"\".\n",
    "\n",
    "**Example 1:**\n",
    "\n",
    "**Input:** s = \"()\"\n",
    "\n",
    "**Output:**\n",
    "\n",
    "true\n",
    "\n"
   ]
  },
  {
   "cell_type": "code",
   "execution_count": 4,
   "id": "66d6defe-a193-48e8-baf6-91901c9d79d5",
   "metadata": {},
   "outputs": [],
   "source": [
    "class Solution(object):\n",
    "    def checkValidString(self, s):\n",
    "        \"\"\"\n",
    "        :type s: str\n",
    "        :rtype: bool\n",
    "        \"\"\"\n",
    "        leftmin = leftmax = 0\n",
    "        for c in s:\n",
    "            if c == \"(\":\n",
    "                leftmax += 1\n",
    "                leftmin += 1\n",
    "            if c == \")\":\n",
    "                leftmax -= 1\n",
    "                leftmin = max(0, leftmin-1)\n",
    "            if c == \"*\":\n",
    "                leftmax +=1\n",
    "                leftmin = max(0, leftmin-1)\n",
    "            if leftmax < 0:\n",
    "                return False\n",
    "        if leftmin == 0:\n",
    "            return True\n",
    "        "
   ]
  },
  {
   "cell_type": "code",
   "execution_count": 5,
   "id": "a930cbcf-724e-498a-9505-1c209d592782",
   "metadata": {},
   "outputs": [
    {
     "data": {
      "text/plain": [
       "True"
      ]
     },
     "execution_count": 5,
     "metadata": {},
     "output_type": "execute_result"
    }
   ],
   "source": [
    "obj=Solution()\n",
    "obj.checkValidString(())"
   ]
  },
  {
   "cell_type": "markdown",
   "id": "8e685206-1f05-42c9-9f0e-df86acd65591",
   "metadata": {},
   "source": [
    "# Question 3Given two strings word1 and word2, return *the minimum number of **steps** required to make* word1 *and* word2 *the same*.\n",
    "\n",
    "In one **step**, you can delete exactly one character in either string.\n",
    "\n",
    "**Example 1:**\n",
    "\n",
    "**Input:** word1 = \"sea\", word2 = \"eat\"\n",
    "\n",
    "**Output:** 2\n",
    "\n",
    "**Explanation:** You need one step to make \"sea\" to \"ea\" and another step to make \"eat\" to \"ea\".\n",
    "\n",
    "</aside>"
   ]
  },
  {
   "cell_type": "code",
   "execution_count": 6,
   "id": "2ea7446a-7180-4581-b70a-f4ba8c364fe8",
   "metadata": {},
   "outputs": [],
   "source": [
    "class Solution(object):\n",
    "    def minDistance(self, word1, word2):\n",
    "        \"\"\"\n",
    "        :type word1: str\n",
    "        :type word2: str\n",
    "        :rtype: int\n",
    "        \"\"\"\n",
    "        m = len(word1)\n",
    "        n = len(word2)\n",
    "        a = []\n",
    "        for i in range(m+1):\n",
    "            a.append([])\n",
    "            for j in range(n+1):\n",
    "                a[-1].append(0)\n",
    "        \n",
    "        for i in range(m):\n",
    "            for j in range(n):\n",
    "                if word1[i]==word2[j]:\n",
    "                    a[i+1][j+1] = 1 + a[i][j]\n",
    "                else:\n",
    "                    a[i+1][j+1] = max( a[i][j+1], a[i+1][j])\n",
    "\t\t\t\t\t\n",
    "        return m + n - ( 2 * a [-1][-1] )"
   ]
  },
  {
   "cell_type": "code",
   "execution_count": 7,
   "id": "0cab3d2e-2d3e-4bc0-89f2-47dadc019d04",
   "metadata": {},
   "outputs": [
    {
     "data": {
      "text/plain": [
       "2"
      ]
     },
     "execution_count": 7,
     "metadata": {},
     "output_type": "execute_result"
    }
   ],
   "source": [
    "obj=Solution()\n",
    "obj.minDistance( \"sea\", \"eat\")"
   ]
  },
  {
   "cell_type": "markdown",
   "id": "26ec9d41-8dbf-48b4-b17c-55b3e1b0c735",
   "metadata": {},
   "source": [
    "# Question 4You need to construct a binary tree from a string consisting of parenthesis and integers.\n",
    "\n",
    "The whole input represents a binary tree. It contains an integer followed by zero, one or two pairs of parenthesis. The integer represents the root's value and a pair of parenthesis contains a child binary tree with the same structure.\n",
    "You always start to construct the **left** child node of the parent first if it exists.\n",
    "\n",
    "**Input:** s = \"4(2(3)(1))(6(5))\"\n",
    "\n",
    "**Output:** [4,2,6,3,1,5]"
   ]
  },
  {
   "cell_type": "code",
   "execution_count": 8,
   "id": "17f740c7-4425-459b-ac83-a15446a560e6",
   "metadata": {},
   "outputs": [],
   "source": [
    "# Definition for a binary tree node.\n",
    "# class TreeNode(object):\n",
    "#     def __init__(self, val=0, left=None, right=None):\n",
    "#         self.val = val\n",
    "#         self.left = left\n",
    "#         self.right = right\n",
    "class Solution(object):\n",
    "    def tree2str(self, root):\n",
    "        \"\"\"\n",
    "        :type root: TreeNode\n",
    "        :rtype: str\n",
    "        \"\"\"\n",
    "        def dfs(s):\n",
    "            \"\"\"\n",
    "            :type s:str\n",
    "            \"\"\"\n",
    "            if not s:\n",
    "                return None\n",
    "            p = s.find('(')\n",
    "            if p == -1:\n",
    "                return TreeNode(int(s))\n",
    "            root = TreeNode(int(s[:p]))\n",
    "            start = p\n",
    "            cnt = 0\n",
    "            for i in range(p, len(s)):\n",
    "                if s[i] == '(':\n",
    "                    cnt += 1\n",
    "                elif s[i] == ')':\n",
    "                    cnt -= 1\n",
    "                if cnt == 0:\n",
    "                    if not root.left: # or, 'if start == p:'\n",
    "                        root.left = dfs(s[start + 1 : i])\n",
    "                        start = i + 1\n",
    "                    else:\n",
    "                        root.right = dfs(s[start + 1 : i])\n",
    "            return root\n",
    "\n",
    "        return dfs(s)\n",
    "\n",
    "        "
   ]
  },
  {
   "cell_type": "markdown",
   "id": "d9ba8e24-566e-4c6b-abe3-f1efbbaebf4d",
   "metadata": {},
   "source": [
    "# Question 5Given an array of characters chars, compress it using the following algorithm:\n",
    "\n",
    "Begin with an empty string s. For each group of **consecutive repeating characters** in chars:\n",
    "\n",
    "- If the group's length is 1, append the character to s.\n",
    "- Otherwise, append the character followed by the group's length.\n",
    "\n",
    "The compressed string s **should not be returned separately**, but instead, be stored **in the input character array chars**. Note that group lengths that are 10 or longer will be split into multiple characters in chars.\n",
    "\n",
    "After you are done **modifying the input array,** return *the new length of the array*.\n",
    "\n",
    "You must write an algorithm that uses only constant extra space.\n",
    "\n",
    "**Example 1:**\n",
    "\n",
    "**Input:** chars = [\"a\",\"a\",\"b\",\"b\",\"c\",\"c\",\"c\"]\n",
    "\n",
    "**Output:** Return 6, and the first 6 characters of the input array should be: [\"a\",\"2\",\"b\",\"2\",\"c\",\"3\"]\n",
    "\n",
    "**Explanation:**\n",
    "\n",
    "The groups are \"aa\", \"bb\", and \"ccc\". This compresses to \"a2b2c3\".\n",
    "\n",
    "</aside>"
   ]
  },
  {
   "cell_type": "code",
   "execution_count": 1,
   "id": "168f2aa4-f8a7-4ac3-83b5-5a0e9e936f7c",
   "metadata": {},
   "outputs": [],
   "source": [
    "class Solution(object):\n",
    "    def compress(self, chars):\n",
    "        \"\"\"\n",
    "        :type chars: List[str]\n",
    "        :rtype: int\n",
    "        \"\"\"\n",
    "        stack=[]\n",
    "        lst=[]\n",
    "        for i in chars:\n",
    "            if stack and stack[-1]!=i:\n",
    "                lst.append(stack[-1])\n",
    "                if len(stack)!=1:\n",
    "                    ln=str(len(stack))\n",
    "                    for num in ln:\n",
    "                        lst.append(num)\n",
    "                stack=[]\n",
    "                stack.append(i)\n",
    "            else:\n",
    "                stack.append(i)\n",
    "        lst.append(stack[-1])\n",
    "        if len(stack)!=1:\n",
    "            ln=str(len(stack))\n",
    "            for num in ln:\n",
    "                lst.append(num)\n",
    "        chars[:]=lst"
   ]
  },
  {
   "cell_type": "code",
   "execution_count": 3,
   "id": "8cbc4b7c-f7ac-480a-82f0-599ac5645fab",
   "metadata": {},
   "outputs": [],
   "source": [
    "obj=Solution()\n",
    "obj.compress( [\"a\",\"a\",\"b\",\"b\",\"c\",\"c\",\"c\"])"
   ]
  },
  {
   "cell_type": "code",
   "execution_count": null,
   "id": "c6d08388-f880-4ea3-b7ba-2c73a1e00dbd",
   "metadata": {},
   "outputs": [],
   "source": []
  },
  {
   "cell_type": "markdown",
   "id": "e120632c-8a06-4571-878f-d2cb56d7a533",
   "metadata": {},
   "source": [
    "# Question 6Given two strings s and p, return *an array of all the start indices of* p*'s anagrams in* s. You may return the answer in **any order**.\n",
    "\n",
    "An **Anagram** is a word or phrase formed by rearranging the letters of a different word or phrase, typically using all the original letters exactly once.\n",
    "\n",
    "**Example 1:**\n",
    "\n",
    "**Input:** s = \"cbaebabacd\", p = \"abc\"\n",
    "\n",
    "**Output:** [0,6]\n",
    "\n",
    "**Explanation:**\n",
    "\n",
    "The substring with start index = 0 is \"cba\", which is an anagram of \"abc\".\n",
    "\n",
    "The substring with start index = 6 is \"bac\", which is an anagram of \"abc\".\n",
    "\n",
    "</aside>"
   ]
  },
  {
   "cell_type": "code",
   "execution_count": 4,
   "id": "952da057-0897-482d-8b8a-05946882a0f0",
   "metadata": {},
   "outputs": [],
   "source": [
    "class Solution(object):\n",
    "    def findAnagrams(self, s, p):\n",
    "        \"\"\"\n",
    "        :type s: str\n",
    "        :type p: str\n",
    "        :rtype: List[int]\n",
    "        \"\"\"\n",
    "        ans = []\n",
    "        count = Counter(p)\n",
    "        required = len(p)\n",
    "\n",
    "        for r, c in enumerate(s):\n",
    "            count[c] -= 1\n",
    "            if count[c] >= 0:\n",
    "                required -= 1\n",
    "            if r >= len(p):\n",
    "                left_char = s[r - len(p)]\n",
    "                count[left_char] += 1\n",
    "                if count[left_char] > 0:\n",
    "                    required += 1\n",
    "            if required == 0:\n",
    "                ans.append(r - len(p) + 1)\n",
    "        "
   ]
  },
  {
   "cell_type": "markdown",
   "id": "df11e15a-531f-40fa-ba0f-b43a78ca1e45",
   "metadata": {},
   "source": [
    "# Question 7Given an encoded string, return its decoded string.\n",
    "\n",
    "The encoding rule is: k[encoded_string], where the encoded_string inside the square brackets is being repeated exactly k times. Note that k is guaranteed to be a positive integer.\n",
    "\n",
    "You may assume that the input string is always valid; there are no extra white spaces, square brackets are well-formed, etc. Furthermore, you may assume that the original data does not contain any digits and that digits are only for those repeat numbers, k. For example, there will not be input like 3a or 2[4].\n",
    "\n",
    "The test cases are generated so that the length of the output will never exceed 105.\n",
    "\n",
    "**Example 1:**\n",
    "\n",
    "**Input:** s = \"3[a]2[bc]\"\n",
    "\n",
    "**Output:** \"aaabcbc\"\n",
    "\n",
    "</aside>"
   ]
  },
  {
   "cell_type": "code",
   "execution_count": 5,
   "id": "dd5add77-b35f-4def-abd4-bcbdae907024",
   "metadata": {},
   "outputs": [],
   "source": [
    "class Solution(object):\n",
    "    def decodeString(self, s):\n",
    "        \"\"\"\n",
    "        :type s: str\n",
    "        :rtype: str\n",
    "        \"\"\"\n",
    "        stack = []\n",
    "        for i in range(len(s)):\n",
    "            if s[i]!= ']':\n",
    "                stack.append(s[i])\n",
    "            else:\n",
    "                substr = \"\"\n",
    "                while(stack[-1]!='['):\n",
    "                    substr = stack.pop() + substr\n",
    "                stack.pop();\n",
    "                k = \"\"\n",
    "                while stack and stack[-1].isdigit():\n",
    "                    k = stack.pop()+k\n",
    "                \n",
    "                stack.append(int(k) * substr)\n",
    "        \n",
    "        return \"\".join(stack)\n",
    "                "
   ]
  },
  {
   "cell_type": "code",
   "execution_count": 6,
   "id": "09bb9319-c3ed-4b39-bf78-2c23b1939beb",
   "metadata": {},
   "outputs": [
    {
     "data": {
      "text/plain": [
       "'aaabcbc'"
      ]
     },
     "execution_count": 6,
     "metadata": {},
     "output_type": "execute_result"
    }
   ],
   "source": [
    "obj=Solution()\n",
    "obj.decodeString( \"3[a]2[bc]\")"
   ]
  },
  {
   "cell_type": "markdown",
   "id": "87adce73-8360-4a19-9a51-e28bebf34c82",
   "metadata": {},
   "source": [
    "# *Question 8**\n",
    "\n",
    "Given two strings s and goal, return true *if you can swap two letters in* s *so the result is equal to* goal*, otherwise, return* false*.*\n",
    "\n",
    "Swapping letters is defined as taking two indices i and j (0-indexed) such that i != j and swapping the characters at s[i] and s[j].\n",
    "\n",
    "- For example, swapping at indices 0 and 2 in \"abcd\" results in \"cbad\".\n",
    "\n",
    "**Example 1:**\n",
    "\n",
    "**Input:** s = \"ab\", goal = \"ba\"\n",
    "\n",
    "**Output:** true\n",
    "\n",
    "**Explanation:** You can swap s[0] = 'a' and s[1] = 'b' to get \"ba\", which is equal to goal.\n",
    "\n",
    "</aside>"
   ]
  },
  {
   "cell_type": "code",
   "execution_count": 7,
   "id": "e0384bbc-d866-45e0-a8ea-1e63c46355b2",
   "metadata": {},
   "outputs": [],
   "source": [
    "class Solution(object):\n",
    "    def buddyStrings(self, s, goal):\n",
    "        \"\"\"\n",
    "        :type s: str\n",
    "        :type goal: str\n",
    "        :rtype: bool\n",
    "        \"\"\"\n",
    "        if len(s) != len(goal):\n",
    "            return False\n",
    "        \n",
    "        if s == goal:\n",
    "            return len(set(s)) < len(s)\n",
    "        \n",
    "        diff_indices = []\n",
    "        for i in range(len(s)):\n",
    "            if s[i] != goal[i]:\n",
    "                diff_indices.append(i)\n",
    "                if len(diff_indices) > 2:\n",
    "                    return False\n",
    "        \n",
    "        return len(diff_indices) == 2 and s[diff_indices[0]] == goal[diff_indices[1]] and s[diff_indices[1]] == goal[diff_indices[0]]\n",
    "        \n",
    "        "
   ]
  },
  {
   "cell_type": "code",
   "execution_count": 10,
   "id": "29fdc718-10d8-4c1c-845a-a896f67f3ffc",
   "metadata": {},
   "outputs": [
    {
     "data": {
      "text/plain": [
       "True"
      ]
     },
     "execution_count": 10,
     "metadata": {},
     "output_type": "execute_result"
    }
   ],
   "source": [
    "obj=Solution()\n",
    "obj.buddyStrings( \"ab\",\"ba\")"
   ]
  },
  {
   "cell_type": "code",
   "execution_count": null,
   "id": "6acf60f8-c8d8-4cfa-b15a-69253d13bc2a",
   "metadata": {},
   "outputs": [],
   "source": []
  }
 ],
 "metadata": {
  "kernelspec": {
   "display_name": "Python 3 (ipykernel)",
   "language": "python",
   "name": "python3"
  },
  "language_info": {
   "codemirror_mode": {
    "name": "ipython",
    "version": 3
   },
   "file_extension": ".py",
   "mimetype": "text/x-python",
   "name": "python",
   "nbconvert_exporter": "python",
   "pygments_lexer": "ipython3",
   "version": "3.10.8"
  }
 },
 "nbformat": 4,
 "nbformat_minor": 5
}
