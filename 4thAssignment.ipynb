{
 "cells": [
  {
   "cell_type": "markdown",
   "id": "04d29366-4ce5-4847-a27a-99e253d2be11",
   "metadata": {},
   "source": [
    "<aside>\n",
    "💡 **## Question 1**Given three integer arrays arr1, arr2 and arr3 **sorted** in **strictly increasing** order, return a sorted array of **only** the integers that appeared in **all** three arrays.\n",
    "\n",
    "**Example 1:**\n",
    "\n",
    "Input: arr1 = [1,2,3,4,5], arr2 = [1,2,5,7,9], arr3 = [1,3,4,5,8]\n",
    "\n",
    "Output: [1,5]\n",
    "\n",
    "**Explanation:** Only 1 and 5 appeared in the three arrays.\n",
    "\n",
    "</aside>"
   ]
  },
  {
   "cell_type": "code",
   "execution_count": 5,
   "id": "d1800f23-099e-485f-977a-70689ddbebe2",
   "metadata": {},
   "outputs": [],
   "source": [
    "class Solution(object):\n",
    "    def makeArrayIncreasing(self, arr1, arr2,arr3):\n",
    "        \"\"\"\n",
    "        :type arr1: List[int]\n",
    "        :type arr2: List[int]\n",
    "        :type arr3: List[int]\n",
    "        :rtype: int\n",
    "        \"\"\"\n",
    "        def find(arr, val):\n",
    "            left, right = 0, len(arr) - 1\n",
    "            while left < right:\n",
    "                mid = (left + right) >> 1\n",
    "                if arr[mid] >= val:\n",
    "                    right = mid\n",
    "                else:\n",
    "                    left = mid + 1\n",
    "            return arr[left] == val\n",
    "\n",
    "        res = []\n",
    "        for num in arr1:\n",
    "            if find(arr2, num) and find(arr3, num):\n",
    "                res.append(num)\n",
    "        return res\n",
    "        \n",
    "        # Keep array2 in sorted ascending order\n",
    "        "
   ]
  },
  {
   "cell_type": "code",
   "execution_count": 6,
   "id": "74c1c04a-d707-497d-8493-045626d6e462",
   "metadata": {},
   "outputs": [
    {
     "data": {
      "text/plain": [
       "[1, 5]"
      ]
     },
     "execution_count": 6,
     "metadata": {},
     "output_type": "execute_result"
    }
   ],
   "source": [
    "obj=Solution()\n",
    "obj.makeArrayIncreasing([1,2,3,4,5],[1,2,5,7,9],[1,3,4,5,8])"
   ]
  },
  {
   "cell_type": "markdown",
   "id": "a4df6d72-6239-4c71-852f-6ca3774cb8e3",
   "metadata": {},
   "source": [
    "## Question 2Given two **0-indexed** integer arrays nums1 and nums2, return *a list* answer *of size* 2 *where:*\n",
    "\n",
    "- answer[0] *is a list of all **distinct** integers in* nums1 *which are **not** present in* nums2*.*\n",
    "- answer[1] *is a list of all **distinct** integers in* nums2 *which are **not** present in* nums1.\n",
    "\n",
    "**Note** that the integers in the lists may be returned in **any** order.\n",
    "\n",
    "**Example 1:**\n",
    "\n",
    "**Input:** nums1 = [1,2,3], nums2 = [2,4,6]\n",
    "\n",
    "**Output:** [[1,3],[4,6]]\n",
    "\n",
    "**Explanation:**\n",
    "\n",
    "For nums1, nums1[1] = 2 is present at index 0 of nums2, whereas nums1[0] = 1 and nums1[2] = 3 are not present in nums2. Therefore, answer[0] = [1,3].\n",
    "\n",
    "For nums2, nums2[0] = 2 is present at index 1 of nums1, whereas nums2[1] = 4 and nums2[2] = 6 are not present in nums2. Therefore, answer[1] = [4,6\n",
    "\n",
    "</aside>"
   ]
  },
  {
   "cell_type": "code",
   "execution_count": 9,
   "id": "58f0b6a7-c9ad-45e7-8605-ed8599f9e1c4",
   "metadata": {},
   "outputs": [],
   "source": [
    "## Brute force approach\n",
    "\n",
    "class Solution(object):\n",
    "    def findDifference(self, nums1, nums2):\n",
    "        \"\"\"\n",
    "        :type nums1: List[int]\n",
    "        :type nums2: List[int]\n",
    "        :rtype: List[List[int]]\n",
    "        \"\"\"\n",
    "        \n",
    "        l=[]\n",
    "        l1=[]\n",
    "        l2=[]\n",
    "        s1=set(nums1)\n",
    "        s2=set(nums2)\n",
    "        nums1=list(s1)\n",
    "        nums2=list(s2)\n",
    "        for i in range(len(nums1)):\n",
    "            if nums1[i] not in s2:\n",
    "                l1.append(nums1[i])\n",
    "        for i in range(len(nums2)):\n",
    "            if nums2[i] not in s1:\n",
    "                l2.append(nums2[i])\n",
    "        l.append(l1)\n",
    "        l.append(l2)\n",
    "        return l\n",
    "        \n",
    "        "
   ]
  },
  {
   "cell_type": "code",
   "execution_count": 10,
   "id": "8f1b79ef-8e39-4034-b193-926b438fce45",
   "metadata": {},
   "outputs": [
    {
     "data": {
      "text/plain": [
       "[[1, 3], [4, 6]]"
      ]
     },
     "execution_count": 10,
     "metadata": {},
     "output_type": "execute_result"
    }
   ],
   "source": [
    "obj=Solution()\n",
    "obj.findDifference([1,2,3],[2,4,6])"
   ]
  },
  {
   "cell_type": "markdown",
   "id": "17bf98ab-d562-40cf-bbf8-14e623de8e39",
   "metadata": {},
   "source": [
    "time complexity=O(n^2)"
   ]
  },
  {
   "cell_type": "code",
   "execution_count": 12,
   "id": "f0409e31-0782-4424-bbfc-b0c84ab20521",
   "metadata": {},
   "outputs": [],
   "source": [
    "class Solution(object):\n",
    "    def findDifference(self, nums1, nums2):\n",
    "        \"\"\"\n",
    "        :type nums1: List[int]\n",
    "        :type nums2: List[int]\n",
    "        :rtype: List[List[int]]\n",
    "        \"\"\"\n",
    "        s1, s2 = set(nums1), set(nums2)\n",
    "        return [list(s1 - s2), list(s2 - s1)]"
   ]
  },
  {
   "cell_type": "code",
   "execution_count": 14,
   "id": "080be47c-76a4-4fda-b06a-8169344d6873",
   "metadata": {},
   "outputs": [
    {
     "data": {
      "text/plain": [
       "[[1, 3], [4, 6]]"
      ]
     },
     "execution_count": 14,
     "metadata": {},
     "output_type": "execute_result"
    }
   ],
   "source": [
    "obj=Solution()\n",
    "obj.findDifference([1,2,3],[4,2,6])"
   ]
  },
  {
   "cell_type": "markdown",
   "id": "44f19014-acda-4804-a36d-0b0d332efec4",
   "metadata": {},
   "source": [
    "time complexity=O(n)\n",
    "\n",
    "space complexity=O(n)"
   ]
  },
  {
   "cell_type": "markdown",
   "id": "93ae7510-0f01-4a20-b168-69e0ed478c41",
   "metadata": {},
   "source": [
    "\n",
    " # 3Question Given a 2D integer array matrix, return *the **transpose** of* matrix.\n",
    "\n",
    "The **transpose** of a matrix is the matrix flipped over its main diagonal, switching the matrix's row and column indices.\n",
    "\n",
    "**Example 1:**\n",
    "\n",
    "Input: matrix = [[1,2,3],[4,5,6],[7,8,9]]\n",
    "\n",
    "Output: [[1,4,7],[2,5,8],[3,6,9]]\n",
    "\n",
    "</aside>"
   ]
  },
  {
   "cell_type": "code",
   "execution_count": 52,
   "id": "24fe8795-0958-4aec-8a51-c00e73a72e6c",
   "metadata": {},
   "outputs": [],
   "source": [
    "class Solution(object):\n",
    "    def transpose(self, matrix):\n",
    "        \"\"\"\n",
    "        :type matrix: List[List[int]]\n",
    "        :rtype: List[List[int]]\n",
    "        \"\"\"\n",
    "        trans = []\n",
    "        m,n=len(matrix),len(matrix[0])\n",
    "        for j in range(n):\n",
    "            temp=[]\n",
    "            for i in range(m):\n",
    "                temp.append(matrix[i][j])\n",
    "            trans.append(temp)\n",
    "        return trans \n"
   ]
  },
  {
   "cell_type": "code",
   "execution_count": 53,
   "id": "807d4592-6f45-4c97-b039-cf753dd9d92b",
   "metadata": {},
   "outputs": [
    {
     "data": {
      "text/plain": [
       "[[1, 4, 7], [2, 5, 8], [3, 6, 9]]"
      ]
     },
     "execution_count": 53,
     "metadata": {},
     "output_type": "execute_result"
    }
   ],
   "source": [
    "obj=Solution()\n",
    "obj.transpose([[1,2,3],[4,5,6],[7,8,9]])"
   ]
  },
  {
   "cell_type": "markdown",
   "id": "b5029cbe-ad13-417e-9253-5617ef4083f0",
   "metadata": {},
   "source": [
    "## Question 4Given an integer array nums of 2n integers, group these integers into n pairs (a1, b1), (a2, b2), ..., (an, bn) such that the sum of min(ai, bi) for all i is **maximized**. Return *the maximized sum*.\n",
    "\n",
    "**Example 1:**\n",
    "\n",
    "Input: nums = [1,4,3,2]\n",
    "\n",
    "Output: 4\n",
    "\n",
    "**Explanation:** All possible pairings (ignoring the ordering of elements) are:\n",
    "\n",
    "1. (1, 4), (2, 3) -> min(1, 4) + min(2, 3) = 1 + 2 = 3\n",
    "\n",
    "2. (1, 3), (2, 4) -> min(1, 3) + min(2, 4) = 1 + 2 = 3\n",
    "\n",
    "3. (1, 2), (3, 4) -> min(1, 2) + min(3, 4) = 1 + 3 = 4\n",
    "\n",
    "So the maximum possible sum is 4.\n",
    "\n",
    "</aside>"
   ]
  },
  {
   "cell_type": "code",
   "execution_count": 68,
   "id": "085c58f8-81ed-4ffe-86f7-9d6a17f7bd4f",
   "metadata": {},
   "outputs": [],
   "source": [
    "class Solution(object):\n",
    "    def arrayPairSum(self, nums):\n",
    "        \"\"\"\n",
    "        :type nums: List[int]\n",
    "        :rtype: int\n",
    "        \"\"\"\n",
    "        nums.sort()\n",
    "        sum_ = 0\n",
    "        for i in range(0,len(nums),2):\n",
    "            sum_ += nums[i]\n",
    "        return sum_\n",
    "        \n",
    "     \n",
    "            \n",
    "    \n",
    "  "
   ]
  },
  {
   "cell_type": "code",
   "execution_count": 69,
   "id": "a23c2004-0911-4626-81cc-80e81cfff1cc",
   "metadata": {},
   "outputs": [
    {
     "data": {
      "text/plain": [
       "4"
      ]
     },
     "execution_count": 69,
     "metadata": {},
     "output_type": "execute_result"
    }
   ],
   "source": [
    "obj=Solution()\n",
    "obj.arrayPairSum([1,4,3,2])"
   ]
  },
  {
   "cell_type": "markdown",
   "id": "b2db2378-d900-4436-8f1b-127f84842ab1",
   "metadata": {},
   "source": [
    "# Question 5You have n coins and you want to build a staircase with these coins. The staircase consists of k rows where the ith row has exactly i coins. The last row of the staircase **may be** incomplete.\n",
    "\n",
    "Given the integer n, return *the number of **complete rows** of the staircase you will build*.\n",
    "\n",
    "**Example 1:**\n",
    "\n",
    "[]()\n",
    "\n",
    "![v2.jpg](https://s3-us-west-2.amazonaws.com/secure.notion-static.com/4bd91cfa-d2b1-47b3-8197-a72e8dcfff4b/v2.jpg)\n",
    "\n",
    "**Input:** n = 5\n",
    "\n",
    "**Output:** 2\n",
    "\n",
    "**Explanation:** Because the 3rd row is incomplete, we return 2.\n",
    "\n",
    "</aside>"
   ]
  },
  {
   "cell_type": "code",
   "execution_count": 110,
   "id": "c53869a7-498d-4632-8245-c933035e6ead",
   "metadata": {},
   "outputs": [],
   "source": [
    "class Solution:\n",
    "    def arrangeCoins(self, n: int) -> int:\n",
    "        rows = 0\n",
    "        i = 1\n",
    "        \n",
    "        while n >= i:\n",
    "            n-=i\n",
    "            rows+=1\n",
    "            i+=1\n",
    "               \n",
    "        return rows"
   ]
  },
  {
   "cell_type": "code",
   "execution_count": 111,
   "id": "bb35958d-59d1-47d7-ae49-6f683ceaa70d",
   "metadata": {},
   "outputs": [
    {
     "data": {
      "text/plain": [
       "2"
      ]
     },
     "execution_count": 111,
     "metadata": {},
     "output_type": "execute_result"
    }
   ],
   "source": [
    "obj=Solution()\n",
    "obj.arrangeCoins(5)"
   ]
  },
  {
   "cell_type": "markdown",
   "id": "1976d7d6-ae67-43a5-811f-4218841ad07a",
   "metadata": {},
   "source": [
    "time complexity=O(n)"
   ]
  },
  {
   "cell_type": "markdown",
   "id": "1119990c-f996-4bbb-92d0-cb4a9dbb0095",
   "metadata": {},
   "source": [
    "## Question 6**Given an integer array nums sorted in **non-decreasing** order, return *an array of **the squares of each number** sorted in non-decreasing order*.\n",
    "\n",
    "**Example 1:**\n",
    "\n",
    "Input: nums = [-4,-1,0,3,10]\n",
    "\n",
    "Output: [0,1,9,16,100]\n",
    "\n",
    "**Explanation:** After squaring, the array becomes [16,1,0,9,100].\n",
    "After sorting, it becomes [0,1,9,16,100]\n",
    "\n",
    "</aside>"
   ]
  },
  {
   "cell_type": "markdown",
   "id": "d236fd9a-571d-4777-8bd1-864f7d2f5c1a",
   "metadata": {},
   "source": [
    "The thing that we could use is, a square of negative number is always positive, so we could start building our solution array from last element and then move forward.\n",
    "\n",
    "We compare the squared values of first and last element, we put the bigger one in the last and move the pointers accordingly."
   ]
  },
  {
   "cell_type": "code",
   "execution_count": 113,
   "id": "d13a282c-515a-440c-bd77-730a76a2b730",
   "metadata": {},
   "outputs": [],
   "source": [
    "class Solution(object):\n",
    "    def sortedSquares(self, nums):\n",
    "        \"\"\"\n",
    "        :type nums: List[int]\n",
    "        :rtype: List[int]\n",
    "        \"\"\"\n",
    "        result = [0]*len(nums)\n",
    "        i = 0\n",
    "        j = len(nums)-1\n",
    "        k = len(nums)-1\n",
    "        while k>=0:\n",
    "            if nums[i]*nums[i] <= nums[j]*nums[j]:\n",
    "                result[k] = nums[j]*nums[j]\n",
    "                k-=1\n",
    "                j-=1\n",
    "            else:\n",
    "                result[k] = nums[i]*nums[i]\n",
    "                i+=1\n",
    "                k-=1\n",
    "        return result        \n",
    "\n",
    "        "
   ]
  },
  {
   "cell_type": "code",
   "execution_count": 114,
   "id": "e9ab01d3-ed59-4ded-90ce-326725406e3f",
   "metadata": {},
   "outputs": [
    {
     "data": {
      "text/plain": [
       "[0, 1, 9, 16, 100]"
      ]
     },
     "execution_count": 114,
     "metadata": {},
     "output_type": "execute_result"
    }
   ],
   "source": [
    "obj=Solution()\n",
    "obj.sortedSquares([-4,-1,0,3,10])"
   ]
  },
  {
   "cell_type": "markdown",
   "id": "ba13ffde-cb61-4f77-9e19-e185b1064d55",
   "metadata": {},
   "source": [
    "Time complexity: O(N)\n",
    "\n",
    "Space complexity: O(N) -for the result array."
   ]
  },
  {
   "cell_type": "markdown",
   "id": "23764557-98b4-4620-af46-8ba7e33354b8",
   "metadata": {},
   "source": [
    "# Question 7**You are given an m x n matrix M initialized with all 0's and an array of operations ops, where ops[i] = [ai, bi] means M[x][y] should be incremented by one for all 0 <= x < ai and 0 <= y < bi.\n",
    "\n",
    "Count and return *the number of maximum integers in the matrix after performing all the operations*\n",
    "\n",
    "**Example 1:**\n",
    "\n",
    "![q4.jpg](https://s3-us-west-2.amazonaws.com/secure.notion-static.com/4d0890d0-7bc7-4f59-be8e-352d9f3c1c52/q4.jpg)\n",
    "\n",
    "**Input:** m = 3, n = 3, ops = [[2,2],[3,3]]\n",
    "\n",
    "**Output:** 4\n",
    "\n",
    "**Explanation:** The maximum integer in M is 2, and there are four of it in M. So return 4.\n",
    "\n",
    "</aside>"
   ]
  },
  {
   "cell_type": "code",
   "execution_count": 126,
   "id": "55beca75-1c24-4896-b1a6-1e8054a942a1",
   "metadata": {},
   "outputs": [],
   "source": [
    "class Solution(object):\n",
    "    def maxCount(self, m, n, ops):\n",
    "        \"\"\"\n",
    "        :type m: int\n",
    "        :type n: int\n",
    "        :type ops: List[List[int]]\n",
    "        :rtype: int\n",
    "        \"\"\"\n",
    "        min_y = m\n",
    "        min_x = n\n",
    "\n",
    "        for y, x in ops:\n",
    "            min_y = min(min_y, y)\n",
    "            min_x = min(min_x, x)\n",
    "\n",
    "        return min_x * min_y"
   ]
  },
  {
   "cell_type": "code",
   "execution_count": 127,
   "id": "a1556789-0672-4f18-9e4e-60c1e339cd7f",
   "metadata": {},
   "outputs": [
    {
     "data": {
      "text/plain": [
       "4"
      ]
     },
     "execution_count": 127,
     "metadata": {},
     "output_type": "execute_result"
    }
   ],
   "source": [
    "obj=Solution()\n",
    "obj.maxCount(3,3,[[2,2],[3,3]])"
   ]
  },
  {
   "cell_type": "markdown",
   "id": "a8b8e1d3-a8a1-4c17-bcda-951e5b5547d6",
   "metadata": {},
   "source": [
    "## Question 8Given the array nums consisting of 2n elements in the form [x1,x2,...,xn,y1,y2,...,yn].\n",
    "\n",
    "*Return the array in the form* [x1,y1,x2,y2,...,xn,yn].\n",
    "\n",
    "**Example 1:**\n",
    "\n",
    "**Input:** nums = [2,5,1,3,4,7], n = 3\n",
    "\n",
    "**Output:** [2,3,5,4,1,7]\n",
    "\n",
    "**Explanation:** Since x1=2, x2=5, x3=1, y1=3, y2=4, y3=7 then the answer is [2,3,5,4,1,7].\n",
    "\n",
    "</aside>"
   ]
  },
  {
   "cell_type": "code",
   "execution_count": 128,
   "id": "8975d214-3d0b-4fa6-a4bb-a61682dc8a52",
   "metadata": {},
   "outputs": [],
   "source": [
    "class Solution(object):\n",
    "    def shuffle(self, nums, n):\n",
    "        \"\"\"\n",
    "        :type nums: List[int]\n",
    "        :type n: int\n",
    "        :rtype: List[int]\n",
    "        \"\"\"\n",
    "        ls=[]\n",
    "        for i in range(n):\n",
    "            ls+=[nums[i]]\n",
    "            ls+=[nums[i+n]]\n",
    "        return ls"
   ]
  },
  {
   "cell_type": "code",
   "execution_count": 129,
   "id": "32ebf173-4003-43bc-bab0-a40d74848a72",
   "metadata": {},
   "outputs": [
    {
     "data": {
      "text/plain": [
       "[2, 3, 5, 4, 1, 7]"
      ]
     },
     "execution_count": 129,
     "metadata": {},
     "output_type": "execute_result"
    }
   ],
   "source": [
    "obj=Solution()\n",
    "obj.shuffle([2,5,1,3,4,7],3)"
   ]
  },
  {
   "cell_type": "code",
   "execution_count": null,
   "id": "62de9489-225e-4375-87b6-3723cec12f71",
   "metadata": {},
   "outputs": [],
   "source": []
  }
 ],
 "metadata": {
  "kernelspec": {
   "display_name": "Python 3 (ipykernel)",
   "language": "python",
   "name": "python3"
  },
  "language_info": {
   "codemirror_mode": {
    "name": "ipython",
    "version": 3
   },
   "file_extension": ".py",
   "mimetype": "text/x-python",
   "name": "python",
   "nbconvert_exporter": "python",
   "pygments_lexer": "ipython3",
   "version": "3.10.8"
  }
 },
 "nbformat": 4,
 "nbformat_minor": 5
}
