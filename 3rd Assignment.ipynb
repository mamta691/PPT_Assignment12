{
 "cells": [
  {
   "cell_type": "markdown",
   "id": "08426b49-a279-484a-a7ca-9294614025b8",
   "metadata": {},
   "source": [
    "## Question 1\n",
    "Given an integer array nums of length n and an integer target, find three integers\n",
    "in nums such that the sum is closest to the target.\n",
    "Return the sum of the three integers.\n",
    "\n",
    "You may assume that each input would have exactly one solution.\n",
    "\n",
    "Example 1:\n",
    "Input: nums = [-1,2,1,-4], target = 1\n",
    "Output: 2\n",
    "\n",
    "Explanation: The sum that is closest to the target is 2. (-1 + 2 + 1 = 2)."
   ]
  },
  {
   "cell_type": "code",
   "execution_count": 14,
   "id": "82d5741b-cd91-47d9-9b59-8ab9f526f00b",
   "metadata": {},
   "outputs": [],
   "source": [
    "class Solution(object):\n",
    "    def threeSumClosest(self, nums, target):\n",
    "        \"\"\"\n",
    "        :type nums: List[int]\n",
    "        :type target: int\n",
    "        :rtype: int\n",
    "        \"\"\"\n",
    "        n= len(nums)\n",
    "        nums.sort()\n",
    "        ans= nums[0]+ nums[1]+nums[2];\n",
    "        if (ans> target):\n",
    "            return ans;\n",
    "        #diff= abs(target-ans);\n",
    "        for i in range (0,n-2):\n",
    "            left= i+1\n",
    "            right= n-1\n",
    "            while (left< right):\n",
    "                sumi= nums[i]+nums[left]+nums[right]\n",
    "                if (sumi<target):\n",
    "                    left+=1\n",
    "                elif (sumi > target):\n",
    "                    right-=1\n",
    "                else:\n",
    "                    return target\n",
    "                if (abs(target-sumi) < abs(target-ans)):\n",
    "                    #diff= abs(target-sumi)\n",
    "                    ans= sumi\n",
    "        return ans"
   ]
  },
  {
   "cell_type": "code",
   "execution_count": 15,
   "id": "9b57909d-3e79-4ffd-bfed-7d514936153c",
   "metadata": {},
   "outputs": [
    {
     "data": {
      "text/plain": [
       "2"
      ]
     },
     "execution_count": 15,
     "metadata": {},
     "output_type": "execute_result"
    }
   ],
   "source": [
    "obj=Solution()\n",
    "obj.threeSumClosest([-1,2,1,-4],1)"
   ]
  },
  {
   "cell_type": "markdown",
   "id": "1e490d32-c5bd-40ec-bdea-149a8ca879eb",
   "metadata": {},
   "source": [
    "time complexity=O(n^2) because sorting and iteration both have done."
   ]
  },
  {
   "cell_type": "markdown",
   "id": "e8411f8a-a9c0-45d6-980e-bbeddea67232",
   "metadata": {},
   "source": [
    "## Question Given an array nums of n integers, return an array of all the unique quadruplets\n",
    "[nums[a], nums[b], nums[c], nums[d]] such that:\n",
    "           ● 0 <= a, b, c, d < n\n",
    "           ● a, b, c, and d are distinct.\n",
    "           ● nums[a] + nums[b] + nums[c] + nums[d] == target\n",
    "\n",
    "You may return the answer in any order.\n",
    "\n",
    "Example 1:\n",
    "Input: nums = [1,0,-1,0,-2,2], target = 0\n",
    "Output: [[-2,-1,1,2],[-2,0,0,2],[-1,0,0,1]]"
   ]
  },
  {
   "cell_type": "code",
   "execution_count": 17,
   "id": "60dc32b0-8266-42b5-a32b-f27538eb7d9d",
   "metadata": {},
   "outputs": [],
   "source": [
    "class Solution(object):\n",
    "    def fourSum(self, nums, target):\n",
    "        \"\"\"\n",
    "        :type nums: List[int]\n",
    "        :type target: int\n",
    "        :rtype: List[List[int]]\n",
    "        \"\"\"\n",
    "    \n",
    "        n = len(nums)\n",
    "        result = []\n",
    "        for i in range(n - 3):\n",
    "            if i > 0 and nums[i] == nums[i - 1]:\n",
    "                continue\n",
    "            for j in range(i + 1, n - 2):\n",
    "                if j > i + 1 and nums[j] == nums[j - 1]:\n",
    "                    continue\n",
    "                l, r = j + 1, n - 1\n",
    "                while l < r:\n",
    "                    s = nums[i] + nums[j] + nums[l] + nums[r]\n",
    "                    if s == target:\n",
    "                        result.append([nums[i], nums[j], nums[l], nums[r]])\n",
    "                        while l < r and nums[l] == nums[l + 1]:\n",
    "                            l += 1\n",
    "                        while l < r and nums[r] == nums[r - 1]:\n",
    "                            r -= 1\n",
    "                        l += 1\n",
    "                        r -= 1\n",
    "                    elif s < target:\n",
    "                        l += 1\n",
    "                    else:\n",
    "                        r -= 1\n",
    "        return result"
   ]
  },
  {
   "cell_type": "code",
   "execution_count": 18,
   "id": "5c01963a-e0a8-433f-a809-0ebac8b775ec",
   "metadata": {},
   "outputs": [
    {
     "data": {
      "text/plain": [
       "[[0, 0, -2, 2]]"
      ]
     },
     "execution_count": 18,
     "metadata": {},
     "output_type": "execute_result"
    }
   ],
   "source": [
    "obj=Solution()\n",
    "obj.fourSum([1,0,-1,0,-2,2],0)"
   ]
  },
  {
   "cell_type": "markdown",
   "id": "f534ff66-05f7-433e-8ee7-9948744135fc",
   "metadata": {},
   "source": [
    "time complexity=O(n)"
   ]
  },
  {
   "cell_type": "markdown",
   "id": "f01ed88c-f1b0-4c7d-9dc9-2f51a917c288",
   "metadata": {},
   "source": [
    "<aside>\n",
    "💡 ## Question 3**\n",
    "A permutation of an array of integers is an arrangement of its members into a\n",
    "sequence or linear order.\n",
    "\n",
    "For example, for arr = [1,2,3], the following are all the permutations of arr:\n",
    "[1,2,3], [1,3,2], [2, 1, 3], [2, 3, 1], [3,1,2], [3,2,1].\n",
    "\n",
    "The next permutation of an array of integers is the next lexicographically greater\n",
    "permutation of its integer. More formally, if all the permutations of the array are\n",
    "sorted in one container according to their lexicographical order, then the next\n",
    "permutation of that array is the permutation that follows it in the sorted container.\n",
    "\n",
    "If such an arrangement is not possible, the array must be rearranged as the\n",
    "lowest possible order (i.e., sorted in ascending order).\n",
    "\n",
    "● For example, the next permutation of arr = [1,2,3] is [1,3,2].\n",
    "● Similarly, the next permutation of arr = [2,3,1] is [3,1,2].\n",
    "● While the next permutation of arr = [3,2,1] is [1,2,3] because [3,2,1] does not\n",
    "have a lexicographical larger rearrangement.\n",
    "\n",
    "Given an array of integers nums, find the next permutation of nums.\n",
    "The replacement must be in place and use only constant extra memory.\n",
    "\n",
    "**Example 1:**\n",
    "Input: nums = [1,2,3]\n",
    "Output: [1,3,2]\n",
    "\n",
    "</aside>"
   ]
  },
  {
   "cell_type": "code",
   "execution_count": 38,
   "id": "8d3e73a8-eef5-4b04-a6b2-ed8640ef82d3",
   "metadata": {},
   "outputs": [],
   "source": [
    "class Solution(object):\n",
    "    def nextPermutation(self, nums):\n",
    "        \"\"\"\n",
    "        :type nums: List[int]\n",
    "        :rtype: None Do not return anything, modify nums in-place instead.\n",
    "        \"\"\"\n",
    "    \n",
    "        n = len(nums)\n",
    "        index = n - 2\n",
    "        \n",
    "        while index >= 0:\n",
    "            if nums[index] < nums[index+1]:\n",
    "                break\n",
    "            \n",
    "            index -= 1\n",
    "        \n",
    "        if index < 0:\n",
    "            nums.sort()\n",
    "        else:\n",
    "            for i in range(n-1,index,-1):\n",
    "                if nums[i] > nums[index]:\n",
    "                    break\n",
    "            \n",
    "            nums[i], nums[index] = nums[index], nums[i]\n",
    "            nums[index+1:] = nums[index+1:][::-1]"
   ]
  },
  {
   "cell_type": "markdown",
   "id": "3e7d6c99-b90a-4773-b148-77416a63eb40",
   "metadata": {},
   "source": [
    "time complexity=O(n)"
   ]
  },
  {
   "cell_type": "markdown",
   "id": "8cc675ad-7568-4951-b029-b26ceea65f11",
   "metadata": {},
   "source": [
    "## Q4 Given a sorted array of distinct integers and a target value, return the index if the\n",
    "target is found. If not, return the index where it would be if it were inserted in\n",
    "order.\n",
    "\n",
    "You must write an algorithm with O(log n) runtime complexity.\n",
    "\n",
    "Example 1:\n",
    "Input: nums = [1,3,5,6], target = 5\n",
    "Output: 2"
   ]
  },
  {
   "cell_type": "code",
   "execution_count": 40,
   "id": "f1205430-51a9-426f-871f-6c483305aab2",
   "metadata": {},
   "outputs": [],
   "source": [
    "class Solution(object):\n",
    "    def searchInsert(self, nums, target):\n",
    "        \"\"\"\n",
    "        :type nums: List[int]\n",
    "        :type target: int\n",
    "        :rtype: int\n",
    "        \"\"\"\n",
    "        beg = 0\n",
    "        end = len(nums) - 1\n",
    "        while beg <= end:\n",
    "            mid  = (end + beg)//2\n",
    "            if(nums[mid] == target):\n",
    "                return mid\n",
    "            elif(nums[mid] > target):\n",
    "                end = mid - 1\n",
    "            else:\n",
    "                beg = mid + 1\n",
    "        return beg"
   ]
  },
  {
   "cell_type": "code",
   "execution_count": 41,
   "id": "e83b81f5-c22e-43bd-bdfb-7e8b673126bb",
   "metadata": {},
   "outputs": [
    {
     "data": {
      "text/plain": [
       "2"
      ]
     },
     "execution_count": 41,
     "metadata": {},
     "output_type": "execute_result"
    }
   ],
   "source": [
    "obj=Solution()\n",
    "obj.searchInsert([1,2,5,6],5)"
   ]
  },
  {
   "cell_type": "markdown",
   "id": "56a66425-1f04-4cad-9ad9-de17490a3fd4",
   "metadata": {},
   "source": [
    "time complexity=O(nlogn)"
   ]
  },
  {
   "cell_type": "markdown",
   "id": "b11801a4-e263-40ef-a70e-0f80ad9f7600",
   "metadata": {},
   "source": [
    "\n",
    "## Q5 You are given a large integer represented as an integer array digits, where each\n",
    "digits[i] is the ith digit of the integer. The digits are ordered from most significant\n",
    "to least significant in left-to-right order. The large integer does not contain any\n",
    "leading 0's.\n",
    "\n",
    "Increment the large integer by one and return the resulting array of digits.\n",
    "\n",
    "**Example 1:**\n",
    "Input: digits = [1,2,3]\n",
    "Output: [1,2,4]\n",
    "\n",
    "**Explanation:** The array represents the integer 123.\n",
    "Incrementing by one gives 123 + 1 = 124.\n",
    "Thus, the result should be [1,2,4].\n",
    "\n",
    "</aside>"
   ]
  },
  {
   "cell_type": "code",
   "execution_count": 42,
   "id": "a4135484-7610-4716-baa8-b4d88e7064ab",
   "metadata": {},
   "outputs": [],
   "source": [
    "class Solution(object):\n",
    "    def plusOne(self, digits):\n",
    "        \"\"\"\n",
    "        :type digits: List[int]\n",
    "        :rtype: List[int]\n",
    "        \"\"\"\n",
    "        i = -1 #index to start from the end\n",
    "        length = len(digits) \n",
    "\n",
    "        def Calculate(arr, i, length):\n",
    "            if length != 0 and arr[i] != 9:\n",
    "                arr[i] += 1 \n",
    "            elif length > 0:\n",
    "                arr[i] = 0\n",
    "                length -= 1\n",
    "                i -= 1\n",
    "                Calculate(arr, i, length)\n",
    "            else:\n",
    "                arr.insert(0, 1) \n",
    "        \n",
    "        Calculate(digits, i, length)\n",
    "        return digits"
   ]
  },
  {
   "cell_type": "code",
   "execution_count": 43,
   "id": "d7f023ad-44a1-447e-ae81-bee6860ba3cc",
   "metadata": {},
   "outputs": [
    {
     "data": {
      "text/plain": [
       "[1, 2, 4]"
      ]
     },
     "execution_count": 43,
     "metadata": {},
     "output_type": "execute_result"
    }
   ],
   "source": [
    "obj=Solution()\n",
    "obj.plusOne([1,2,3])"
   ]
  },
  {
   "cell_type": "markdown",
   "id": "d618bd77-a0c4-456a-83fc-06464d249d1f",
   "metadata": {},
   "source": [
    "time-complexityO(n)"
   ]
  },
  {
   "cell_type": "markdown",
   "id": "55c1a673-6ab7-4bff-98e5-b5783dfc7e37",
   "metadata": {},
   "source": [
    "## Q6 Given a non-empty array of integers nums, every element appears twice except\n",
    "for one. Find that single one.\n",
    "\n",
    "You must implement a solution with a linear runtime complexity and use only\n",
    "constant extra space.\n",
    "\n",
    "Example 1:\n",
    "Input: nums = [2,2,1]\n",
    "Output: 1"
   ]
  },
  {
   "cell_type": "code",
   "execution_count": 51,
   "id": "c95c940e-989c-4834-aa12-3ba89e1a4555",
   "metadata": {},
   "outputs": [],
   "source": [
    "class Solution(object):\n",
    "    def singleNumber(self, nums):\n",
    "        \"\"\"\n",
    "        :type nums: List[int]\n",
    "        :rtype: int\n",
    "        \"\"\"\n",
    "        xor = 0\n",
    "        for num in nums:\n",
    "            xor ^= num\n",
    "        return xor"
   ]
  },
  {
   "cell_type": "code",
   "execution_count": 52,
   "id": "b7043c49-92c7-468c-b89e-f7f602d5ace5",
   "metadata": {},
   "outputs": [
    {
     "data": {
      "text/plain": [
       "1"
      ]
     },
     "execution_count": 52,
     "metadata": {},
     "output_type": "execute_result"
    }
   ],
   "source": [
    "obj=Solution()\n",
    "obj.singleNumber([2,2,1])"
   ]
  },
  {
   "cell_type": "markdown",
   "id": "d66925e9-f00c-4666-9a41-0a92304f1957",
   "metadata": {},
   "source": [
    "time_complexity=O(n)"
   ]
  },
  {
   "cell_type": "markdown",
   "id": "cd74b74e-e2b1-450e-b90d-1e9cfa38aae5",
   "metadata": {},
   "source": [
    "## Question 7\n",
    "You are given an inclusive range [lower, upper] and a sorted unique integer array\n",
    "nums, where all elements are within the inclusive range.\n",
    "\n",
    "A number x is considered missing if x is in the range [lower, upper] and x is not in\n",
    "nums.\n",
    "\n",
    "Return the shortest sorted list of ranges that exactly covers all the missing\n",
    "numbers. That is, no element of nums is included in any of the ranges, and each\n",
    "missing number is covered by one of the ranges.\n",
    "\n",
    "Example 1:\n",
    "Input: nums = [0,1,3,50,75], lower = 0, upper = 99\n",
    "Output: [[2,2],[4,49],[51,74],[76,99]]\n",
    "\n",
    "Explanation: The ranges are:\n",
    "[2,2]\n",
    "[4,49]\n",
    "[51,74]\n",
    "[76,99]"
   ]
  },
  {
   "cell_type": "code",
   "execution_count": 68,
   "id": "eaee80fa-9022-4f99-8a4d-05d2535ccc59",
   "metadata": {},
   "outputs": [],
   "source": [
    "class Solution:\n",
    "    def findMissingRanges(self, nums,lower, upper):\n",
    "        \"\"\"\n",
    "        :type nums:List[int]\n",
    "        type lower:int\n",
    "        typeupper:int\n",
    "        rtype:str\n",
    "        \"\"\"\n",
    "        results = []\n",
    "        \n",
    "        if not nums:\n",
    "            gap = self.helper(lower, upper)\n",
    "            results.append(gap)\n",
    "            \n",
    "            return results\n",
    "        \n",
    "        prev = lower - 1\n",
    "        \n",
    "        for num in nums:\n",
    "            if prev + 1 != num:                \n",
    "                gap = self.helper(prev + 1, num - 1)\n",
    "                results.append(gap)\n",
    "            prev = num    \n",
    "        \n",
    "        if nums[-1] < upper:\n",
    "            gap = self.helper(nums[-1] + 1, upper)\n",
    "            results.append(gap)\n",
    "                    \n",
    "        return results\n",
    "    \n",
    "    def helper(self, left, right):\n",
    "        if left == right:\n",
    "            return str(left)\n",
    "        \n",
    "        return[ left,right]\n",
    "        "
   ]
  },
  {
   "cell_type": "code",
   "execution_count": 69,
   "id": "feea754d-a7d9-41e1-ae8e-a165f2aa78cb",
   "metadata": {},
   "outputs": [
    {
     "data": {
      "text/plain": [
       "['2', [4, 49], [51, 74], [76, 99]]"
      ]
     },
     "execution_count": 69,
     "metadata": {},
     "output_type": "execute_result"
    }
   ],
   "source": [
    "obh=Solution()\n",
    "obh.findMissingRanges([0,1,3,50,75],0,99)"
   ]
  },
  {
   "cell_type": "code",
   "execution_count": null,
   "id": "6aa1049b-a8cf-410b-8dc0-730c2769705b",
   "metadata": {},
   "outputs": [],
   "source": []
  }
 ],
 "metadata": {
  "kernelspec": {
   "display_name": "Python 3 (ipykernel)",
   "language": "python",
   "name": "python3"
  },
  "language_info": {
   "codemirror_mode": {
    "name": "ipython",
    "version": 3
   },
   "file_extension": ".py",
   "mimetype": "text/x-python",
   "name": "python",
   "nbconvert_exporter": "python",
   "pygments_lexer": "ipython3",
   "version": "3.10.8"
  }
 },
 "nbformat": 4,
 "nbformat_minor": 5
}
