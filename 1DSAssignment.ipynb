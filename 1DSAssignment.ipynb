{
 "cells": [
  {
   "cell_type": "markdown",
   "id": "c9e6161a-c835-4820-ba7b-23e6676dcc60",
   "metadata": {},
   "source": [
    "# 1. Write a Python program to reverse a string without using any built-in string reversal functions.\n"
   ]
  },
  {
   "cell_type": "code",
   "execution_count": 4,
   "id": "944eab0c-b48a-4631-8e91-d6b8615de823",
   "metadata": {},
   "outputs": [
    {
     "name": "stdout",
     "output_type": "stream",
     "text": [
      "ecnetnes\n"
     ]
    }
   ],
   "source": [
    "my_string= \"sentence\"\n",
    "new_str = \"\"\n",
    "for i in my_string:\n",
    "    new_str = i + new_str\n",
    "print(new_str)"
   ]
  },
  {
   "cell_type": "markdown",
   "id": "d35cf8cc-a0c8-49dd-a150-31817d258009",
   "metadata": {},
   "source": [
    "# 2. Implement a function to check if a given string is a palindrome.\n"
   ]
  },
  {
   "cell_type": "code",
   "execution_count": null,
   "id": "db5f56e0-34fb-4e60-862e-e9385b5aa824",
   "metadata": {},
   "outputs": [],
   "source": [
    "\n",
    "def isPalindrome(s):\n",
    "    return s == s[::-1]\n",
    " \n",
    " \n",
    "# Driver code\n",
    "s = \"malayalam\"\n",
    "ans = isPalindrome(s)\n",
    " \n",
    "if ans:\n",
    "    print(\"Yes\")\n",
    "else:\n",
    "    print(\"No\")"
   ]
  },
  {
   "cell_type": "markdown",
   "id": "b413b14c-0e84-4dfd-924e-021452593463",
   "metadata": {},
   "source": [
    "# 3. Write a program to find the largest element in a given lis"
   ]
  },
  {
   "cell_type": "code",
   "execution_count": 6,
   "id": "d71a4578-2476-48ef-8b88-e5873cd8dccd",
   "metadata": {},
   "outputs": [
    {
     "name": "stdout",
     "output_type": "stream",
     "text": [
      "Largest element is: 99\n"
     ]
    }
   ],
   "source": [
    "# list of numbers\n",
    "list1 = [10, 20, 4, 45, 99]\n",
    " \n",
    "# sorting the list\n",
    "list1.sort()\n",
    " \n",
    "# printing the last element\n",
    "print(\"Largest element is:\", list1[-1])"
   ]
  },
  {
   "cell_type": "markdown",
   "id": "d53b79e6-9799-4341-9795-e996c0c56683",
   "metadata": {},
   "source": [
    "# 4.Implement a function to count the occurrence of each element in a list."
   ]
  },
  {
   "cell_type": "code",
   "execution_count": 13,
   "id": "e6ab128a-ff36-45a2-8525-667412dba4bf",
   "metadata": {},
   "outputs": [
    {
     "name": "stdout",
     "output_type": "stream",
     "text": [
      "Element Count\n",
      "2    3\n",
      "1    2\n",
      "3    2\n",
      "4    2\n",
      "5    2\n",
      "dtype: int64\n"
     ]
    }
   ],
   "source": [
    "import pandas as pd\n",
    " \n",
    "# declaring the list\n",
    "l = [1, 1, 2, 2, 2, 3, 3, 4, 4, 5, 5]\n",
    " \n",
    "count = pd.Series(l).value_counts()\n",
    "print(\"Element Count\")\n",
    "print(count)"
   ]
  },
  {
   "cell_type": "markdown",
   "id": "7f63173a-bf5d-4e8b-90c3-86d5058e85e1",
   "metadata": {},
   "source": [
    "# 5. Write a Python program to find the second largest number in a list."
   ]
  },
  {
   "cell_type": "code",
   "execution_count": 14,
   "id": "0a6984a4-2987-432f-ab56-932fc0566d00",
   "metadata": {},
   "outputs": [
    {
     "name": "stdout",
     "output_type": "stream",
     "text": [
      "Largest element is: 45\n"
     ]
    }
   ],
   "source": [
    "# list of numbers\n",
    "list1 = [10, 20, 4, 45, 99]\n",
    " \n",
    "# sorting the list\n",
    "list1.sort()\n",
    " \n",
    "# printing the last element\n",
    "print(\"Largest element is:\", list1[-2])"
   ]
  },
  {
   "cell_type": "markdown",
   "id": "d1e0d7b2-282c-4c58-852c-7807d6eb69cb",
   "metadata": {},
   "source": [
    "# 6. Implement a function to remove duplicate elements from a list.\n"
   ]
  },
  {
   "cell_type": "code",
   "execution_count": 15,
   "id": "2a0a789b-4be9-48e6-9f72-461f5fa02092",
   "metadata": {},
   "outputs": [
    {
     "name": "stdout",
     "output_type": "stream",
     "text": [
      "The original list is : [1, 5, 3, 6, 3, 5, 6, 1]\n",
      "The list after removing duplicates : [1, 5, 3, 6]\n"
     ]
    }
   ],
   "source": [
    "arr = [1, 5, 3, 6, 3, 5, 6, 1]\n",
    "print ('The original list is : '+ str(arr))\n",
    " \n",
    "# using list comprehension + arr.index()\n",
    "# to remove duplicated\n",
    "# from list\n",
    "res = [arr[i] for i in range(len(arr)) if i == arr.index(arr[i]) ]\n",
    " \n",
    "# printing list after removal\n",
    "# of duplicate\n",
    "print('The list after removing duplicates :'\n",
    "        ,res)"
   ]
  },
  {
   "cell_type": "markdown",
   "id": "6539053a-6bdf-4eae-bc75-964029c9e676",
   "metadata": {},
   "source": [
    "# 7. Write a program to calculate the factorial of a given number.\n"
   ]
  },
  {
   "cell_type": "code",
   "execution_count": 16,
   "id": "eb711e92-5779-4513-9373-12439c3bce72",
   "metadata": {},
   "outputs": [
    {
     "name": "stdout",
     "output_type": "stream",
     "text": [
      "Factorial of 5 is 120\n"
     ]
    }
   ],
   "source": [
    "def factorial(n):\n",
    "       \n",
    "    res = 1\n",
    "      \n",
    "    for i in range(2, n+1):\n",
    "        res *= i\n",
    "    return res\n",
    "  \n",
    "# Driver Code\n",
    "num = 5;\n",
    "print(\"Factorial of\", num, \"is\",\n",
    "factorial(num))"
   ]
  },
  {
   "cell_type": "markdown",
   "id": "0fdccfaa-5db8-4339-89b0-e2a90aa3d91f",
   "metadata": {},
   "source": [
    "# 8. Implement a function to check if a given number is prime.\n"
   ]
  },
  {
   "cell_type": "code",
   "execution_count": 20,
   "id": "0e9ce398-4f39-483b-943f-eff0b508a213",
   "metadata": {},
   "outputs": [
    {
     "name": "stdout",
     "output_type": "stream",
     "text": [
      "11 is a prime number\n"
     ]
    }
   ],
   "source": [
    "num=11\n",
    "# If given number is greater than 1\n",
    "if num > 1:\n",
    "    # Iterate from 2 to n / 2\n",
    "    for i in range(2, int(num/2)+1):\n",
    "        # If num is divisible by any number between\n",
    "        # 2 and n / 2, it is not prime\n",
    "        if (num % i) == 0:\n",
    "            print(num, \"is not a prime number\")\n",
    "            break\n",
    "    else:\n",
    "        print(num, \"is a prime number\")\n",
    "else:\n",
    "    print(num, \"is not a prime number\")"
   ]
  },
  {
   "cell_type": "markdown",
   "id": "a9b8333b-3db8-429f-a3c0-54d9e28c23ac",
   "metadata": {},
   "source": [
    "# 9. Write a Python program to sort a list of integers in ascending order.\n"
   ]
  },
  {
   "cell_type": "code",
   "execution_count": 22,
   "id": "6aae154f-8199-4ff8-ba14-54b774d80553",
   "metadata": {},
   "outputs": [
    {
     "name": "stdin",
     "output_type": "stream",
     "text": [
      "Please enter the Total Number of List Elements:  4\n",
      "Please enter the Value of 1 Element :  34\n",
      "Please enter the Value of 2 Element :  45\n",
      "Please enter the Value of 3 Element :  67\n",
      "Please enter the Value of 4 Element :  89\n"
     ]
    },
    {
     "name": "stdout",
     "output_type": "stream",
     "text": [
      "Element After Sorting List in Ascending Order is :  [34, 45, 67, 89]\n"
     ]
    }
   ],
   "source": [
    "\n",
    "NumList = []\n",
    "\n",
    "Number = int(input(\"Please enter the Total Number of List Elements: \"))\n",
    "for i in range(1, Number + 1):\n",
    "    value = int(input(\"Please enter the Value of %d Element : \" %i))\n",
    "    NumList.append(value)\n",
    "\n",
    "for i in range (Number):\n",
    "    for j in range(i + 1, Number):\n",
    "        if(NumList[i] > NumList[j]):\n",
    "            temp = NumList[i]\n",
    "            NumList[i] = NumList[j]\n",
    "            NumList[j] = temp\n",
    "\n",
    "print(\"Element After Sorting List in Ascending Order is : \", NumList)"
   ]
  },
  {
   "cell_type": "markdown",
   "id": "b938d464-a8ea-4add-8018-96103d35a7de",
   "metadata": {},
   "source": [
    "# 10. Implement a function to find the sum of all numbers in a list.\n"
   ]
  },
  {
   "cell_type": "code",
   "execution_count": 23,
   "id": "91ed21b6-d1f9-4c3b-b97b-bbc2cdef394e",
   "metadata": {},
   "outputs": [
    {
     "name": "stdout",
     "output_type": "stream",
     "text": [
      "20\n"
     ]
    }
   ],
   "source": [
    "def sum(numbers):\n",
    "    total = 0\n",
    "    for x in numbers:\n",
    "        total += x\n",
    "    return total\n",
    "print(sum((8, 2, 3, 0, 7)))\n"
   ]
  },
  {
   "cell_type": "markdown",
   "id": "094799d3-345b-47ae-b647-70b92c4ddd8b",
   "metadata": {},
   "source": [
    "# 11. Write a program to find the common elements between two lists"
   ]
  },
  {
   "cell_type": "code",
   "execution_count": 24,
   "id": "5222783d-8412-4785-8eda-8e37ed472a1b",
   "metadata": {},
   "outputs": [
    {
     "name": "stdout",
     "output_type": "stream",
     "text": [
      "[3, 5]\n"
     ]
    }
   ],
   "source": [
    "a=[2,3,4,5]\n",
    "b=[3,5,7,9]\n",
    "def common(a,b): \n",
    "    c = [value for value in a if value in b] \n",
    "    return c\n",
    "d=common(a,b)\n",
    "print(d)"
   ]
  },
  {
   "cell_type": "markdown",
   "id": "bd3a5ff9-5ce9-4d1f-b29a-609f734d6fd6",
   "metadata": {},
   "source": [
    "# 12. Implement a function to check if a given string is an anagram of another string.\n"
   ]
  },
  {
   "cell_type": "markdown",
   "id": "339f1921-078f-4037-aaaa-38a95fc8f285",
   "metadata": {},
   "source": [
    "An anagram of a string is another string that contains the same characters, only the order of characters can be different. For example, “abcd” and “dabc” are an anagram of each other."
   ]
  },
  {
   "cell_type": "code",
   "execution_count": 27,
   "id": "cbcba266-7d5f-498b-bb62-653e1f3c5ced",
   "metadata": {},
   "outputs": [
    {
     "name": "stdout",
     "output_type": "stream",
     "text": [
      "The two strings are not anagram of each other\n"
     ]
    }
   ],
   "source": [
    "class Solution:\n",
    " \n",
    "    # Function is to check whether two strings are anagram of each other or not.\n",
    "    def isAnagram(self, a, b):\n",
    " \n",
    "        if sorted(a) == sorted(b):\n",
    "            return True\n",
    "        else:\n",
    "            return False\n",
    " \n",
    "# {\n",
    "#  Driver Code Starts\n",
    " \n",
    "if __name__ == '__main__':\n",
    "    a = \"gram\"\n",
    "    b = \"arm\"\n",
    "    if(Solution().isAnagram(a, b)):\n",
    "      print(\"The two strings are anagram of each other\")\n",
    "    else:\n",
    "      print(\"The two strings are not anagram of each other\")\n",
    "# } Driver Code Ends"
   ]
  },
  {
   "cell_type": "markdown",
   "id": "1ef1ae4c-55df-4622-a1fd-3a3784ddb2a8",
   "metadata": {},
   "source": [
    "# 13. Write a Python program to generate all permutations of a given string.\n"
   ]
  },
  {
   "cell_type": "code",
   "execution_count": 28,
   "id": "709c4e94-278d-404e-8664-2afcb1ac95d1",
   "metadata": {},
   "outputs": [
    {
     "name": "stdout",
     "output_type": "stream",
     "text": [
      "The original lists are : [1, 3, 4] [6, 7, 9] [8, 10, 5]\n",
      "All possible permutations are : [[1, 6, 8], [1, 6, 10], [1, 6, 5], [1, 7, 8], [1, 7, 10], [1, 7, 5], [1, 9, 8], [1, 9, 10], [1, 9, 5], [3, 6, 8], [3, 6, 10], [3, 6, 5], [3, 7, 8], [3, 7, 10], [3, 7, 5], [3, 9, 8], [3, 9, 10], [3, 9, 5], [4, 6, 8], [4, 6, 10], [4, 6, 5], [4, 7, 8], [4, 7, 10], [4, 7, 5], [4, 9, 8], [4, 9, 10], [4, 9, 5]]\n"
     ]
    }
   ],
   "source": [
    "list1 = [1, 3, 4]\n",
    "list2 = [6, 7, 9]\n",
    "list3 = [8, 10, 5]\n",
    " \n",
    "# printing lists\n",
    "print (\"The original lists are : \" + str(list1) +\n",
    "                            \" \" + str(list2) +\n",
    "                            \" \" + str(list3))\n",
    " \n",
    "# using list comprehension\n",
    "# to compute all possible permutations\n",
    "res = [[i, j, k] for i in list1\n",
    "                for j in list2\n",
    "                for k in list3]\n",
    " \n",
    "# printing result\n",
    "print (\"All possible permutations are : \" + str(res))"
   ]
  },
  {
   "cell_type": "code",
   "execution_count": 29,
   "id": "0df6b2f1-f6f8-4078-ad54-d783c59db691",
   "metadata": {},
   "outputs": [
    {
     "name": "stdin",
     "output_type": "stream",
     "text": [
      "Enter the string :  MAMTA\n"
     ]
    },
    {
     "name": "stdout",
     "output_type": "stream",
     "text": [
      "All possible strings are : \n",
      "MAMTA  MAMAT  MATMA  MATAM  MAAMT  MAATM  MMATA  MMAAT  MMTAA  MMTAA  MMAAT  MMATA  MTAMA  MTAAM  MTMAA  MTMAA  MTAAM  MTAMA  MAAMT  MAATM  MAMAT  MAMTA  MATAM  MATMA  AMMTA  AMMAT  AMTMA  AMTAM  AMAMT  AMATM  AMMTA  AMMAT  AMTMA  AMTAM  AMAMT  AMATM  ATMMA  ATMAM  ATMMA  ATMAM  ATAMM  ATAMM  AAMMT  AAMTM  AAMMT  AAMTM  AATMM  AATMM  MMATA  MMAAT  MMTAA  MMTAA  MMAAT  MMATA  MAMTA  MAMAT  MATMA  MATAM  MAAMT  MAATM  MTMAA  MTMAA  MTAMA  MTAAM  MTAMA  MTAAM  MAMAT  MAMTA  MAAMT  MAATM  MATMA  MATAM  TMAMA  TMAAM  TMMAA  TMMAA  TMAAM  TMAMA  TAMMA  TAMAM  TAMMA  TAMAM  TAAMM  TAAMM  TMMAA  TMMAA  TMAMA  TMAAM  TMAMA  TMAAM  TAMAM  TAMMA  TAAMM  TAAMM  TAMMA  TAMAM  AMAMT  AMATM  AMMAT  AMMTA  AMTAM  AMTMA  AAMMT  AAMTM  AAMMT  AAMTM  AATMM  AATMM  AMMAT  AMMTA  AMAMT  AMATM  AMTMA  AMTAM  ATMAM  ATMMA  ATAMM  ATAMM  ATMMA  ATMAM  "
     ]
    }
   ],
   "source": [
    "def permute(s, answer):\n",
    "    if (len(s) == 0):\n",
    "        print(answer, end = \"  \")\n",
    "        return\n",
    "     \n",
    "    for i in range(len(s)):\n",
    "        ch = s[i]\n",
    "        left_substr = s[0:i]\n",
    "        right_substr = s[i + 1:]\n",
    "        rest = left_substr + right_substr\n",
    "        permute(rest, answer + ch)\n",
    " \n",
    "# Driver Code\n",
    "answer = \"\"\n",
    "s = input(\"Enter the string : \")\n",
    "print(\"All possible strings are : \")\n",
    "permute(s, answer)"
   ]
  },
  {
   "cell_type": "markdown",
   "id": "b1e4f36f-2878-4843-b009-ba5382562e3d",
   "metadata": {},
   "source": [
    "# 14Implement a function to calculate the Fibonacci sequence up to a given number of terms.\n"
   ]
  },
  {
   "cell_type": "code",
   "execution_count": 30,
   "id": "cf248b19-a475-4f42-a59f-c6c6d3e3d3e1",
   "metadata": {},
   "outputs": [
    {
     "name": "stdin",
     "output_type": "stream",
     "text": [
      "How many terms?  5\n"
     ]
    },
    {
     "name": "stdout",
     "output_type": "stream",
     "text": [
      "Fibonacci sequence:\n",
      "0\n",
      "1\n",
      "1\n",
      "2\n",
      "3\n"
     ]
    }
   ],
   "source": [
    "# Program to display the Fibonacci sequence up to n-th term\n",
    "\n",
    "nterms = int(input(\"How many terms? \"))\n",
    "\n",
    "# first two terms\n",
    "n1, n2 = 0, 1\n",
    "count = 0\n",
    "\n",
    "# check if the number of terms is valid\n",
    "if nterms <= 0:\n",
    "   print(\"Please enter a positive integer\")\n",
    "# if there is only one term, return n1\n",
    "elif nterms == 1:\n",
    "   print(\"Fibonacci sequence upto\",nterms,\":\")\n",
    "   print(n1)\n",
    "# generate fibonacci sequence\n",
    "else:\n",
    "   print(\"Fibonacci sequence:\")\n",
    "   while count < nterms:\n",
    "       print(n1)\n",
    "       nth = n1 + n2\n",
    "       # update values\n",
    "       n1 = n2\n",
    "       n2 = nth\n",
    "       count += 1"
   ]
  },
  {
   "cell_type": "code",
   "execution_count": 31,
   "id": "08341cb7-1930-4b69-a069-001be9a0c2a9",
   "metadata": {},
   "outputs": [
    {
     "name": "stdout",
     "output_type": "stream",
     "text": [
      "The original list : [4, 5, 8, 9, 10, 17]\n",
      "Median of list is : 8.5\n"
     ]
    }
   ],
   "source": [
    "test_list = [4, 5, 8, 9, 10, 17]\n",
    " \n",
    "# printing list\n",
    "print(\"The original list : \" + str(test_list))\n",
    " \n",
    "# Median of list\n",
    "# Using loop + \"~\" operator\n",
    "test_list.sort()\n",
    "mid = len(test_list) // 2\n",
    "res = (test_list[mid] + test_list[~mid]) / 2\n",
    " \n",
    "# Printing result\n",
    "print(\"Median of list is : \" + str(res))"
   ]
  },
  {
   "cell_type": "markdown",
   "id": "73d7ca1e-2471-41bb-be45-35edf2186345",
   "metadata": {},
   "source": [
    "# 16. Implement a function to check if a given list is sorted in non-decreasing order.\n"
   ]
  },
  {
   "cell_type": "code",
   "execution_count": 32,
   "id": "07b9e467-c877-4247-8f37-b5f0735c05c3",
   "metadata": {},
   "outputs": [
    {
     "name": "stdout",
     "output_type": "stream",
     "text": [
      "Original list : [10, 4, 5, 8, 10]\n",
      "No, List is not sorted.\n"
     ]
    }
   ],
   "source": [
    "test_list = [10, 4, 5, 8, 10]\n",
    " \n",
    "# printing original list\n",
    "print (\"Original list : \" + str(test_list))\n",
    " \n",
    "# using sort() to\n",
    "# check sorted list\n",
    "flag = 0\n",
    "test_list1 = test_list[:]\n",
    "test_list1.sort()\n",
    "if (test_list1 == test_list):\n",
    "    flag = 1\n",
    "     \n",
    "# printing result\n",
    "if (flag) :\n",
    "    print (\"Yes, List is sorted.\")\n",
    "else :\n",
    "    print (\"No, List is not sorted.\")"
   ]
  },
  {
   "cell_type": "markdown",
   "id": "32dadbe0-a8d4-476d-bb64-f39dfbc3d39d",
   "metadata": {},
   "source": [
    "# 17. Write a Python program to find the intersection of two lists.\n"
   ]
  },
  {
   "cell_type": "code",
   "execution_count": 37,
   "id": "e35bb22e-a887-48cc-ba80-20005863afdd",
   "metadata": {},
   "outputs": [
    {
     "name": "stdout",
     "output_type": "stream",
     "text": [
      "{9, 11}\n"
     ]
    }
   ],
   "source": [
    "def Intersection(lst1, lst2):\n",
    "    return set(lst1).intersection(lst2)\n",
    "     \n",
    "# Driver Code\n",
    "lst1 = [ 4, 9, 1, 17, 11, 26, 28, 28, 26, 66, 91]\n",
    "lst2 = [9, 9, 74, 21, 45, 11, 63]\n",
    "print(Intersection(lst1, lst2))\n"
   ]
  },
  {
   "cell_type": "markdown",
   "id": "26f0dd36-1078-4521-bafc-06bbd8fd0482",
   "metadata": {},
   "source": [
    "# 18. Implement a function to find the maximum subarray sum in a given list.\n"
   ]
  },
  {
   "cell_type": "markdown",
   "id": "bebf97b0-8659-4ff2-a66a-6aaad34c23eb",
   "metadata": {},
   "source": [
    "Input: arr = [-2, -3, 4, -1, -2, 1, 5, -3]\n",
    "Output: [4, -1, -2, 1, 5]\n",
    "Explanation: \n",
    "In the above input the maximum contiguous subarray sum is 7 and the elements of the subarray are [4, -1, -2, 1, 5]"
   ]
  },
  {
   "cell_type": "code",
   "execution_count": 38,
   "id": "945767c4-934b-4a2d-80ea-6ca0d110a4e9",
   "metadata": {},
   "outputs": [
    {
     "name": "stdout",
     "output_type": "stream",
     "text": [
      "6 -2 -3 1 5 "
     ]
    }
   ],
   "source": [
    "def SubarrayWithMaxSum(nums):\n",
    "     \n",
    "    \n",
    "    curMax = nums[0]\n",
    "    glMax = nums[0]\n",
    " \n",
    "   \n",
    "\n",
    "    for i in range(1, len(nums)):\n",
    " \n",
    "        # Update currMax\n",
    "        curMax = max(nums[i],\n",
    "                      nums[i] + curMax)\n",
    " \n",
    " \n",
    "        if (curMax > glMax):\n",
    "            glMax = curMax\n",
    "            endIndex = i\n",
    "     \n",
    "    startIndex = endIndex\n",
    " \n",
    "    while (startIndex >= 0):\n",
    "        glMax -= nums[startIndex]\n",
    " \n",
    "        if (glMax == 0):\n",
    "            break\n",
    " \n",
    "        # Decrement the start index\n",
    "        startIndex -= 1\n",
    "     \n",
    "    # Printing the elements of\n",
    "    # subarray with max sum\n",
    "    for i in range(startIndex, endIndex + 1):\n",
    "        print(nums[i], end = \" \")\n",
    "     \n",
    "# Driver Code\n",
    " \n",
    "# Given array arr[]\n",
    "arr = [ -2, -5, 6, -2,\n",
    "        -3, 1, 5, -6 ]\n",
    " \n",
    "# Function call\n",
    "SubarrayWithMaxSum(arr)\n",
    " \n",
    "# This code is contributed by sanjoy_62"
   ]
  },
  {
   "cell_type": "markdown",
   "id": "8a83d0a0-616a-4189-8736-aa9211c4b5cd",
   "metadata": {},
   "source": [
    "# 19. Write a program to remove all vowels from a given string.\n"
   ]
  },
  {
   "cell_type": "code",
   "execution_count": 43,
   "id": "ad71e33a-3d70-4914-b580-f6820b279964",
   "metadata": {},
   "outputs": [],
   "source": [
    "def rem_vowel(string):\n",
    "    \n",
    "    vowels = ['a','e','i','o','u']\n",
    "    \n",
    "    result = [letter for letter in string if letter.lower() not in vowels]\n",
    "    result = ''.join(result)\n",
    "    \n",
    "    print(result)\n",
    "    "
   ]
  },
  {
   "cell_type": "code",
   "execution_count": 44,
   "id": "07ea22ec-2f1b-4916-a5f1-75e6fadfa698",
   "metadata": {},
   "outputs": [
    {
     "name": "stdout",
     "output_type": "stream",
     "text": [
      "GksfrGks -  Cmptr Scnc Prtl fr Gks\n",
      "Lvng Pythn LL\n"
     ]
    }
   ],
   "source": [
    "rem_vowel(\"GeeksforGeeks - A Computer Science Portal for Geeks\")\n",
    "\n",
    "string = \"Loving Python LOL\"\n",
    "rem_vowel(string)"
   ]
  },
  {
   "cell_type": "markdown",
   "id": "e9ae27f7-fca5-4b73-af94-46e62c40f80d",
   "metadata": {},
   "source": [
    "# 20. Implement a function to reverse the order of words in a given sentence.\n"
   ]
  },
  {
   "cell_type": "code",
   "execution_count": 45,
   "id": "9d1beca5-71c8-4672-a567-a34f61ea0833",
   "metadata": {},
   "outputs": [
    {
     "name": "stdout",
     "output_type": "stream",
     "text": [
      " much very program this like i\n"
     ]
    }
   ],
   "source": [
    "def RevString(s, l):\n",
    " \n",
    "    # Check if number of words is even\n",
    "    if l % 2 == 0:\n",
    " \n",
    "        # Find the middle word\n",
    "        j = int(l/2)\n",
    " \n",
    "       \n",
    "        while(j <= l - 1):\n",
    "            s[j], s[l - j - 1] = s[l - j - 1], s[j]\n",
    "            j += 1\n",
    " \n",
    "   \n",
    "    else:\n",
    " \n",
    "        # Find the middle word\n",
    "        j = int(l/2 + 1)\n",
    " \n",
    "       \n",
    "        while(j <= l - 1):\n",
    "            s[j], s[l - 1 - j] = s[l - j - 1], s[j]\n",
    "            j += 1\n",
    " \n",
    "        # return the reversed sentence\n",
    "        return s\n",
    " \n",
    " \n",
    "# Driver Code\n",
    "s = 'i like this program very much '\n",
    "string = s.split(' ')\n",
    "string = RevString(string, len(string))\n",
    "print(\" \".join(string))"
   ]
  },
  {
   "cell_type": "code",
   "execution_count": 46,
   "id": "5f2329b3-ac91-4476-b132-0506acc1af02",
   "metadata": {},
   "outputs": [],
   "source": [
    "# 21. Write a Python program to check if two strings are anagrams of each other.\n"
   ]
  },
  {
   "cell_type": "code",
   "execution_count": 47,
   "id": "39e76b8e-fb83-4d9b-ac20-ead109615896",
   "metadata": {},
   "outputs": [
    {
     "name": "stdout",
     "output_type": "stream",
     "text": [
      "race and care are anagram.\n"
     ]
    }
   ],
   "source": [
    "str1 = \"Race\"\n",
    "str2 = \"Care\"\n",
    "\n",
    "# convert both the strings into lowercase\n",
    "str1 = str1.lower()\n",
    "str2 = str2.lower()\n",
    "\n",
    "# check if length is same\n",
    "if(len(str1) == len(str2)):\n",
    "\n",
    "    # sort the strings\n",
    "    sorted_str1 = sorted(str1)\n",
    "    sorted_str2 = sorted(str2)\n",
    "\n",
    "    # if sorted char arrays are same\n",
    "    if(sorted_str1 == sorted_str2):\n",
    "        print(str1 + \" and \" + str2 + \" are anagram.\")\n",
    "    else:\n",
    "        print(str1 + \" and \" + str2 + \" are not anagram.\")\n",
    "\n",
    "else:\n",
    "    print(str1 + \" and \" + str2 + \" are not anagram.\")"
   ]
  },
  {
   "cell_type": "markdown",
   "id": "5570388e-02d2-4def-8f1f-bbe48e66ecc7",
   "metadata": {},
   "source": [
    "# 22Implement a function to find the first non-repeating character in a string.\n",
    "\n"
   ]
  },
  {
   "cell_type": "code",
   "execution_count": 48,
   "id": "bd219439-0b30-4eb1-b429-1ddecaf4c063",
   "metadata": {},
   "outputs": [
    {
     "name": "stdout",
     "output_type": "stream",
     "text": [
      "First non-repeating character is f\n"
     ]
    }
   ],
   "source": [
    "string = \"geeksforgeeks\"\n",
    "index = -1\n",
    "fnc = \"\"\n",
    " \n",
    "if len(string) == 0 :\n",
    "  print(\"EMTPY STRING\");\n",
    " \n",
    "for i in string:\n",
    "    if string.count(i) == 1:\n",
    "        fnc += i\n",
    "        break\n",
    "    else:\n",
    "        index += 1\n",
    "if index == len(string)-1 :\n",
    "    print(\"All characters are repeating \")\n",
    "else:\n",
    "    print(\"First non-repeating character is\", fnc)"
   ]
  },
  {
   "cell_type": "markdown",
   "id": "4dfb2c78-4b36-4168-abd1-b73315cd1633",
   "metadata": {},
   "source": [
    "# 23. Write a program to find the prime factors of a given number.\n"
   ]
  },
  {
   "cell_type": "code",
   "execution_count": 49,
   "id": "60e4454c-4bc0-4e99-bd44-dd8c2f5dd146",
   "metadata": {},
   "outputs": [
    {
     "name": "stdout",
     "output_type": "stream",
     "text": [
      "Prime factors of 20 are {2, 5}\n",
      "Prime factors of 1260 are {2, 3, 5, 7}\n"
     ]
    }
   ],
   "source": [
    "def calculate_prime_factors(N):\n",
    "    prime_factors = set()\n",
    "    if N % 2 == 0:\n",
    "        prime_factors.add(2)\n",
    "    while N % 2 == 0:\n",
    "        N = N // 2\n",
    "        if N == 1:\n",
    "            return prime_factors\n",
    "    for factor in range(3, N + 1, 2):\n",
    "        if N % factor == 0:\n",
    "            prime_factors.add(factor)\n",
    "            while N % factor == 0:\n",
    "                N = N // factor\n",
    "                if N == 1:\n",
    "                    return prime_factors\n",
    "\n",
    "\n",
    "input_number = 20\n",
    "output = calculate_prime_factors(input_number)\n",
    "print(\"Prime factors of {} are {}\".format(input_number, output))\n",
    "input_number = 1260\n",
    "output = calculate_prime_factors(input_number)\n",
    "print(\"Prime factors of {} are {}\".format(input_number, output))"
   ]
  },
  {
   "cell_type": "markdown",
   "id": "a1224fc1-9d5d-4b93-94fa-80c1fb8b3917",
   "metadata": {},
   "source": [
    "# 24. Implement a function to check if a given number is a power of two.\n"
   ]
  },
  {
   "cell_type": "code",
   "execution_count": 50,
   "id": "fe3e859a-e975-4e49-9777-a8b89f81471e",
   "metadata": {},
   "outputs": [
    {
     "name": "stdout",
     "output_type": "stream",
     "text": [
      "No\n",
      "Yes\n"
     ]
    }
   ],
   "source": [
    " \n",
    "def isPowerOfTwo(n):\n",
    "    if (n == 0):\n",
    "        return False\n",
    "    while (n != 1):\n",
    "        if (n % 2 != 0):\n",
    "            return False\n",
    "        n = n // 2\n",
    " \n",
    "    return True\n",
    " \n",
    " \n",
    "# Driver code\n",
    "if __name__ == \"__main__\":\n",
    " \n",
    "    # Function call\n",
    "    if(isPowerOfTwo(31)):\n",
    "        print('Yes')\n",
    "    else:\n",
    "        print('No')\n",
    "    if(isPowerOfTwo(64)):\n",
    "        print('Yes')\n",
    "    else:\n",
    "        print('No')\n",
    " "
   ]
  },
  {
   "cell_type": "markdown",
   "id": "8bb2a28a-1728-4c12-b2b8-2bc66bb19354",
   "metadata": {},
   "source": [
    "# 25. Write a Python program to merge two sorted lists into a single sorted list.\n"
   ]
  },
  {
   "cell_type": "code",
   "execution_count": 51,
   "id": "dca33053-1ecb-402c-958b-0a307dfd61df",
   "metadata": {},
   "outputs": [
    {
     "name": "stdout",
     "output_type": "stream",
     "text": [
      "The original list 1 is : [1, 5, 6, 9, 11]\n",
      "The original list 2 is : [3, 4, 7, 8, 10]\n",
      "The combined sorted list is : [1, 3, 4, 5, 6, 7, 8, 9, 10, 11]\n"
     ]
    }
   ],
   "source": [
    "# initializing lists\n",
    "test_list1 = [1, 5, 6, 9, 11]\n",
    "test_list2 = [3, 4, 7, 8, 10]\n",
    " \n",
    "# printing original lists\n",
    "print(\"The original list 1 is : \" + str(test_list1))\n",
    "print(\"The original list 2 is : \" + str(test_list2))\n",
    " \n",
    "# using naive method\n",
    "# to combine two sorted lists\n",
    "size_1 = len(test_list1)\n",
    "size_2 = len(test_list2)\n",
    " \n",
    "res = []\n",
    "i, j = 0, 0\n",
    " \n",
    "while i < size_1 and j < size_2:\n",
    "    if test_list1[i] < test_list2[j]:\n",
    "        res.append(test_list1[i])\n",
    "        i += 1\n",
    " \n",
    "    else:\n",
    "        res.append(test_list2[j])\n",
    "        j += 1\n",
    " \n",
    "res = res + test_list1[i:] + test_list2[j:]\n",
    " \n",
    "# printing result\n",
    "print(\"The combined sorted list is : \" + str(res))"
   ]
  },
  {
   "cell_type": "markdown",
   "id": "e58cec1a-36cb-4ea3-b839-e7d376fb7e1a",
   "metadata": {},
   "source": [
    "#26. Implement a function to find the mode of a list of numbers.\n"
   ]
  },
  {
   "cell_type": "code",
   "execution_count": 52,
   "id": "0139aab3-b19a-4718-958c-9ddd4557bcff",
   "metadata": {},
   "outputs": [
    {
     "name": "stdout",
     "output_type": "stream",
     "text": [
      "Mode is / are: 5\n"
     ]
    }
   ],
   "source": [
    "from collections import Counter\n",
    " \n",
    "# list of elements to calculate mode\n",
    "n_num = [1, 2, 3, 4, 5, 5]\n",
    "n = len(n_num)\n",
    " \n",
    "data = Counter(n_num)\n",
    "get_mode = dict(data)\n",
    "mode = [k for k, v in get_mode.items() if v == max(list(data.values()))]\n",
    " \n",
    "if len(mode) == n:\n",
    "    get_mode = \"No mode found\"\n",
    "else:\n",
    "    get_mode = \"Mode is / are: \" + ', '.join(map(str, mode))\n",
    "     \n",
    "print(get_mode)"
   ]
  },
  {
   "cell_type": "markdown",
   "id": "9ea8d4dd-75fb-4188-86f2-b8cdffd10f12",
   "metadata": {},
   "source": [
    "# 27. Write a program to find the greatest common divisor (GCD) of two numbers.\n"
   ]
  },
  {
   "cell_type": "code",
   "execution_count": 53,
   "id": "7b9bf780-2c07-4cb6-bcb4-dc16467bb6d2",
   "metadata": {},
   "outputs": [
    {
     "name": "stdout",
     "output_type": "stream",
     "text": [
      "GCD of 98 and 56 is 14\n"
     ]
    }
   ],
   "source": [
    "def gcd(a, b):\n",
    " \n",
    "    # Find minimum of a and b\n",
    "    result = min(a, b)\n",
    " \n",
    "    while result:\n",
    "        if a % result == 0 and b % result == 0:\n",
    "            break\n",
    "        result -= 1\n",
    " \n",
    "    # Return the gcd of a and b\n",
    "    return result\n",
    " \n",
    " \n",
    "# Driver Code\n",
    "if __name__ == '__main__':\n",
    "    a = 98\n",
    "    b = 56\n",
    "    print(f\"GCD of {a} and {b} is {gcd(a, b)}\")"
   ]
  },
  {
   "cell_type": "markdown",
   "id": "f4d46ace-dcd7-4f70-ad7c-041f17ded1fd",
   "metadata": {},
   "source": [
    "# 28. Implement a function to calculate the square root of a given number.\n"
   ]
  },
  {
   "cell_type": "code",
   "execution_count": 54,
   "id": "58d58c6a-ed21-4134-aae2-701b7a361fee",
   "metadata": {},
   "outputs": [
    {
     "name": "stdout",
     "output_type": "stream",
     "text": [
      "4.0\n"
     ]
    }
   ],
   "source": [
    "import math\n",
    "\n",
    "number = 16\n",
    "square_root = math.sqrt(number)\n",
    "\n",
    "print(square_root)"
   ]
  },
  {
   "cell_type": "markdown",
   "id": "6c5cf15c-4d98-4957-bf7d-00acc53209fd",
   "metadata": {},
   "source": [
    "# 29. Write a Python program to check if a given string is a valid palindrome ignoring "
   ]
  },
  {
   "cell_type": "code",
   "execution_count": 55,
   "id": "f4e817ec-5ed6-4ad6-a64a-bd3aa1bfad82",
   "metadata": {},
   "outputs": [
    {
     "name": "stdout",
     "output_type": "stream",
     "text": [
      "Yes\n"
     ]
    }
   ],
   "source": [
    "# palindrome or not\n",
    "def isPalindrome(str):\n",
    " \n",
    "    # Run loop from 0 to len/2\n",
    "    for i in range(0, int(len(str)/2)):\n",
    "        if str[i] != str[len(str)-i-1]:\n",
    "            return False\n",
    "    return True\n",
    " \n",
    "# main function\n",
    "s = \"malayalam\"\n",
    "ans = isPalindrome(s)\n",
    " \n",
    "if (ans):\n",
    "    print(\"Yes\")\n",
    "else:\n",
    "    print(\"No\")"
   ]
  },
  {
   "cell_type": "markdown",
   "id": "52a0848e-476d-4d22-9c56-e97794f637b2",
   "metadata": {},
   "source": [
    "# 30. Implement a function to find the minimum element in a rotated sorted list.\n"
   ]
  },
  {
   "cell_type": "code",
   "execution_count": 57,
   "id": "1c65f91a-84e2-45ed-9efe-2b1b7115526e",
   "metadata": {},
   "outputs": [
    {
     "name": "stdout",
     "output_type": "stream",
     "text": [
      "The minimum element is 1\n"
     ]
    }
   ],
   "source": [
    "def findMin(arr, low, high):\n",
    "    # This condition is needed to handle the case when array is not\n",
    "    # rotated at all\n",
    "    if high < low:\n",
    "        return arr[0]\n",
    " \n",
    "    # If there is only one element left\n",
    "    if high == low:\n",
    "        return arr[low]\n",
    " \n",
    "    # Find mid\n",
    "    mid = int((low + high)/2)\n",
    " \n",
    "    # Check if element (mid+1) is minimum element. Consider\n",
    "    # the cases like [3, 4, 5, 1, 2]\n",
    "    if mid < high and arr[mid+1] < arr[mid]:\n",
    "        return arr[mid+1]\n",
    " \n",
    "    # Check if mid itself is minimum element\n",
    "    if mid > low and arr[mid] < arr[mid - 1]:\n",
    "        return arr[mid]\n",
    " \n",
    "    # Decide whether we need to go to left half or right half\n",
    "    if arr[high] > arr[mid]:\n",
    "        return findMin(arr, low, mid-1)\n",
    "    return findMin(arr, mid+1, high)\n",
    " \n",
    " \n",
    "# Driver program to test above functions\n",
    "if __name__ == '__main__':\n",
    "    arr = [5, 6, 1, 2, 3, 4]\n",
    "    N = len(arr)\n",
    "    print(\"The minimum element is \" + \\\n",
    "          str(findMin(arr, 0, N-1)))\n",
    " \n",
    "        "
   ]
  },
  {
   "cell_type": "markdown",
   "id": "82750ceb-c463-4b8b-a124-7ffa90df6bb0",
   "metadata": {},
   "source": [
    "# 31. Write a program to find the sum of all even numbers in a list.\n"
   ]
  },
  {
   "cell_type": "code",
   "execution_count": 58,
   "id": "8443ff8d-5262-44ce-8206-e36198012264",
   "metadata": {},
   "outputs": [
    {
     "name": "stdout",
     "output_type": "stream",
     "text": [
      "Sum of even numbers at even indices is 30\n"
     ]
    }
   ],
   "source": [
    "def sum_even(arr,n):\n",
    "     \n",
    "    i = 0\n",
    "    sum = 0\n",
    "     \n",
    "# calculating sum of even\n",
    "# number at even index\n",
    "    for i in range(0,n,2):\n",
    "        if (arr[i] % 2 == 0) :\n",
    "            sum += arr[i]\n",
    "         \n",
    "    # required sum\n",
    "    return sum\n",
    " \n",
    " \n",
    "# Driver program to test above\n",
    "arr = [5, 6, 12, 1, 18, 8]\n",
    "n = len(arr)\n",
    "print(\"Sum of even numbers at\",\n",
    "             \"even indices is\",\n",
    "   sum_even(arr, n))"
   ]
  },
  {
   "cell_type": "markdown",
   "id": "363e5634-0e6f-4128-b404-62e9fddec05c",
   "metadata": {},
   "source": [
    "# 32. Implement a function to calculate the power of a number using recursion.\n"
   ]
  },
  {
   "cell_type": "code",
   "execution_count": 59,
   "id": "b574c5b3-1193-4fc8-a62c-02c7ade681cf",
   "metadata": {},
   "outputs": [
    {
     "name": "stdout",
     "output_type": "stream",
     "text": [
      "25\n"
     ]
    }
   ],
   "source": [
    "def power(N, P):\n",
    " \n",
    "    # If power is 0 then return 1\n",
    "    if P == 0:\n",
    "        return 1\n",
    " \n",
    "    # Recurrence relation\n",
    "    if P%2 == 0:\n",
    "      result = power(N, P//2)\n",
    "      return result * result\n",
    "    else :\n",
    "      result = power(N, (P-1)//2)\n",
    "      return N * result * result \n",
    " \n",
    " \n",
    "# Driver code\n",
    "if __name__ == '__main__':\n",
    "    N = 5\n",
    "    P = 2\n",
    " \n",
    "    print(power(N, P))\n"
   ]
  },
  {
   "cell_type": "markdown",
   "id": "2ec93ff6-2419-4381-b001-b25b5c07cd32",
   "metadata": {},
   "source": [
    "# 33. Write a Python program to remove duplicates from a list while preserving the order.\n"
   ]
  },
  {
   "cell_type": "code",
   "execution_count": 60,
   "id": "b789cbd2-f982-4aa2-898c-1953944278b8",
   "metadata": {},
   "outputs": [
    {
     "name": "stdout",
     "output_type": "stream",
     "text": [
      "[1, 2, 3, 4]\n"
     ]
    }
   ],
   "source": [
    "duplicated_list = [1,1,2,1,3,4,1,2,3,4]\n",
    "deduplicated_list = list()\n",
    "\n",
    "for item in duplicated_list:\n",
    "    if item not in deduplicated_list:\n",
    "        deduplicated_list.append(item)\n",
    "\n",
    "print(deduplicated_list)"
   ]
  },
  {
   "cell_type": "markdown",
   "id": "947d87cc-9c71-4c57-a722-3dbdd012561c",
   "metadata": {},
   "source": [
    "# 34. Implement a function to find the longest common prefix among a list of strings."
   ]
  },
  {
   "cell_type": "code",
   "execution_count": 61,
   "id": "04240000-cc6a-4c22-b057-aae0d652afd7",
   "metadata": {},
   "outputs": [
    {
     "name": "stdout",
     "output_type": "stream",
     "text": [
      "The longest Common Prefix is : gee\n"
     ]
    }
   ],
   "source": [
    "def longestCommonPrefix( a):\n",
    "     \n",
    "    size = len(a)\n",
    " \n",
    "    # if size is 0, return empty string\n",
    "    if (size == 0):\n",
    "        return \"\"\n",
    " \n",
    "    if (size == 1):\n",
    "        return a[0]\n",
    " \n",
    "    # sort the array of strings\n",
    "    a.sort()\n",
    "     \n",
    "    # find the minimum length from\n",
    "    # first and last string\n",
    "    end = min(len(a[0]), len(a[size - 1]))\n",
    " \n",
    "    # find the common prefix between\n",
    "    # the first and last string\n",
    "    i = 0\n",
    "    while (i < end and\n",
    "           a[0][i] == a[size - 1][i]):\n",
    "        i += 1\n",
    " \n",
    "    pre = a[0][0: i]\n",
    "    return pre\n",
    " \n",
    "# Driver Code\n",
    "if __name__ == \"__main__\":\n",
    " \n",
    "    input = [\"geeksforgeeks\", \"geeks\",\n",
    "                     \"geek\", \"geezer\"]\n",
    "    print(\"The longest Common Prefix is :\" ,\n",
    "                 longestCommonPrefix(input))"
   ]
  },
  {
   "cell_type": "markdown",
   "id": "9dec11f2-b09d-4abd-8198-6c70ba1da0ba",
   "metadata": {},
   "source": [
    "# 35. Write a program to check if a given number is a perfect square.\n"
   ]
  },
  {
   "cell_type": "code",
   "execution_count": 62,
   "id": "1aebeef1-e80b-4016-b1b1-45008014ad64",
   "metadata": {},
   "outputs": [
    {
     "name": "stdout",
     "output_type": "stream",
     "text": [
      "Yes\n"
     ]
    }
   ],
   "source": [
    "n = 2500\n",
    " \n",
    "for i in range(n+1):\n",
    "    if i**2 == n:\n",
    "        print(\"Yes\")\n",
    "        break\n",
    "else:\n",
    "    print(\"No\")"
   ]
  },
  {
   "cell_type": "markdown",
   "id": "9d7f6059-f848-47a8-9cd9-b3541bfc6cb2",
   "metadata": {},
   "source": [
    "# 36. Implement a function to calculate the product of all elements in a list.\n"
   ]
  },
  {
   "cell_type": "code",
   "execution_count": 63,
   "id": "79a13197-cfa5-490e-ab47-4f979642aaf1",
   "metadata": {},
   "outputs": [
    {
     "name": "stdout",
     "output_type": "stream",
     "text": [
      "6\n",
      "24\n"
     ]
    }
   ],
   "source": [
    "from functools import reduce\n",
    "list1 = [1, 2, 3]\n",
    "list2 = [3, 2, 4]\n",
    " \n",
    " \n",
    "result1 = reduce((lambda x, y: x * y), list1)\n",
    "result2 = reduce((lambda x, y: x * y), list2)\n",
    "print(result1)\n",
    "print(result2)"
   ]
  },
  {
   "cell_type": "markdown",
   "id": "579bf050-a27f-4a68-a875-9cdb80cbd4d7",
   "metadata": {},
   "source": [
    "# 37. Write a Python program to reverse the order of words in a sentence while preserving the word order.\n"
   ]
  },
  {
   "cell_type": "code",
   "execution_count": 64,
   "id": "acca7108-dce4-478c-a93e-6e973919d25b",
   "metadata": {},
   "outputs": [
    {
     "name": "stdout",
     "output_type": "stream",
     "text": [
      "code practice quiz geeks\n"
     ]
    }
   ],
   "source": [
    "def reverse_word(s, start, end):\n",
    "    while start < end:\n",
    "        s[start], s[end] = s[end], s[start]\n",
    "        start += 1\n",
    "        end -= 1\n",
    " \n",
    "# Function to reverse the string\n",
    "def reverse_string(s):\n",
    "    s = list(s)\n",
    "    start, end = 0, len(s) - 1\n",
    "    reverse_word(s, start, end)\n",
    " \n",
    "    start = end = 0\n",
    " \n",
    "    # Iterate over the string S\n",
    "    while end < len(s):\n",
    "        if s[end] == ' ':\n",
    "            reverse_word(s, start, end - 1)\n",
    "            start = end + 1\n",
    "        end += 1\n",
    " \n",
    "    # Reverse the words\n",
    "    reverse_word(s, start, end - 1)\n",
    "    return ''.join(s)\n",
    " \n",
    " \n",
    "# Driver Code\n",
    "S = \"geeks quiz practice code\"\n",
    "print(reverse_string(S))"
   ]
  },
  {
   "cell_type": "markdown",
   "id": "92941941-03e2-468b-8427-376d11b7e136",
   "metadata": {},
   "source": [
    "# 38. Implement a function to find the missing number in a given list of consecutive numbers"
   ]
  },
  {
   "cell_type": "code",
   "execution_count": 65,
   "id": "d026051f-662f-4621-be67-083635ae2734",
   "metadata": {},
   "outputs": [
    {
     "name": "stdout",
     "output_type": "stream",
     "text": [
      "4.0\n"
     ]
    }
   ],
   "source": [
    "def getMissingNo(arr, n):\n",
    "    total = (n + 1)*(n + 2)/2\n",
    "    sum_of_A = sum(arr)\n",
    "    return total - sum_of_A\n",
    " \n",
    "# Driver code\n",
    "if __name__ == '__main__':\n",
    "    arr = [1, 2, 3, 5]\n",
    "    N = len(arr)\n",
    "     \n",
    "    # Function call\n",
    "    miss = getMissingNo(arr, N)\n",
    "    print(miss)"
   ]
  },
  {
   "cell_type": "markdown",
   "id": "acf8932f-8fa7-4e5d-bab7-10c713d90d65",
   "metadata": {},
   "source": [
    "# 39. Write a program to find the sum of digits of a given number.\n"
   ]
  },
  {
   "cell_type": "code",
   "execution_count": 66,
   "id": "3f3af3a4-7c40-495a-9401-51fc5d4f1edf",
   "metadata": {},
   "outputs": [
    {
     "name": "stdout",
     "output_type": "stream",
     "text": [
      "21\n"
     ]
    }
   ],
   "source": [
    " \n",
    "def getSum(n):\n",
    " \n",
    "    sum = 0\n",
    "    while (n != 0):\n",
    " \n",
    "        sum = sum + int(n % 10)\n",
    "        n = int(n/10)\n",
    " \n",
    "    return sum\n",
    " \n",
    " \n",
    "# Driver code\n",
    "if __name__ == \"__main__\":\n",
    "    n = 687\n",
    " \n",
    "    # Function call\n",
    "    print(getSum(n))"
   ]
  },
  {
   "cell_type": "markdown",
   "id": "860d022a-d234-447f-a7ce-1e8ff6261cf8",
   "metadata": {},
   "source": [
    "# 40. Implement a function to check if a given string is a valid palindrome considering case sensitivity.\n"
   ]
  },
  {
   "cell_type": "code",
   "execution_count": 67,
   "id": "68e45ccd-bde8-4988-b6ed-c28e5a603c80",
   "metadata": {},
   "outputs": [
    {
     "name": "stdout",
     "output_type": "stream",
     "text": [
      "Yes\n"
     ]
    }
   ],
   "source": [
    "def isPalindrome(str):\n",
    " \n",
    "    # Run loop from 0 to len/2\n",
    "    for i in range(0, int(len(str)/2)):\n",
    "        if str[i] != str[len(str)-i-1]:\n",
    "            return False\n",
    "    return True\n",
    " \n",
    "# main function\n",
    "s = \"malayalam\"\n",
    "ans = isPalindrome(s)\n",
    " \n",
    "if (ans):\n",
    "    print(\"Yes\")\n",
    "else:\n",
    "    print(\"No\")"
   ]
  },
  {
   "cell_type": "markdown",
   "id": "66ed2688-599a-47e2-a4d5-ba9bf14b106a",
   "metadata": {},
   "source": [
    "# 41. Write a Python program to find the smallest missing positive integer in a list.\n"
   ]
  },
  {
   "cell_type": "code",
   "execution_count": 5,
   "id": "ef5c27d0-4336-4834-a982-dc61fbb72f97",
   "metadata": {},
   "outputs": [
    {
     "name": "stdout",
     "output_type": "stream",
     "text": [
      "4\n"
     ]
    }
   ],
   "source": [
    "l = [1,14,2,5,3,7,8,12]\n",
    "for i in range(1, max(l)):\n",
    "    if i not in  l: break\n",
    "print(i) "
   ]
  },
  {
   "cell_type": "markdown",
   "id": "e02cf88d-3104-4468-a324-e64348e63d47",
   "metadata": {},
   "source": [
    "# 42. Implement a function to find the longest palindrome substring in a given string.\n"
   ]
  },
  {
   "cell_type": "code",
   "execution_count": 1,
   "id": "9e260a81-a5be-4802-8434-4c9ee0c91370",
   "metadata": {},
   "outputs": [],
   "source": [
    "class Solution(object):\n",
    "    def longestPalindrome(self, s):\n",
    "        \"\"\"\n",
    "        :type s: str\n",
    "        :rtype: str\n",
    "        \"\"\"\n",
    "        def expand(l, r):\n",
    "            while l >= 0 and r < len(s) and s[l] == s[r]:\n",
    "                l -= 1\n",
    "                r += 1\n",
    "            return s[l+1:r]\n",
    "\n",
    "        result = \"\"\n",
    "        for i in range(len(s)):\n",
    "            sub1 = expand(i, i)\n",
    "            if len(sub1) > len(result):\n",
    "                result = sub1\n",
    "            sub2 = expand(i, i+1)\n",
    "            if len(sub2) > len(result):\n",
    "                result = sub2\n",
    "        return result"
   ]
  },
  {
   "cell_type": "code",
   "execution_count": 2,
   "id": "24ba544a-9774-49f9-9b32-e2c875e8354a",
   "metadata": {},
   "outputs": [
    {
     "data": {
      "text/plain": [
       "'mam'"
      ]
     },
     "execution_count": 2,
     "metadata": {},
     "output_type": "execute_result"
    }
   ],
   "source": [
    "obj=Solution()\n",
    "obj.longestPalindrome(\"mamta\")"
   ]
  },
  {
   "cell_type": "markdown",
   "id": "0a325292-9bc4-4374-9105-8207dadf493a",
   "metadata": {},
   "source": [
    "# 43. Write a program to find the number of occurrences of a given element in a list.\n"
   ]
  },
  {
   "cell_type": "code",
   "execution_count": 4,
   "id": "7f90d76d-2d56-468e-965d-7217167c0ea3",
   "metadata": {},
   "outputs": [
    {
     "name": "stdout",
     "output_type": "stream",
     "text": [
      "Element Count\n",
      "2    3\n",
      "1    2\n",
      "3    2\n",
      "4    2\n",
      "5    2\n",
      "dtype: int64\n"
     ]
    }
   ],
   "source": [
    "import pandas as pd\n",
    " \n",
    "# declaring the list\n",
    "l = [1, 1, 2, 2, 2, 3, 3, 4, 4, 5, 5]\n",
    " \n",
    "count = pd.Series(l).value_counts()\n",
    "print(\"Element Count\")\n",
    "print(count)"
   ]
  },
  {
   "cell_type": "markdown",
   "id": "2a62857c-2b93-45a4-800e-33e4137aa7b8",
   "metadata": {},
   "source": [
    "# 44. Implement a function to check if a given number is a perfect number.\n"
   ]
  },
  {
   "cell_type": "code",
   "execution_count": 6,
   "id": "025900d3-863e-4c59-9b2c-1750386a7724",
   "metadata": {},
   "outputs": [
    {
     "name": "stdout",
     "output_type": "stream",
     "text": [
      "The number is a perfect number\n"
     ]
    }
   ],
   "source": [
    "n = 6\n",
    "my_sum = 0\n",
    "for i in range(1, n):\n",
    "   if(n % i == 0):\n",
    "      my_sum = my_sum + i\n",
    "if (my_sum == n):\n",
    "   print(\"The number is a perfect number\")\n",
    "else:\n",
    "   print(\"The number is not a perfect number\")"
   ]
  },
  {
   "cell_type": "markdown",
   "id": "8dbde946-49a1-411d-bf73-441b038aae16",
   "metadata": {},
   "source": [
    "# 45. Write a Python program to remove all duplicates from a string.\n"
   ]
  },
  {
   "cell_type": "code",
   "execution_count": 2,
   "id": "c09a3b6c-a3cd-428f-8e7a-4980441e3074",
   "metadata": {},
   "outputs": [
    {
     "name": "stdout",
     "output_type": "stream",
     "text": [
      "geksfor"
     ]
    }
   ],
   "source": [
    "from collections import Counter\n",
    "string = \"geeksforgeeks\"\n",
    "freq = Counter(string)\n",
    "for char in string:\n",
    "    if freq[char] != 0:\n",
    "        print(char, end='')\n",
    "        freq[char] = 0"
   ]
  },
  {
   "cell_type": "markdown",
   "id": "f3824245-1c85-48fa-86a5-4caa550ab3dd",
   "metadata": {},
   "source": [
    "# 46. Implement a function to find the first missing positive\n"
   ]
  },
  {
   "cell_type": "code",
   "execution_count": 6,
   "id": "75db911a-4125-481d-a568-9f0092e6a450",
   "metadata": {},
   "outputs": [
    {
     "name": "stdout",
     "output_type": "stream",
     "text": [
      "1\n"
     ]
    }
   ],
   "source": [
    "def firstMissingPositive(arr, n):\n",
    " \n",
    "    # Loop to traverse the whole array\n",
    "    for i in range(n):\n",
    " \n",
    "        # Loop to check boundary\n",
    "        # condition and for swapping\n",
    "        while (arr[i] >= 1 and arr[i] <= n\n",
    "               and arr[i] != arr[arr[i] - 1]):\n",
    "            temp = arr[i]\n",
    "            arr[i] = arr[arr[i] - 1]\n",
    "            arr[temp - 1] = temp\n",
    " \n",
    "    # Checking any element which\n",
    "    # is not equal to i + 1\n",
    "    for i in range(n):\n",
    "        if (arr[i] != i + 1):\n",
    "            return i + 1\n",
    " \n",
    "    # Nothing is present return last index\n",
    "    return n + 1\n",
    " \n",
    " \n",
    "# Driver code\n",
    "if __name__ == '__main__':\n",
    "    arr = [0, 10, 2, -10, -20]\n",
    "    n = len(arr)\n",
    "    ans = firstMissingPositive(arr, n)\n",
    "    print(ans)"
   ]
  },
  {
   "cell_type": "code",
   "execution_count": null,
   "id": "2adb1a68-aaca-4549-8411-7bfc08dd4169",
   "metadata": {},
   "outputs": [],
   "source": []
  }
 ],
 "metadata": {
  "kernelspec": {
   "display_name": "Python 3 (ipykernel)",
   "language": "python",
   "name": "python3"
  },
  "language_info": {
   "codemirror_mode": {
    "name": "ipython",
    "version": 3
   },
   "file_extension": ".py",
   "mimetype": "text/x-python",
   "name": "python",
   "nbconvert_exporter": "python",
   "pygments_lexer": "ipython3",
   "version": "3.10.8"
  }
 },
 "nbformat": 4,
 "nbformat_minor": 5
}
