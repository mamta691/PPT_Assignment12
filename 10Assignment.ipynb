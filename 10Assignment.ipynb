{
 "cells": [
  {
   "cell_type": "markdown",
   "id": "844434ad-5fc3-4f27-930d-671f865672c5",
   "metadata": {},
   "source": [
    "# 1.Delete Node in a Linked List"
   ]
  },
  {
   "cell_type": "code",
   "execution_count": 2,
   "id": "fecc8c8d-c9e8-4c16-8fe6-6387ced16dca",
   "metadata": {},
   "outputs": [],
   "source": [
    "class Solution(object):\n",
    "    def deleteNode(self, node):\n",
    "        \"\"\"\n",
    "        :type node: ListNode\n",
    "        :rtype: void Do not return anything, modify node in-place instead.\n",
    "        \"\"\"\n",
    "        node.val=node.next.val\n",
    "        node.next=node.next.next\n",
    "        "
   ]
  },
  {
   "cell_type": "markdown",
   "id": "1f9e8d50-651a-42ae-842e-980192ed2413",
   "metadata": {},
   "source": [
    "time complexity=O(1)"
   ]
  },
  {
   "cell_type": "markdown",
   "id": "8c83ea14-7638-4966-94aa-17d2d8ef8fb0",
   "metadata": {},
   "source": [
    "# 2.Remove Linked List Elements"
   ]
  },
  {
   "cell_type": "code",
   "execution_count": 4,
   "id": "d04249c4-1d3b-43ba-a376-0d2e5794a285",
   "metadata": {},
   "outputs": [],
   "source": [
    "class Solution(object):\n",
    "    def removeElements(self, head, val):\n",
    "        \"\"\"\n",
    "        :type head: ListNode\n",
    "        :type val: int\n",
    "        :rtype: ListNode\n",
    "        \"\"\"\n",
    "        dummy = ListNode(0,head)\n",
    "        left = dummy\n",
    "        right = head\n",
    "        \n",
    "        while right:\n",
    "            if left.next.val == val:\n",
    "                left.next = left.next.next\n",
    "                right = left.next\n",
    "            else:\n",
    "                left = left.next\n",
    "                right = right.next\n",
    "        return dummy.next"
   ]
  },
  {
   "cell_type": "markdown",
   "id": "a93dd397-7bbd-477d-8321-fbdb995f2ffe",
   "metadata": {},
   "source": [
    "time complexity=O(n)\n",
    "\n",
    "space complexity=O(1)"
   ]
  },
  {
   "cell_type": "markdown",
   "id": "c2636f88-1cb0-48e9-8d01-d4eaa8aaf632",
   "metadata": {},
   "source": [
    "# 3.Merge Two Sorted List"
   ]
  },
  {
   "cell_type": "code",
   "execution_count": null,
   "id": "6ccf987b-b2cc-46e0-b76d-d6cb4017c8dd",
   "metadata": {},
   "outputs": [],
   "source": [
    "class Solution(object):\n",
    "    def mergeTwoLists(self, list1, list2):\n",
    "        \"\"\"\n",
    "        :type list1: Optional[ListNode]\n",
    "        :type list2: Optional[ListNode]\n",
    "        :rtype: Optional[ListNode]\n",
    "        \"\"\"\n",
    "        list3=ListNode()\n",
    "        temp1,temp2,temp=list1,list2,list3\n",
    "        while temp1 and temp2:\n",
    "            if temp1.val<=temp2.val:\n",
    "                temp.next=temp1\n",
    "                temp1=temp1.next\n",
    "            else:\n",
    "                temp.next=temp2\n",
    "                temp2=temp2.next\n",
    "            temp=temp.next\n",
    "        if temp1:\n",
    "            temp.next=temp1\n",
    "        if temp2:\n",
    "            temp.next=temp2\n",
    "        return list3.next\n",
    "        "
   ]
  },
  {
   "cell_type": "markdown",
   "id": "d485b3fe-0f36-4916-884d-9f8cf4c46768",
   "metadata": {},
   "source": [
    "time complexity=O(n)"
   ]
  },
  {
   "cell_type": "markdown",
   "id": "12ae40ae-4a5c-4cc0-9f10-c9b6fa96ec88",
   "metadata": {},
   "source": [
    "space complexity=O(n)"
   ]
  },
  {
   "cell_type": "markdown",
   "id": "b89286f6-4a37-468a-990d-2c59cbfe03a6",
   "metadata": {},
   "source": [
    "# 4.Linked List Cycle"
   ]
  },
  {
   "cell_type": "code",
   "execution_count": 6,
   "id": "e10747cf-5982-4a21-93b7-29d57f151349",
   "metadata": {},
   "outputs": [],
   "source": [
    "class Solution(object):\n",
    "    def detectCycle(self, head):\n",
    "        \"\"\"\n",
    "        :type head: ListNode\n",
    "        :rtype: ListNode\n",
    "        \"\"\"\n",
    "        nodemap = set()\n",
    "        while head:\n",
    "            if head in nodemap:\n",
    "                return head\n",
    "            else:\n",
    "                nodemap.add(head)\n",
    "            head= head.next\n",
    "        return None\n",
    "        "
   ]
  },
  {
   "cell_type": "markdown",
   "id": "b468db08-33e6-4172-9367-b3250d4844a8",
   "metadata": {},
   "source": [
    "Time complexity: O(n)\n",
    "\n",
    "Space complexity: O(n)"
   ]
  },
  {
   "cell_type": "markdown",
   "id": "e3022846-c2e3-4921-8be1-8af481b8d560",
   "metadata": {},
   "source": [
    "# 5.Remove the Nth node from the linked list"
   ]
  },
  {
   "cell_type": "code",
   "execution_count": 8,
   "id": "9e9ea147-c4b1-49c0-85b3-7daa0c4ac2ef",
   "metadata": {},
   "outputs": [],
   "source": [
    "class Solution(object):\n",
    "    def removeNthFromEnd(self, head, n):\n",
    "        \"\"\"\n",
    "        :type head: ListNode\n",
    "        :type n: int\n",
    "        :rtype: ListNode\n",
    "        \"\"\"\n",
    "        slow = head\n",
    "        fast = head\n",
    "        for i in range(n):\n",
    "            fast = fast.next\n",
    "\n",
    "        if fast == None:\n",
    "            return head.next\n",
    "\n",
    "        while fast.next != None:\n",
    "            fast = fast.next\n",
    "            slow = slow.next\n",
    "\n",
    "        slow.next = slow.next.next\n",
    "        return head\n"
   ]
  },
  {
   "cell_type": "markdown",
   "id": "c1b51ee9-3ac4-4f11-9a28-487731056b43",
   "metadata": {},
   "source": [
    "# 6.Given a singly linked list of size N. The task is to left-shift the linked list by k nodes, where k is a given positive integer smaller than or equal to the length of the linked list.\n",
    "Input: N = 5\n",
    "value[] = {2, 4, 7, 8, 9}\n",
    "k = 3\n",
    "Output: 8 9 2 4 7\n",
    "Explanation:Rotate 1:4 -> 7 -> 8 -> 9 -> 2\n",
    "Rotate 2: 7 -> 8 -> 9 -> 2 -> 4\n",
    "Rotate 3: 8 -> 9 -> 2 -> 4 -> 7\n"
   ]
  },
  {
   "cell_type": "code",
   "execution_count": 9,
   "id": "59f80b91-590b-443b-b6d9-765c9998d612",
   "metadata": {},
   "outputs": [
    {
     "name": "stdout",
     "output_type": "stream",
     "text": [
      "1 2 3 4 5 "
     ]
    }
   ],
   "source": [
    "class Node: \n",
    "    def __init__(self, data): \n",
    "        self.data = data \n",
    "        self.next = next\n",
    "  \n",
    "# Function to insert Node \n",
    "def insert(root, item): \n",
    "    temp = Node(0) \n",
    "    temp.data = item \n",
    "    temp.next = root \n",
    "    root = temp\n",
    "    return root \n",
    "  \n",
    "def display(root): \n",
    "    while (root != None): \n",
    "        print(root.data, end=\" \") \n",
    "        root = root.next \n",
    "  \n",
    "def arrayToList(arr, n): \n",
    "    root = None \n",
    "    for i in range(n - 1, -1, -1): \n",
    "        root = insert(root, arr[i])\n",
    "    return root \n",
    "  \n",
    "# Driver code \n",
    "if __name__ == '__main__': \n",
    "    arr = [1, 2, 3, 4, 5]; \n",
    "    n = len(arr) \n",
    "    root = arrayToList(arr, n); \n",
    "    display(root) "
   ]
  },
  {
   "cell_type": "markdown",
   "id": "7715ee26-38db-4cc1-8c94-0a8ff85b075e",
   "metadata": {},
   "source": [
    "time complexity=O(n)"
   ]
  },
  {
   "cell_type": "markdown",
   "id": "58944df5-e9bb-405a-95e8-543476f4fbad",
   "metadata": {},
   "source": [
    "# 7.Given the head of a linked list, we repeatedly delete consecutive sequences of nodes that sum to 0 until there are no such sequences.\n",
    "After doing so, return the head of the final linked list.  You may return any such answer.\n",
    "(Note that in the examples below, all sequences are serializations of ListNode objects.)\n",
    "Input: head = [1,2,-3,3,1]\n",
    "Output: [3,1]\n",
    "Note: The answer [1,2,1] would also be accepted.\n"
   ]
  },
  {
   "cell_type": "code",
   "execution_count": 22,
   "id": "427d7f83-d91c-43b4-96af-28d38fa33bc1",
   "metadata": {},
   "outputs": [],
   "source": [
    "class Solution(object):\n",
    "    def removeZeroSumSublists(self, head):\n",
    "        \"\"\"\n",
    "        :type head: ListNode\n",
    "        :rtype: ListNode\n",
    "        \"\"\"\n",
    "       \n",
    "        dummy = ListNode(next=head)\n",
    "        last = {}\n",
    "        s, cur = 0, dummy\n",
    "        while cur:\n",
    "            s += cur.val\n",
    "            last[s] = cur\n",
    "            cur = cur.next\n",
    "        s, cur = 0, dummy\n",
    "        while cur:\n",
    "            s += cur.val\n",
    "            cur.next = last[s].next\n",
    "            cur = cur.next\n",
    "        return dummy.next\n",
    "\n",
    "    \n",
    "     \n",
    "        "
   ]
  },
  {
   "cell_type": "markdown",
   "id": "c294d007-37cb-4122-969d-8ad8df146479",
   "metadata": {},
   "source": [
    "\n",
    "# 8.Given the head of a singly linked list, group all the nodes with odd indices together followed by the nodes with even indices, and return the reordered list.\n",
    "The first node is considered odd, and the second node is even, and so on.\n",
    "Note that the relative order inside both the even and odd groups should remain as it was in the input.\n",
    "You must solve the problem in O(1) extra space complexity and O(n) time complexity.\n",
    "Input: head = [1,2,3,4,5]\n",
    "Output: [1,3,5,2,4]\n"
   ]
  },
  {
   "cell_type": "code",
   "execution_count": null,
   "id": "6553e397-9947-4d91-97bd-44b58e5fee9d",
   "metadata": {},
   "outputs": [],
   "source": [
    "class Solution(object):\n",
    "    def oddEvenList(self, head):\n",
    "        \"\"\"\n",
    "        :type head: ListNode\n",
    "        :rtype: ListNode\n",
    "        \"\"\"\n",
    "if head == None or head.next == None:\n",
    "            return head\n",
    "\t\t\t\n",
    "        last: Optional[ListNode] = head\n",
    "\t\tprev: Optional[ListNode] = None\n",
    "\t\t\n",
    "\t\t# to store even nodes sperately\n",
    "        evenNode: Optional[ListNode] = ListNode()\n",
    "        currentEven: Optional[ListNode] = evenNode\n",
    "      \n",
    "        step: int = 1\n",
    "            \n",
    "        while last:\n",
    "            if step%2==0:\n",
    "                currentEven.next = last\n",
    "                currentEven = last\n",
    "                prev.next = last.next\n",
    "                last = last.next\n",
    "                step += 1\n",
    "                continue\n",
    "                \n",
    "            prev = last\n",
    "            step += 1\n",
    "            last = last.next\n",
    "\t\t\t\n",
    "\t\t# connecting even nodes after odd ones\n",
    "        currentEven.next = None\n",
    "        prev.next = evenNode.next\n",
    "        \n",
    "        return head"
   ]
  }
 ],
 "metadata": {
  "kernelspec": {
   "display_name": "Python 3 (ipykernel)",
   "language": "python",
   "name": "python3"
  },
  "language_info": {
   "codemirror_mode": {
    "name": "ipython",
    "version": 3
   },
   "file_extension": ".py",
   "mimetype": "text/x-python",
   "name": "python",
   "nbconvert_exporter": "python",
   "pygments_lexer": "ipython3",
   "version": "3.10.8"
  }
 },
 "nbformat": 4,
 "nbformat_minor": 5
}
