{
 "cells": [
  {
   "cell_type": "markdown",
   "id": "ba20ee1a-da91-4603-80d3-55148fe10f75",
   "metadata": {},
   "source": [
    "<aside>\n",
    "💡##  Question 1\n",
    "Given an integer array nums of 2n integers, group these integers into n pairs (a1, b1), (a2, b2),..., (an, bn) such that the sum of min(ai, bi) for all i is maximized. Return the maximized sum.\n",
    "\n",
    "**Example 1:**\n",
    "Input: nums = [1,4,3,2]\n",
    "Output: 4\n",
    "\n",
    "**Explanation:** All possible pairings (ignoring the ordering of elements) are:\n",
    "\n",
    "1. (1, 4), (2, 3) -> min(1, 4) + min(2, 3) = 1 + 2 = 3\n",
    "2. (1, 3), (2, 4) -> min(1, 3) + min(2, 4) = 1 + 2 = 3\n",
    "3. (1, 2), (3, 4) -> min(1, 2) + min(3, 4) = 1 + 3 = 4\n",
    "So the maximum possible sum is 4\n",
    "</aside>"
   ]
  },
  {
   "cell_type": "code",
   "execution_count": 32,
   "id": "25a4b6a0-cf92-44cc-bd51-b0b2f462ccba",
   "metadata": {},
   "outputs": [],
   "source": [
    "class Solution(object):\n",
    "    def arrayPairSum(self, nums):\n",
    "        \"\"\"\n",
    "        :type nums: List[int]\n",
    "        :dtype: int\n",
    "        \"\"\"\n",
    "        nums.sort()\n",
    "        s=0\n",
    "        for i in range(0,len(nums),2):\n",
    "            s+=min(nums[i],nums[i+1])\n",
    "            \n",
    "            return sum(sorted(nums)[::2])"
   ]
  },
  {
   "cell_type": "code",
   "execution_count": 33,
   "id": "ad2db3c9-9a5c-4cfe-87d9-9cc4225d13dd",
   "metadata": {},
   "outputs": [
    {
     "data": {
      "text/plain": [
       "4"
      ]
     },
     "execution_count": 33,
     "metadata": {},
     "output_type": "execute_result"
    }
   ],
   "source": [
    "ob=Solution()\n",
    "ob.arrayPairSum([1,4,3,2])"
   ]
  },
  {
   "cell_type": "markdown",
   "id": "e4bf4605-6e86-4d63-9cc3-f19813b0079a",
   "metadata": {},
   "source": [
    "time complexity=O(n)"
   ]
  },
  {
   "cell_type": "markdown",
   "id": "da2f4bc2-edf8-494f-9635-01a6700856d7",
   "metadata": {},
   "source": [
    "# Question 2 Alice has n candies, where the ith candy is of type candyType[i]. Alice noticed that she started to gain weight, so she visited a doctor. \n",
    "\n",
    "The doctor advised Alice to only eat n / 2 of the candies she has (n is always even). Alice likes her candies very much, and she wants to eat the maximum number of different types of candies while still following the doctor's advice. \n",
    "\n",
    "Given the integer array candyType of length n, return the maximum number of different types of candies she can eat if she only eats n / 2 of them.\n",
    "\n",
    "Example 1:\n",
    "Input: candyType = [1,1,2,2,3,3]\n",
    "Output: 3\n",
    "\n",
    "Explanation: Alice can only eat 6 / 2 = 3 candies. Since there are only 3 types, she can eat one of each type."
   ]
  },
  {
   "cell_type": "code",
   "execution_count": 34,
   "id": "29750590-66ed-44bb-b043-026f1e5dcea3",
   "metadata": {},
   "outputs": [],
   "source": [
    "class Solution(object):\n",
    "    def distributeCandies(self, candyType):\n",
    "        \"\"\"\n",
    "        :type candyType: List[int]\n",
    "        :rtype: int\n",
    "        \"\"\"\n",
    "\n",
    "        a=len(candyType)\n",
    "\n",
    "        b=len(set(candyType))\n",
    "\n",
    "        \n",
    "        return min(a,b)"
   ]
  },
  {
   "cell_type": "code",
   "execution_count": 35,
   "id": "fa17a694-40f5-4121-8a5d-b2bc50b5f3f1",
   "metadata": {},
   "outputs": [
    {
     "data": {
      "text/plain": [
       "3"
      ]
     },
     "execution_count": 35,
     "metadata": {},
     "output_type": "execute_result"
    }
   ],
   "source": [
    "ob=Solution()\n",
    "ob.distributeCandies([1,1,2,2,3,3])"
   ]
  },
  {
   "cell_type": "markdown",
   "id": "4454cece-e039-4503-8a12-0c3e92e3b5f3",
   "metadata": {},
   "source": [
    "Time complexity:\n",
    "O(n) becuase we went over the array once\n",
    "\n",
    "Space complexity:\n",
    "O(n) becuase we saved at most n/2 numbers."
   ]
  },
  {
   "cell_type": "markdown",
   "id": "280958b1-b123-42cb-a690-498d6e498c0e",
   "metadata": {},
   "source": [
    "# Question 3\n",
    "We define a harmonious array as an array where the difference between its maximum value\n",
    "and its minimum value is exactly 1.\n",
    "\n",
    "Given an integer array nums, return the length of its longest harmonious subsequence\n",
    "among all its possible subsequences.\n",
    "\n",
    "A subsequence of an array is a sequence that can be derived from the array by deleting some or no elements without changing the order of the remaining elements.\n",
    "\n",
    "Example 1:\n",
    "Input: nums = [1,3,2,2,5,2,3,7]\n",
    "Output: 5\n",
    "\n",
    "Explanation: The longest harmonious subsequence is [3,2,2,2,3]."
   ]
  },
  {
   "cell_type": "code",
   "execution_count": 48,
   "id": "0b0cfc12-87c7-4349-bf90-f9e112c5a989",
   "metadata": {},
   "outputs": [],
   "source": [
    "class Solution(object):\n",
    "    def findLHS(self, nums):\n",
    "        \"\"\"\n",
    "        :type nums: List[int]\n",
    "        :rtype: int\n",
    "        \"\"\"\n",
    "        \n",
    "        my_dict = defaultdict(int)\n",
    "        # keep in dict the number of times each number appears:\n",
    "        for num in nums:\n",
    "            my_dict[num]+=1\n",
    "            \n",
    "        max_ = 0\n",
    "        # for each number in dict check if it+its following number is more than previous max:\n",
    "        for num in my_dict.keys():\n",
    "            if my_dict.get(num+1):\n",
    "                max_ = max(max_, my_dict[num] + my_dict.get(num+1))\n",
    "        return max_"
   ]
  },
  {
   "cell_type": "markdown",
   "id": "45659530-fb1c-4125-a470-21d60009f693",
   "metadata": {},
   "source": [
    "# Question 4\n",
    "You have a long flowerbed in which some of the plots are planted, and some are not.\n",
    "However, flowers cannot be planted in adjacent plots.\n",
    "Given an integer array flowerbed containing 0's and 1's, where 0 means empty and 1 means not empty, and an integer n, return true if n new flowers can be planted in the flowerbed without violating the no-adjacent-flowers rule and false otherwise.\n",
    "\n",
    "Example 1:\n",
    "Input: flowerbed = [1,0,0,0,1], n = 1\n",
    "Output: true"
   ]
  },
  {
   "cell_type": "code",
   "execution_count": 51,
   "id": "9a9a8f27-824c-4114-b544-e9c8bf35d3ab",
   "metadata": {},
   "outputs": [],
   "source": [
    "class Solution(object):\n",
    "    def canPlaceFlowers(self, flowerbed, n):\n",
    "        \"\"\"\n",
    "        :type flowerbed: List[int]\n",
    "        :type n: int\n",
    "        :rtype: bool\n",
    "        \"\"\"\n",
    "        if n == 0:\n",
    "            return True\n",
    "        for i in range(len(flowerbed)):\n",
    "            if flowerbed[i] == 0 and (i == 0 or flowerbed[i-1] == 0) and (i == len(flowerbed)-1 or flowerbed[i+1] == 0):\n",
    "                flowerbed[i] = 1\n",
    "                n -= 1\n",
    "                if n == 0:\n",
    "                    return True\n",
    "        return False\n"
   ]
  },
  {
   "cell_type": "code",
   "execution_count": 53,
   "id": "62876462-de39-4077-ba77-59f88e461f4c",
   "metadata": {},
   "outputs": [
    {
     "data": {
      "text/plain": [
       "False"
      ]
     },
     "execution_count": 53,
     "metadata": {},
     "output_type": "execute_result"
    }
   ],
   "source": [
    "ob=Solution()\n",
    "ob.canPlaceFlowers([1,0,0,0,1],5)"
   ]
  },
  {
   "cell_type": "markdown",
   "id": "728b3948-2a35-4ad1-9c9c-c06dd81bac72",
   "metadata": {},
   "source": [
    "T(N)=O(N)"
   ]
  },
  {
   "cell_type": "markdown",
   "id": "992c284f-f4f6-4033-a4ed-bfa25c234cec",
   "metadata": {},
   "source": [
    "## Question 5\n",
    "Given an integer array nums, find three numbers whose product is maximum and return the maximum product.\n",
    "\n",
    "Example 1:\n",
    "Input: nums = [1,2,3]\n",
    "Output: 6"
   ]
  },
  {
   "cell_type": "code",
   "execution_count": 59,
   "id": "9ac546e3-1126-432d-87ed-958b25230f56",
   "metadata": {},
   "outputs": [],
   "source": [
    "class Solution(object):\n",
    "    def maximumProduct(self, a):\n",
    "        \"\"\"\n",
    "        :type nums: List[int]\n",
    "        :rtype: int\n",
    "        \"\"\"\n",
    "        a.sort(reverse=True)\n",
    "        v1=a[0]*a[1]*a[2]\n",
    "        v2=a[0]*a[-1]*a[-2]\n",
    "        return max(v1,v2)\n"
   ]
  },
  {
   "cell_type": "code",
   "execution_count": 60,
   "id": "01a5eb8c-17e5-48b1-a57e-e835c4960160",
   "metadata": {},
   "outputs": [
    {
     "data": {
      "text/plain": [
       "6"
      ]
     },
     "execution_count": 60,
     "metadata": {},
     "output_type": "execute_result"
    }
   ],
   "source": [
    "ob=Solution()\n",
    "ob.maximumProduct([1,2,3])"
   ]
  },
  {
   "cell_type": "markdown",
   "id": "bd1cf847-0f0b-40aa-b259-3f648ccc24e3",
   "metadata": {},
   "source": [
    "T(N)=O(N)"
   ]
  },
  {
   "cell_type": "markdown",
   "id": "cdf861b2-f75c-411c-92c3-bff340c49dec",
   "metadata": {},
   "source": [
    "## Question 6\n",
    "Given an array of integers nums which is sorted in ascending order, and an integer target,\n",
    "write a function to search target in nums. If target exists, then return its index. Otherwise,\n",
    "return -1.\n",
    "\n",
    "You must write an algorithm with O(log n) runtime complexity.\n",
    "\n",
    "Input: nums = [-1,0,3,5,9,12], target = 9\n",
    "Output: 4\n",
    "\n",
    "Explanation: 9 exists in nums and its index is 4"
   ]
  },
  {
   "cell_type": "code",
   "execution_count": 62,
   "id": "655c465b-b9bf-4363-81d6-737f27a3a2c6",
   "metadata": {},
   "outputs": [],
   "source": [
    "class Solution(object):\n",
    "    def search(self, nums, target):\n",
    "        \"\"\"\n",
    "        :type nums: List[int]\n",
    "        :type target: int\n",
    "        :rtype: int\n",
    "        \"\"\"\n",
    "        \n",
    "        left = 0\n",
    "        \n",
    "        right = len(nums) - 1\n",
    "        \n",
    "        \n",
    "        while left <= right:\n",
    "            \n",
    "            mid = (left + right) // 2\n",
    "            \n",
    "            \n",
    "            if nums[mid] == target:\n",
    "                return mid\n",
    "            elif nums[mid] < target:\n",
    "                left = mid + 1\n",
    "            else:\n",
    "                right = mid - 1\n",
    "        "
   ]
  },
  {
   "cell_type": "code",
   "execution_count": 63,
   "id": "35986d55-26b9-4ee0-ba5b-b475bfe0dd32",
   "metadata": {},
   "outputs": [
    {
     "data": {
      "text/plain": [
       "4"
      ]
     },
     "execution_count": 63,
     "metadata": {},
     "output_type": "execute_result"
    }
   ],
   "source": [
    "ob=Solution()\n",
    "ob.search([-1,0,3,5,9,12],9)"
   ]
  },
  {
   "cell_type": "markdown",
   "id": "7745ecf5-d556-4864-b933-326c4cf15bb4",
   "metadata": {},
   "source": [
    "T(N)=O(NlogN)\n",
    "space=O(N)"
   ]
  },
  {
   "cell_type": "markdown",
   "id": "72dcdfe7-f822-4fc9-819e-c36e0dbe3f1f",
   "metadata": {},
   "source": [
    "## Question 7\n",
    "An array is monotonic if it is either monotone increasing or monotone decreasing.\n",
    "\n",
    "An array nums is monotone increasing if for all i <= j, nums[i] <= nums[j]. An array nums is\n",
    "monotone decreasing if for all i <= j, nums[i] >= nums[j].\n",
    "\n",
    "Given an integer array nums, return true if the given array is monotonic, or false otherwise.\n",
    "\n",
    "Example 1:\n",
    "Input: nums = [1,2,2,3]\n",
    "Output: true"
   ]
  },
  {
   "cell_type": "code",
   "execution_count": 66,
   "id": "2a5b085b-e50d-42eb-90ab-fa13fa4e1b70",
   "metadata": {},
   "outputs": [],
   "source": [
    "class Solution(object):\n",
    "    def isMonotonic(self, A):\n",
    "        \"\"\"\n",
    "        :type nums: List[int]\n",
    "        :rtype: bool\n",
    "        \"\"\"\n",
    "        inc = True\n",
    "        dec = True\n",
    "        for i in range(len(A)-1):\n",
    "            if A[i] > A[i+1]:\n",
    "                inc = False\n",
    "                \n",
    "            if A[i] < A[i+1]:\n",
    "                dec = False\n",
    "                \n",
    "        return inc or dec"
   ]
  },
  {
   "cell_type": "code",
   "execution_count": 67,
   "id": "4a40b90c-c46a-4c7e-a2ed-92e25a5d8c63",
   "metadata": {},
   "outputs": [
    {
     "data": {
      "text/plain": [
       "True"
      ]
     },
     "execution_count": 67,
     "metadata": {},
     "output_type": "execute_result"
    }
   ],
   "source": [
    "ob=Solution()\n",
    "ob.isMonotonic([1,2,2,3])"
   ]
  },
  {
   "cell_type": "markdown",
   "id": "c7f95951-e797-4f89-9c99-1209e762ffb9",
   "metadata": {},
   "source": [
    "Time complexity=O(N)"
   ]
  },
  {
   "cell_type": "markdown",
   "id": "ea27139a-9212-41e5-a80c-86f198cef390",
   "metadata": {},
   "source": [
    "# Question 8\n",
    "You are given an integer array nums and an integer k.\n",
    "\n",
    "In one operation, you can choose any index i where 0 <= i < nums.length and change nums[i] to nums[i] + x where x is an integer from the range [-k, k]. You can apply this operation at most once for each index i.\n",
    "\n",
    "The score of nums is the difference between the maximum and minimum elements in nums.\n",
    "\n",
    "Return the minimum score of nums after applying the mentioned operation at most once for each index in it.\n",
    "\n",
    "Example 1:\n",
    "Input: nums = [1], k = 0\n",
    "Output: 0\n",
    "\n",
    "Explanation: The score is max(nums) - min(nums) = 1 - 1 = 0."
   ]
  },
  {
   "cell_type": "code",
   "execution_count": 68,
   "id": "7c115b4b-a07b-4c35-8ebe-ca09b8a5cafc",
   "metadata": {},
   "outputs": [],
   "source": [
    "class Solution(object):\n",
    "    def smallestRangeI(self, nums, k):\n",
    "        \"\"\"\n",
    "        :type nums: List[int]\n",
    "        :type k: int\n",
    "        :rtype: int\n",
    "        \"\"\"\n",
    "\n",
    "        x=max(nums)\n",
    "        y=min(nums)\n",
    "        return max(0,(x-k)-(y+k))"
   ]
  },
  {
   "cell_type": "code",
   "execution_count": 69,
   "id": "2d92be13-559b-428f-ae9c-a1fcecf0e68d",
   "metadata": {},
   "outputs": [
    {
     "data": {
      "text/plain": [
       "0"
      ]
     },
     "execution_count": 69,
     "metadata": {},
     "output_type": "execute_result"
    }
   ],
   "source": [
    "obj=Solution()\n",
    "obj.smallestRangeI([1],0)"
   ]
  },
  {
   "cell_type": "markdown",
   "id": "fade4b55-240b-490c-b2e9-c667ab76857e",
   "metadata": {},
   "source": [
    "T(n)=O(N)"
   ]
  },
  {
   "cell_type": "code",
   "execution_count": null,
   "id": "2fa047e5-263d-46ed-8881-7dda69634890",
   "metadata": {},
   "outputs": [],
   "source": []
  }
 ],
 "metadata": {
  "kernelspec": {
   "display_name": "Python 3 (ipykernel)",
   "language": "python",
   "name": "python3"
  },
  "language_info": {
   "codemirror_mode": {
    "name": "ipython",
    "version": 3
   },
   "file_extension": ".py",
   "mimetype": "text/x-python",
   "name": "python",
   "nbconvert_exporter": "python",
   "pygments_lexer": "ipython3",
   "version": "3.10.8"
  }
 },
 "nbformat": 4,
 "nbformat_minor": 5
}
